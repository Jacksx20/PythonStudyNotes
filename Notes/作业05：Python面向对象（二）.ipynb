{
 "cells": [
  {
   "cell_type": "markdown",
   "metadata": {
    "collapsed": false
   },
   "source": [
    "\n",
    "\n",
    "# 第一题（30分）\n",
    "\n",
    "数据如下： \n",
    "\n",
    "```bash\n",
    "stu1.txt 孙同学,2020-5-21,20,'男',77,56,77,76,92,58,-91,84,69,-91\n",
    "stu2.txt 赵同学,2020-11-3,24,'女',65,68,72,95,-81,71,86,91,57,91\n",
    "stu3.txt 王同学,2021-8-7,25,'男',87,78,90,-76,88,47,100,65,69,100 \n",
    "stu4.txt 李同学,2021-8-10,29,'男',92,54,85,71,-91,68,77,68,95,95\n",
    "```\n",
    "\n",
    "以上四个txt文档在work路径下可以找到。\n",
    "\n",
    "定义Student类，包括name、dob、age、gender和score属性，包括top3方法用来返回学生的最大的3个成绩（可重复）、sanitize方法用来将负的分数变为正的分数，负的分数可能是输入错误。声明stu_list对象组数用于存储所有的学生对象。最后输出所有的学生信息包括姓名、生日、年龄、性别、最高的3个分数。\n",
    "\n",
    "第一题的输出结果如下，供参考：\n",
    "\n",
    "![](https://ai-studio-static-online.cdn.bcebos.com/2a1b5032bcc740b6a681e50497c2b94452f39a624a044ccd9718d2edd1269b06)\n"
   ]
  },
  {
   "cell_type": "markdown",
   "metadata": {
    "collapsed": false
   },
   "source": [
    "# 方法一："
   ]
  },
  {
   "cell_type": "code",
   "execution_count": 1,
   "metadata": {
    "collapsed": false
   },
   "outputs": [],
   "source": [
    "def get_coach_data(filename):\r\n",
    "    with open(filename) as f:\r\n",
    "        line = f.readline()\r\n",
    "    return line.strip().split(',')"
   ]
  },
  {
   "cell_type": "code",
   "execution_count": 2,
   "metadata": {
    "collapsed": false
   },
   "outputs": [
    {
     "name": "stdout",
     "output_type": "stream",
     "text": [
      "姓名：孙同学,生日：2020-5-21,年龄：20,性别：'男',最高的3个分数：[92, 91, 84]\n",
      "姓名：赵同学,生日：2020-11-3,年龄：24,性别：'女',最高的3个分数：[95, 91, 86]\n",
      "姓名：王同学,生日：2021-8-7,年龄：25,性别：'男',最高的3个分数：[100, 90, 88]\n",
      "姓名：李同学,生日：2021-8-10,年龄：29,性别：'男',最高的3个分数：[95, 92, 91]\n"
     ]
    }
   ],
   "source": [
    "#定义Student类\r\n",
    "class Student:\r\n",
    "    def __init__(self,a_name,a_dob,a_age,a_gender,a_score=[]):\r\n",
    "        self.name = a_name\r\n",
    "        self.dob = a_dob\r\n",
    "        self.age = a_age\r\n",
    "        self.gender = a_gender\r\n",
    "        self.score = a_score\r\n",
    "\r\n",
    "    def top3(self):\r\n",
    "        return sorted(set([self.sanitize(t) for t in self.score]),reverse=True)[0:3]\r\n",
    "        \r\n",
    "    def sanitize(self,score_string):\r\n",
    "        if '-' in score_string:\r\n",
    "            score_string = abs(int(score_string))\r\n",
    "        else:\r\n",
    "            score_string = int(score_string)\r\n",
    "        return score_string           \r\n",
    "\r\n",
    "\r\n",
    "# 从文件中读取数据声明stu_list对象组数用于存储所有的学生对象\r\n",
    "stu_list1 = get_coach_data('./work/stu1.txt')\r\n",
    "stu_list2 = get_coach_data('./work/stu2.txt')\r\n",
    "stu_list3 = get_coach_data('./work/stu3.txt')\r\n",
    "stu_list4 = get_coach_data('./work/stu4.txt')\r\n",
    "\r\n",
    "#方法一\r\n",
    "# 创建Student对象\r\n",
    "stu1_name = stu_list1.pop(0)\r\n",
    "stu1_dob = stu_list1.pop(0)\r\n",
    "stu1_ago = stu_list1.pop(0)\r\n",
    "stu1_gender = stu_list1.pop(0)\r\n",
    "stu1_score = stu_list1\r\n",
    "\r\n",
    "stu_1 = Student(stu1_name,stu1_dob,stu1_ago,stu1_gender,stu1_score)\r\n",
    "\r\n",
    "#方法二\r\n",
    "# 创建Student对象\r\n",
    "stu_2 = Student(stu_list2.pop(0),stu_list2.pop(0),stu_list2.pop(0),stu_list2.pop(0),stu_list2)\r\n",
    "stu_3 = Student(stu_list3.pop(0),stu_list3.pop(0),stu_list3.pop(0),stu_list3.pop(0),stu_list3)\r\n",
    "stu_4 = Student(stu_list4.pop(0),stu_list4.pop(0),stu_list4.pop(0),stu_list4.pop(0),stu_list4)\r\n",
    "\r\n",
    "#按要求输出\r\n",
    "print('姓名：%s,生日：%s,年龄：%s,性别：%s,最高的3个分数：%s' %(stu_1.name,stu_1.dob,stu_1.age,stu_1.gender,stu_1.top3()))\r\n",
    "print('姓名：%s,生日：%s,年龄：%s,性别：%s,最高的3个分数：%s' %(stu_2.name,stu_2.dob,stu_2.age,stu_2.gender,stu_2.top3()))\r\n",
    "print('姓名：%s,生日：%s,年龄：%s,性别：%s,最高的3个分数：%s' %(stu_3.name,stu_3.dob,stu_3.age,stu_3.gender,stu_3.top3()))\r\n",
    "print('姓名：%s,生日：%s,年龄：%s,性别：%s,最高的3个分数：%s' %(stu_4.name,stu_4.dob,stu_4.age,stu_4.gender,stu_4.top3()))"
   ]
  },
  {
   "cell_type": "markdown",
   "metadata": {
    "collapsed": false
   },
   "source": [
    "# 方法二："
   ]
  },
  {
   "cell_type": "code",
   "execution_count": 3,
   "metadata": {
    "collapsed": false
   },
   "outputs": [
    {
     "name": "stdout",
     "output_type": "stream",
     "text": [
      "姓名：孙同学,生日：2020-5-21,年龄：20,性别：'男',最高的3个分数：[92, 91, 84]\n",
      "姓名：赵同学,生日：2020-11-3,年龄：24,性别：'女',最高的3个分数：[95, 91, 86]\n",
      "姓名：王同学,生日：2021-8-7,年龄：25,性别：'男',最高的3个分数：[100, 90, 88]\n",
      "姓名：李同学,生日：2021-8-10,年龄：29,性别：'男',最高的3个分数：[95, 92, 91]\n"
     ]
    }
   ],
   "source": [
    "\r\n",
    "class Student:\r\n",
    "    def __init__(self,a_name,a_dob,a_age,a_gender,a_score=[]):\r\n",
    "        self.name = a_name\r\n",
    "        self.dob = a_dob\r\n",
    "        self.age = a_age\r\n",
    "        self.gender = a_gender\r\n",
    "        self.score = a_score\r\n",
    "\r\n",
    "    def top3(self):\r\n",
    "        return sorted(set([self.sanitize(t) for t in self.score]),reverse=True)[0:3]\r\n",
    "        \r\n",
    "    def sanitize(self,score_string):\r\n",
    "        if '-' in score_string:\r\n",
    "            score_string = abs(int(score_string))\r\n",
    "        else:\r\n",
    "            score_string = int(score_string)\r\n",
    "        return score_string   \r\n",
    "\r\n",
    "def get_coach_data(filename):\r\n",
    "    with open(filename) as f:\r\n",
    "        line = f.readline()\r\n",
    "    return line.strip().split(',')\r\n",
    "\r\n",
    "def show(filename):\r\n",
    "    stu_list = get_coach_data(filename)\r\n",
    "    stu = Student(stu_list.pop(0),stu_list.pop(0),stu_list.pop(0),stu_list.pop(0),stu_list)\r\n",
    "    print('姓名：%s,生日：%s,年龄：%s,性别：%s,最高的3个分数：%s' %(stu.name,stu.dob,stu.age,stu.gender,stu.top3()))\r\n",
    "\r\n",
    "show('./work/stu1.txt')\r\n",
    "show('./work/stu2.txt')\r\n",
    "show('./work/stu3.txt')\r\n",
    "show('./work/stu4.txt')"
   ]
  },
  {
   "cell_type": "markdown",
   "metadata": {
    "collapsed": false
   },
   "source": [
    "\n",
    "# 第二题（30分）\n",
    "\n",
    "数据格式如下：\n",
    "```bash\n",
    "stu5.txt 特长同学,2020-10-5,20,'男',180,87,98,77,76,92,58,-76,84,69,-47\n",
    "stu6.txt 特长同学,2020-10-6,20,'女',230,76,48,82,88,92,58,-91,84,69,-68\n",
    "```\n",
    "\n",
    "以上两个txt文档在work路径下可以找到。\n",
    "\n",
    "定义Spostudent、Artstudent为Student的子类，在子类的属性里面新增了spe为特长分数。Spostudent包括的top3方法返回的是最低的3个得分（可重复），Artstudent包括top3方法返回的是最高的3个得分（可重复），最后使用多态的方式输出2个特长同学的姓名、生日、年龄、性别、分数、特长分。\n",
    "\n",
    "第二题的输出结果如下，供参考：\n",
    "\n",
    "![](https://ai-studio-static-online.cdn.bcebos.com/585b454f8c2f45e1a08dc9a7fc7c017c596974c8ca91449298c2b72f88c99a03)\n"
   ]
  },
  {
   "cell_type": "code",
   "execution_count": null,
   "metadata": {
    "collapsed": false
   },
   "outputs": [],
   "source": []
  },
  {
   "cell_type": "markdown",
   "metadata": {
    "collapsed": false
   },
   "source": [
    "# 方法一："
   ]
  },
  {
   "cell_type": "code",
   "execution_count": 4,
   "metadata": {
    "collapsed": false
   },
   "outputs": [
    {
     "name": "stdout",
     "output_type": "stream",
     "text": [
      "姓名：特长同学,生日：2020-10-5,年龄：20,性别：'男',最高的3个分数：[56, 58, 69],特长分：180\n",
      "姓名：特长同学,生日：2020-10-6,年龄：20,性别：'女',最高的3个分数：[92, 91, 91],特长分：230\n"
     ]
    }
   ],
   "source": [
    "#定义Student类\r\n",
    "class Student:\r\n",
    "    def __init__(self,a_name,a_dob,a_age,a_gender,a_score=[]):\r\n",
    "        self.name = a_name\r\n",
    "        self.dob = a_dob\r\n",
    "        self.age = a_age\r\n",
    "        self.gender = a_gender\r\n",
    "        self.score = a_score\r\n",
    "\r\n",
    "    def bot3(self):\r\n",
    "        return sorted(set([self.sanitize(t) for t in self.score]))[0:3]\r\n",
    "\r\n",
    "    def top3(self):\r\n",
    "        newlist = []\r\n",
    "        for t in self.score:\r\n",
    "            t = int(t)\r\n",
    "            if t < 0 :\r\n",
    "                t = -t\r\n",
    "            newlist.append(t)\r\n",
    "        return sorted(newlist)[::-1][:3]\r\n",
    "        \r\n",
    "    def sanitize(self,score_string):\r\n",
    "        if '-' in score_string:\r\n",
    "            score_string = abs(int(score_string))\r\n",
    "        else:\r\n",
    "            score_string = int(score_string)\r\n",
    "        return score_string  \r\n",
    "\r\n",
    "\r\n",
    "#定义Student的子类Spostudent类\r\n",
    "class Spostudent(Student):\r\n",
    "    def __init__(self,a_name,a_dob,a_age,a_gender,a_spost_score,a_score):\r\n",
    "        #调用父类\r\n",
    "        Student.__init__(self,a_name,a_dob,a_age,a_gender,a_score)\r\n",
    "        self.spost = a_spost_score\r\n",
    "\r\n",
    "#定义Artstudent类\r\n",
    "class Artstudent(Student):\r\n",
    "    def __init__(self,a_name,a_dob,a_age,a_gender,a_spost_score,a_score):\r\n",
    "        #调用父类\r\n",
    "        Student.__init__(self,a_name,a_dob,a_age,a_gender,a_score)\r\n",
    "        self.spost = a_spost_score\r\n",
    "\r\n",
    "# 从文件中读取数据声明stu_list对象组数用于存储所有的学生对象\r\n",
    "stu_list5 = get_coach_data('./work/stu5.txt')\r\n",
    "stu_list6 = get_coach_data('./work/stu6.txt')  \r\n",
    "\r\n",
    "# 创建Spostudent对象\r\n",
    "stu_5 = Spostudent(stu_list5.pop(0),stu_list5.pop(0),stu_list5.pop(0),stu_list5.pop(0),stu_list5.pop(0),stu_list5)\r\n",
    "# 创建Artstudent对象\r\n",
    "stu_6 = Artstudent(stu_list6.pop(0),stu_list6.pop(0),stu_list6.pop(0),stu_list6.pop(0),stu_list6.pop(0),stu_list6)\r\n",
    "\r\n",
    "#按要求输出\r\n",
    "print('姓名：%s,生日：%s,年龄：%s,性别：%s,最高的3个分数：%s,特长分：%s' %(stu_5.name,stu_5.dob,stu_5.age,stu_5.gender,stu_5.bot3(),stu_5.spost))\r\n",
    "print('姓名：%s,生日：%s,年龄：%s,性别：%s,最高的3个分数：%s,特长分：%s' %(stu_6.name,stu_6.dob,stu_6.age,stu_6.gender,stu_6.top3(),stu_6.spost))"
   ]
  },
  {
   "cell_type": "markdown",
   "metadata": {
    "collapsed": false
   },
   "source": [
    "# 方法二："
   ]
  },
  {
   "cell_type": "code",
   "execution_count": 5,
   "metadata": {
    "collapsed": false
   },
   "outputs": [
    {
     "name": "stdout",
     "output_type": "stream",
     "text": [
      "姓名：特长同学,生日：2020-10-5,年龄：20,性别：'男',最高的3个分数：[56, 58, 69],特长分：180\n",
      "姓名：特长同学,生日：2020-10-6,年龄：20,性别：'女',最高的3个分数：[92, 91, 84],特长分：230\n"
     ]
    }
   ],
   "source": [
    "class Student:\r\n",
    "    def __init__(self,a_name,a_dob,a_age,a_gender,a_score=[]):\r\n",
    "        self.name = a_name\r\n",
    "        self.dob = a_dob\r\n",
    "        self.age = a_age\r\n",
    "        self.gender = a_gender\r\n",
    "        self.score = a_score\r\n",
    "\r\n",
    "    def bot3(self):\r\n",
    "        return sorted(set([self.sanitize(t) for t in self.score]))[0:3]\r\n",
    "\r\n",
    "    def top3(self):\r\n",
    "        return sorted(set([self.sanitize(t) for t in self.score]),reverse=True)[0:3]\r\n",
    "        \r\n",
    "    def sanitize(self,score_string):\r\n",
    "        if '-' in score_string:\r\n",
    "            score_string = abs(int(score_string))\r\n",
    "        else:\r\n",
    "            score_string = int(score_string)\r\n",
    "        return score_string  \r\n",
    "\r\n",
    "#定义Student的子类Spostudent类\r\n",
    "class Spostudent(Student):\r\n",
    "    def __init__(self,a_name,a_dob,a_age,a_gender,a_spost_score,a_score):\r\n",
    "        #调用父类\r\n",
    "        Student.__init__(self,a_name,a_dob,a_age,a_gender,a_score)\r\n",
    "        self.spost = a_spost_score\r\n",
    "\r\n",
    "#定义Artstudent类\r\n",
    "class Artstudent(Student):\r\n",
    "    def __init__(self,a_name,a_dob,a_age,a_gender,a_spost_score,a_score):\r\n",
    "        #调用父类\r\n",
    "        Student.__init__(self,a_name,a_dob,a_age,a_gender,a_score)\r\n",
    "        self.spost = a_spost_score\r\n",
    "\r\n",
    "def show(filename,student):\r\n",
    "    stu_list5 = get_coach_data(filename)\r\n",
    "    stu_5 = Spostudent(stu_list5.pop(0),stu_list5.pop(0),stu_list5.pop(0),stu_list5.pop(0),stu_list5.pop(0),stu_list5)\r\n",
    "    if student == 'Spostudent':\r\n",
    "        print('姓名：%s,生日：%s,年龄：%s,性别：%s,最高的3个分数：%s,特长分：%s' %(stu_5.name,stu_5.dob,stu_5.age,stu_5.gender,stu_5.bot3(),stu_5.spost))\r\n",
    "    elif student == 'Artstudent':\r\n",
    "        print('姓名：%s,生日：%s,年龄：%s,性别：%s,最高的3个分数：%s,特长分：%s' %(stu_5.name,stu_5.dob,stu_5.age,stu_5.gender,stu_5.top3(),stu_5.spost))\r\n",
    "\r\n",
    "show('work/stu5.txt','Spostudent')\r\n",
    "show('work/stu6.txt','Artstudent')"
   ]
  }
 ],
 "metadata": {
  "kernelspec": {
   "display_name": "PaddlePaddle 2.0.0b0 (Python 3.5)",
   "language": "python",
   "name": "py35-paddle1.2.0"
  },
  "language_info": {
   "codemirror_mode": {
    "name": "ipython",
    "version": 3
   },
   "file_extension": ".py",
   "mimetype": "text/x-python",
   "name": "python",
   "nbconvert_exporter": "python",
   "pygments_lexer": "ipython3",
   "version": "3.7.4"
  }
 },
 "nbformat": 4,
 "nbformat_minor": 1
}
