{
 "cells": [
  {
   "cell_type": "markdown",
   "metadata": {
    "collapsed": false
   },
   "source": [
    "1.定义get_cocah_data函数读取work/james_new文件的内容，定义运动员类包括name、dob、times属性，top3、sanitize方法，\n",
    "top3函数作用取时间中最短的3个时间，不能重复\n",
    "sanitize函数作用统一james_new中的不一致的时间数据\n",
    "将读取的数据存储到运动员的对象中并打印。"
   ]
  },
  {
   "cell_type": "code",
   "execution_count": 1,
   "metadata": {
    "collapsed": false
   },
   "outputs": [
    {
     "name": "stdout",
     "output_type": "stream",
     "text": [
      "姓名：james,生日：2004-5-21,最快的3次成绩：['2.01', '2.22', '2.34']\n"
     ]
    }
   ],
   "source": [
    "def get_coach_data(filename):\n",
    "    with open(filename) as f:\n",
    "        line = f.readline()\n",
    "    return line.strip().split(',')\n",
    "\n",
    "class Athlete:\n",
    "    def __init__(self,a_name,a_dob=None,a_times=[]):\n",
    "        self.name = a_name\n",
    "        self.dob = a_dob\n",
    "        self.times = a_times\n",
    "\n",
    "    def top3(self):\n",
    "        return sorted(set([self.sanitize(t) for t in self.times]))[0:3]\n",
    "        \n",
    "    def sanitize(self,time_string):\n",
    "        if '-' in time_string:\n",
    "            splitter = '-'\n",
    "        elif ':' in time_string:\n",
    "            splitter = ':'\n",
    "        else:\n",
    "            return (time_string)\n",
    "        (mins,secs) = time_string.split(splitter)\n",
    "        return (mins+'.'+secs)\n",
    "\n",
    "james_new = get_coach_data('work/james_new.txt')\n",
    "james_name = james_new.pop(0)\n",
    "james_dob = james_new.pop(0)\n",
    "james_times = james_new\n",
    "\n",
    "james = Athlete(james_name,james_dob,james_times)\n",
    "\n",
    "print('姓名：%s,生日：%s,最快的3次成绩：%s' %(james.name,james.dob,james.top3()))"
   ]
  },
  {
   "cell_type": "markdown",
   "metadata": {
    "collapsed": false
   },
   "source": [
    "2.Rugby、OtherAthlete继承Athlete，Rugby和OtherAthlete都增加了自己特有的属性squat。在Rugby中重写top3方法，去最长的3个时间（允许重复）。在OtherAthlete中重写top3方法，取最短的3个时间（允许重复）。分别调用get_coach_data方法读取loren.txt和mark.txt文件，将文件的存储到Rugby、OtherAthlete子类对象中。定义print_rugby函数，参数为父类的对象，在函数中打印name、dob、squat和top3的返回结果。调用print_rugby函数以多态的方式分别打印Rugby、OtherAthlete的信息。"
   ]
  },
  {
   "cell_type": "code",
   "execution_count": 3,
   "metadata": {
    "collapsed": false
   },
   "outputs": [
    {
     "name": "stdout",
     "output_type": "stream",
     "text": [
      "loren\n",
      "2011-11-3\n",
      "270\n",
      "['4.11', '4.21', '4.21']\n",
      "mark\n",
      "2010-2-4\n",
      "300\n",
      "['3.11', '3.11', '3.23']\n"
     ]
    }
   ],
   "source": [
    "def get_coach_data(filename):\n",
    "    with open(filename) as f:\n",
    "        line = f.readline()\n",
    "    return line.strip().split(',')\n",
    "\n",
    "class Rugby(Athlete):\n",
    "    def __init__(self,a_name,a_bod,a_squat,a_times):\n",
    "        Athlete.__init__(self,a_name,a_bod,a_times)\n",
    "        self.squat = a_squat\n",
    "    def top3(self):\n",
    "        return sorted([self.sanitize(t) for t in self.times])[-3:]\n",
    "class OtherAthlete(Athlete):\n",
    "    def __init__(self,a_name,a_bod,a_squat,a_times):\n",
    "        Athlete.__init__(self,a_name,a_bod,a_times)\n",
    "        self.squat = a_squat\n",
    "    def top3(self):\n",
    "        return sorted([self.sanitize(t) for t in self.times])[0:3]\n",
    "\n",
    "loren = get_coach_data('work/loren.txt')\n",
    "mark = get_coach_data('work/mark.txt')\n",
    "\n",
    "loren = Rugby(loren.pop(0),loren.pop(0),loren.pop(0),loren)\n",
    "mark = OtherAthlete(mark.pop(0),mark.pop(0),mark.pop(0),mark)\n",
    "\n",
    "def print_rugby(athlete):\n",
    "\n",
    "    print(athlete.name)\n",
    "    print(athlete.dob)\n",
    "    print(athlete.squat)\n",
    "    print(athlete.top3())\n",
    "\n",
    "print_rugby(loren)\n",
    "print_rugby(mark)"
   ]
  }
 ],
 "metadata": {
  "kernelspec": {
   "display_name": "PaddlePaddle 2.0.0b0 (Python 3.5)",
   "language": "python",
   "name": "py35-paddle1.2.0"
  },
  "language_info": {
   "codemirror_mode": {
    "name": "ipython",
    "version": 3
   },
   "file_extension": ".py",
   "mimetype": "text/x-python",
   "name": "python",
   "nbconvert_exporter": "python",
   "pygments_lexer": "ipython3",
   "version": "3.7.4"
  }
 },
 "nbformat": 4,
 "nbformat_minor": 1
}
