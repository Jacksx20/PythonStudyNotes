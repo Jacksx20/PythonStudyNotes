{
 "cells": [
  {
   "cell_type": "markdown",
   "metadata": {
    "collapsed": false
   },
   "source": [
    "# 零基础Python速成营 作业一：Python编程基础\n",
    "\n",
    "## 按要求补全下列代码"
   ]
  },
  {
   "cell_type": "markdown",
   "metadata": {
    "collapsed": false
   },
   "source": [
    "### 1. 输入两个整数，并打印出它们的和"
   ]
  },
  {
   "cell_type": "code",
   "execution_count": 1,
   "metadata": {
    "collapsed": false
   },
   "outputs": [
    {
     "name": "stdout",
     "output_type": "stream",
     "text": [
      "请输入第一个整数: 3\n",
      "请输入第二个整数: 6\n",
      "9\n"
     ]
    }
   ],
   "source": [
    "a = input('请输入第一个整数: ')\n",
    "print(a)\n",
    "b = input('请输入第二个整数: ')\n",
    "print(b)\n",
    "\n",
    "# 分别把 a、b 转换成整数\n",
    "int(a)\n",
    "int(b)\n",
    "\n",
    "# 计算 a、b 的和，赋值给变量c\n",
    "c= int(a)+int(b)\n",
    "\n",
    "# 打印c\n",
    "print(c)\n"
   ]
  },
  {
   "cell_type": "markdown",
   "metadata": {
    "collapsed": false
   },
   "source": [
    "### 2. 输入两个整数，如果两个整数之和小于100，则输出 '小于100'，否则输出 '不小于100'"
   ]
  },
  {
   "cell_type": "code",
   "execution_count": 3,
   "metadata": {
    "collapsed": false
   },
   "outputs": [
    {
     "name": "stdout",
     "output_type": "stream",
     "text": [
      "请输入第一个整数: 20\n",
      "请输入第二个整数: 60\n",
      "小于100\n",
      "\n"
     ]
    }
   ],
   "source": [
    "a = input('请输入第一个整数: ')\n",
    "print(a)\n",
    "b = input('请输入第二个整数: ')\n",
    "print(b)\n",
    "\n",
    "# 分别把 a、b 转换成整数\n",
    "int(a)\n",
    "int(b)\n",
    "\n",
    "# 计算 a、b 的和，赋值给变量c\n",
    "c= int(a)+int(b)\n",
    "\n",
    "# 判断c是否小于100，按要求输出\n",
    "if c < 100:\n",
    "    print('小于100\\n')\n",
    "else:\n",
    "    print('不小于100\\n')"
   ]
  },
  {
   "cell_type": "markdown",
   "metadata": {
    "collapsed": false
   },
   "source": [
    "### 3. 输入两组姓名和年龄，然后存入一个字典，并输出"
   ]
  },
  {
   "cell_type": "code",
   "execution_count": 4,
   "metadata": {
    "collapsed": false
   },
   "outputs": [
    {
     "name": "stdout",
     "output_type": "stream",
     "text": [
      "请输入第一个姓名: 小明\n",
      "请输入第一个年龄: 18\n",
      "请输入第二个姓名: 小红\n",
      "请输入第二个年龄: 20\n",
      "{'小明': 18, '小红': 20}\n",
      "{'a': {'小明': 18}, 'b': {'小红': 20}}\n"
     ]
    }
   ],
   "source": [
    "name1 = input('请输入第一个姓名: ')\n",
    "print(name1)\n",
    "age1= input('请输入第一个年龄: ')\n",
    "print(age1)\n",
    "name2 = input('请输入第二个姓名: ')\n",
    "print(name2)\n",
    "age2 = input('请输入第二个年龄: ')\n",
    "print(age2)\n",
    "\n",
    "# 分别把age1和age2转成整数\n",
    "age1 = int(age1)\n",
    "age2 = int(age2)\n",
    "\n",
    "# 构造字典dict_name\n",
    "dict_name = {name1:age1,name2:age2}\n",
    "dict_name2 = {'a':{name1:age1},'b':{name2:age2}}\n",
    "\n",
    "\n",
    "# 打印字典\n",
    "print(dict_name)\n",
    "print(dict_name2)"
   ]
  },
  {
   "cell_type": "markdown",
   "metadata": {
    "collapsed": false
   },
   "source": [
    "### 4. 依次输入10组整数，然后求和，并输出"
   ]
  },
  {
   "cell_type": "code",
   "execution_count": 5,
   "metadata": {
    "collapsed": false
   },
   "outputs": [
    {
     "name": "stdout",
     "output_type": "stream",
     "text": [
      "请输入第1个整数: 1\n",
      "请输入第2个整数: 2\n",
      "请输入第3个整数: 3\n",
      "请输入第4个整数: 4\n",
      "请输入第5个整数: 5\n",
      "请输入第6个整数: 6\n",
      "请输入第7个整数: 7\n",
      "请输入第8个整数: 8\n"
     ]
    }
   ],
   "source": [
    "sum_num = 0\n",
    "for i in range(10):\n",
    "    # 用input输入数字并转化为整数\n",
    "    a = input('请输入第'+str(i+1)+'个整数: ')\n",
    "    int(a)\n",
    "    print(a)\n",
    "    # sum_num 对输入的数字进行累加\n",
    "    sum_num=sum_num+int(a)\n",
    "\n",
    "print(sum_num)"
   ]
  }
 ],
 "metadata": {
  "kernelspec": {
   "display_name": "PaddlePaddle 2.0.0b0 (Python 3.5)",
   "language": "python",
   "name": "py35-paddle1.2.0"
  },
  "language_info": {
   "codemirror_mode": {
    "name": "ipython",
    "version": 3
   },
   "file_extension": ".py",
   "mimetype": "text/x-python",
   "name": "python",
   "nbconvert_exporter": "python",
   "pygments_lexer": "ipython3",
   "version": "3.7.4"
  }
 },
 "nbformat": 4,
 "nbformat_minor": 1
}
