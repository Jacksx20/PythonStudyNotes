{
 "cells": [
  {
   "cell_type": "markdown",
   "metadata": {
    "collapsed": false
   },
   "source": [
    "# 需求：选手的最好的三次成绩\n",
    "\n",
    "Kelly教练每天在训练场忙的焦头烂额，根本没有时间摆弄计算机，需要人帮他处理选手的数据！\n",
    "\n",
    "运动员在刻苦训练，每跑一个600米，kelly就会计时并将时间记录到计算机中的文本文件中，共有4个选手James、Sarah、Julie和Mikey，分别对应4个文件\n",
    "\n",
    "james.txt 2-34,3:21,2,34,2.45,3.01,2:01,2:01,3:10,2-22  \n",
    "\n",
    "sarah.txt 2:58,2.58,2:39,2-25,2:55,2:54,2.18,2:55,2:55  \n",
    "\n",
    "julie.txt 2.59,2.11,2:11,2:23,3-10,2-23,3:10,3.21,3-21  \n",
    "\n",
    "mikey.txt 2:22,3.01,3:01,3.02,3:02,3.02,3:22,2.49,2:38  \n"
   ]
  },
  {
   "cell_type": "code",
   "execution_count": 1,
   "metadata": {
    "collapsed": false
   },
   "outputs": [
    {
     "name": "stdout",
     "output_type": "stream",
     "text": [
      "读取文件james.txt后的结果：\n",
      "\n",
      "['2-34', '3:21', '2', '34', '2.45', '3.01', '2:01', '2:01', '3:10', '2-22']\n"
     ]
    }
   ],
   "source": [
    "# 读取文件内容，按逗号进行切分\n",
    "def get_coach_data(filename):\n",
    "    with open(filename) as f:\n",
    "        line = f.readline()\n",
    "    return line.strip().split(',')\n",
    "\n",
    "# 输出读取文件的结果\n",
    "times = get_coach_data('mywork/james.txt')\n",
    "print('读取文件james.txt后的结果：\\n')\n",
    "print(times)"
   ]
  },
  {
   "cell_type": "markdown",
   "metadata": {
    "collapsed": false
   },
   "source": [
    "**get_coach_data函数的说明：** \n",
    "\n",
    "- filename为文件路径  \n",
    "\n",
    "- f表示文件对象  \n",
    "\n",
    "- f.realine()表示读取文件的一行  \n",
    "\n",
    "- line.strip().split(',')为链式函数写法意思是，先对这一行的数据进行strip()，就是去掉改行头尾空格和换行符。然后对strip()的结果进行split(',')，对结果以逗号的进行切分形成一个数组。\n"
   ]
  },
  {
   "cell_type": "code",
   "execution_count": 2,
   "metadata": {
    "collapsed": false
   },
   "outputs": [],
   "source": [
    "# 数据格式标准化\n",
    "def sanitize(time_string):\n",
    "    if '-' in time_string:\n",
    "        splitter = '-'\n",
    "    elif ':' in time_string:\n",
    "        splitter = ':'\n",
    "    else:\n",
    "        return (time_string)\n",
    "    (mins,secs) = time_string.split(splitter)\n",
    "    return (mins+'.'+secs)"
   ]
  },
  {
   "cell_type": "markdown",
   "metadata": {
    "collapsed": false
   },
   "source": [
    "**sanitize函数的说明：** \n",
    "\n",
    "- time_string为时间数组  \n",
    "\n",
    "- splitter是根据原数据的格式来确实分钟和秒的分隔符  \n",
    "\n",
    "- (mins,secs) = time_string.split(splitter)以splitter分隔符切分每个时间数据到两个变量中mins,secs  \n",
    "\n",
    "- return (mins+'.'+secs)将分钟和秒以字符串点进行连接"
   ]
  },
  {
   "cell_type": "code",
   "execution_count": 3,
   "metadata": {
    "collapsed": false
   },
   "outputs": [
    {
     "name": "stdout",
     "output_type": "stream",
     "text": [
      "输出james.txt标准化后的结果\n",
      "\n",
      "['2.34', '3.21', '2', '34', '2.45', '3.01', '2.01', '2.01', '3.10', '2.22']\n"
     ]
    }
   ],
   "source": [
    "# 输出数据格式标准化后的时间\r\n",
    "james_times = get_coach_data('mywork/james.txt')\r\n",
    "clean_james = []\r\n",
    "for each_t in james_times:\r\n",
    "    clean_james.append(sanitize(each_t))\r\n",
    "print('输出james.txt标准化后的结果\\n')\r\n",
    "print(clean_james)"
   ]
  },
  {
   "cell_type": "code",
   "execution_count": 4,
   "metadata": {
    "collapsed": false
   },
   "outputs": [
    {
     "name": "stdout",
     "output_type": "stream",
     "text": [
      "输出排序并去重后的结果，并取前3个数据\n",
      "\n",
      "['2', '2.01', '2.22']\n"
     ]
    }
   ],
   "source": [
    "# 排序\r\n",
    "sorted_james=sorted(clean_james)\r\n",
    "\r\n",
    "# 去掉重复\r\n",
    "unique_james = []\r\n",
    "for each_t in sorted_james:\r\n",
    "    if each_t not in unique_james:\r\n",
    "        unique_james.append(each_t)\r\n",
    "\r\n",
    "print('输出排序并去重后的结果，并取前3个数据\\n')\r\n",
    "print(unique_james[0:3])"
   ]
  },
  {
   "cell_type": "code",
   "execution_count": 5,
   "metadata": {
    "collapsed": false
   },
   "outputs": [
    {
     "name": "stdout",
     "output_type": "stream",
     "text": [
      "一句话搞定数据标准化、排序、去重\n",
      "\n",
      "['2', '2.01', '2.22']\n"
     ]
    }
   ],
   "source": [
    "# python，一句话搞定数据标准化，排序和去重\r\n",
    "james_times = get_coach_data('mywork/james.txt')\r\n",
    "print('一句话搞定数据标准化、排序、去重\\n')\r\n",
    "print(sorted(set([sanitize(t) for t in james_times]))[0:3])"
   ]
  },
  {
   "cell_type": "markdown",
   "metadata": {
    "collapsed": false
   },
   "source": [
    "# 问题：哪个数据属于哪个选手  \n",
    "\n",
    "解决：kelly人为他有办法，他为数据增加了标识（在原来的数据前面增加了姓名和生日）\n",
    "\n",
    "james,2006-11-11,2-34,3:21,2.34,2.45,3.01,2:01,2:01,3:10,2-22"
   ]
  },
  {
   "cell_type": "code",
   "execution_count": 6,
   "metadata": {
    "collapsed": false
   },
   "outputs": [
    {
     "name": "stdout",
     "output_type": "stream",
     "text": [
      "姓名：james,生日：2006-11-11,最快的3次成绩：['2.01', '2.22', '2.34']\n"
     ]
    }
   ],
   "source": [
    "# 读取新的数据文件\r\n",
    "james_new = get_coach_data('mywork/james_new.txt')\r\n",
    "(james_name,james_dob) = james_new.pop(0),james_new.pop(0)\r\n",
    "james_top3 = sorted(set([sanitize(t) for t in james_new]))[0:3]\r\n",
    "print('姓名：%s,生日：%s,最快的3次成绩：%s' %(james_name,james_dob,james_top3))"
   ]
  },
  {
   "cell_type": "markdown",
   "metadata": {
    "collapsed": false
   },
   "source": [
    "**pop函数:**  \n",
    "\n",
    "james_new.pop(0)移除列表中的第一个数据，并获得删除的数据\n",
    "\n",
    "弹夹  \n",
    "\n",
    "![](https://ai-studio-static-online.cdn.bcebos.com/d441cec258054e15bfc985be736870afb4ad287470a14d90871522544d687e6c)\n"
   ]
  },
  {
   "cell_type": "markdown",
   "metadata": {
    "collapsed": false
   },
   "source": [
    "# 问题：james一个人的数据需要3个变量存储，如果是4个人的话？"
   ]
  },
  {
   "cell_type": "code",
   "execution_count": 7,
   "metadata": {
    "collapsed": false
   },
   "outputs": [
    {
     "name": "stdout",
     "output_type": "stream",
     "text": [
      "姓名：james,生日：2006-11-11,最快的3次成绩：['2.01', '2.22', '2.34']\n",
      "姓名：mikey,生日：2003-9-10,最快的3次成绩：['2.22', '2.38', '2.49']\n",
      "姓名：julie,生日：2006-5-9,最快的3次成绩：['2.11', '2.23', '2.59']\n",
      "姓名：sarah,生日：2004-3-8,最快的3次成绩：['2.18', '2.25', '2.39']\n"
     ]
    }
   ],
   "source": [
    "james_new = get_coach_data('mywork/james_new.txt')\r\n",
    "mikey_new = get_coach_data('mywork/mikey_new.txt')\r\n",
    "julie_new = get_coach_data('mywork/julie_new.txt')\r\n",
    "sarah_new = get_coach_data('mywork/sarah_new.txt')\r\n",
    "\r\n",
    "(james_name,james_dob) = james_new.pop(0),james_new.pop(0)\r\n",
    "james_top3 = sorted(set([sanitize(t) for t in james_new]))[0:3]\r\n",
    "\r\n",
    "print('姓名：%s,生日：%s,最快的3次成绩：%s' %(james_name,james_dob,james_top3))\r\n",
    "\r\n",
    "(mikey_name,mikey_dob) = mikey_new.pop(0),mikey_new.pop(0)\r\n",
    "mikey_top3 = sorted(set([sanitize(t) for t in mikey_new]))[0:3]\r\n",
    "\r\n",
    "print('姓名：%s,生日：%s,最快的3次成绩：%s' %(mikey_name,mikey_dob,mikey_top3))\r\n",
    "\r\n",
    "(julie_name,julie_dob) = julie_new.pop(0),julie_new.pop(0)\r\n",
    "julie_top3 = sorted(set([sanitize(t) for t in julie_new]))[0:3]\r\n",
    "\r\n",
    "print('姓名：%s,生日：%s,最快的3次成绩：%s' %(julie_name,julie_dob,julie_top3))\r\n",
    "\r\n",
    "\r\n",
    "(sarah_name,sarah_dob) = sarah_new.pop(0),sarah_new.pop(0)\r\n",
    "sarah_top3 = sorted(set([sanitize(t) for t in sarah_new]))[0:3]\r\n",
    "\r\n",
    "print('姓名：%s,生日：%s,最快的3次成绩：%s' %(sarah_name,sarah_dob,sarah_top3))"
   ]
  },
  {
   "cell_type": "markdown",
   "metadata": {
    "collapsed": false
   },
   "source": [
    "# 使用字典将变量变少"
   ]
  },
  {
   "cell_type": "code",
   "execution_count": 8,
   "metadata": {
    "collapsed": false
   },
   "outputs": [
    {
     "name": "stdout",
     "output_type": "stream",
     "text": [
      "姓名：james,生日：2006-11-11,最快的3次成绩：['2.01', '2.22', '2.34']\n"
     ]
    }
   ],
   "source": [
    "james_new = get_coach_data('mywork/james_new.txt')\r\n",
    "\r\n",
    "james_data={}\r\n",
    "\r\n",
    "james_data['Name'] = james_new.pop(0)\r\n",
    "james_data['Dob'] = james_new.pop(0)\r\n",
    "james_data['top3'] = sorted(set([sanitize(t) for t in james_new]))[0:3]\r\n",
    "\r\n",
    "print('姓名：%s,生日：%s,最快的3次成绩：%s' %(james_data['Name'],james_data['Dob'],james_data['top3']))\r\n",
    "\r\n"
   ]
  },
  {
   "cell_type": "markdown",
   "metadata": {
    "collapsed": false
   },
   "source": [
    "# 问题：即使有字典的帮助还不能完美的解决问题，函数与数据并没有直接联系，分散在源文件中，不利于代码的维护  "
   ]
  },
  {
   "cell_type": "code",
   "execution_count": 9,
   "metadata": {
    "collapsed": false
   },
   "outputs": [],
   "source": [
    "class Athlete:\r\n",
    "    def __init__(self,a_name,a_dob=None,a_times=[]):\r\n",
    "        self.name = a_name\r\n",
    "        self.dob = a_dob\r\n",
    "        self.times = a_times\r\n",
    "\r\n",
    "    def top3(self):\r\n",
    "        return sorted(set([sanitize(t) for t in self.times]))[0:3]\r\n",
    "        \r\n",
    "    def sanitize(self,time_string):\r\n",
    "        if '-' in time_string:\r\n",
    "            splitter = '-'\r\n",
    "        elif ':' in time_string:\r\n",
    "            splitter = ':'\r\n",
    "        else:\r\n",
    "            return (time_string)\r\n",
    "        (mins,secs) = time_string.split(splitter)\r\n",
    "        return (mins+'.'+secs)"
   ]
  },
  {
   "cell_type": "markdown",
   "metadata": {
    "collapsed": false
   },
   "source": [
    "# 使用类的好处  \n",
    "\n",
    "1. 降低复杂性-》更少的bug-》提高可维护行  \n",
    "\n",
    "2. 类可以将数据与函数绑定在一起，使代码模块化  \n",
    "\n",
    "3. 调用数据和函数，使用对象名.的方式，使代码更加优雅 "
   ]
  },
  {
   "cell_type": "code",
   "execution_count": 10,
   "metadata": {
    "collapsed": false
   },
   "outputs": [
    {
     "name": "stdout",
     "output_type": "stream",
     "text": [
      "姓名：james,生日：2006-11-11,最快的3次成绩：['2.01', '2.22', '2.34']\n"
     ]
    }
   ],
   "source": [
    "# 从文件中读取数据\r\n",
    "james_new = get_coach_data('mywork/james_new.txt')\r\n",
    "james_name = james_new.pop(0)\r\n",
    "james_dob = james_new.pop(0)\r\n",
    "james_times = james_new\r\n",
    "\r\n",
    "# 创建Athlete对象\r\n",
    "james = Athlete(james_name,james_dob,james_times)\r\n",
    "print('姓名：%s,生日：%s,最快的3次成绩：%s' %(james.name,james.dob,james.top3()))"
   ]
  },
  {
   "cell_type": "markdown",
   "metadata": {
    "collapsed": false
   },
   "source": [
    "# 面向对象的世界  \n",
    "\n",
    "代码通常称为类的方法，数据通常称为类的属性，实例化的对象称为实例\n"
   ]
  },
  {
   "cell_type": "code",
   "execution_count": 11,
   "metadata": {
    "collapsed": false
   },
   "outputs": [],
   "source": [
    "class Athlete:\n",
    "    def __init__(self,a_name,a_dob=None,a_times=[]):\n",
    "        self.name = a_name\n",
    "        self.dob = a_dob\n",
    "        self.times = a_times\n",
    "\n",
    "    def top3(self):\n",
    "        return sorted(set([self.sanitize(t) for t in self.times]))[0:3]\n",
    "        \n",
    "    def sanitize(self,time_string):\n",
    "        if '-' in time_string:\n",
    "            splitter = '-'\n",
    "        elif ':' in time_string:\n",
    "            splitter = ':'\n",
    "        else:\n",
    "            return (time_string)\n",
    "        (mins,secs) = time_string.split(splitter)\n",
    "        return (mins+'.'+secs)"
   ]
  },
  {
   "cell_type": "markdown",
   "metadata": {
    "collapsed": false
   },
   "source": [
    "# 如何定义类\n",
    "\n",
    "**class Athlete:**\n",
    "\n",
    "- 第一部分：class定义类的关键字，Athlete符合python标识符命名规则，：表示类内容的开始  \n",
    "\n",
    "def __init__(self,a_name,a_dob=None,a_times=[]):\n",
    "\n",
    "- 第二部分：def定义函数的关键字，__init__ 方法是一个特殊方法会在实例化对象时自动调用，我们会在这个方法中对数据进行赋值。self作为类中函数的第一个参数，方便该方法调用该类的其他属性和方法。\n",
    "\n",
    "- 第三部分：自定义的属性和方法"
   ]
  },
  {
   "cell_type": "code",
   "execution_count": 12,
   "metadata": {
    "collapsed": false
   },
   "outputs": [
    {
     "name": "stdout",
     "output_type": "stream",
     "text": [
      "姓名：james,生日：2006-11-11,最快的3次成绩：['2.01', '2.22', '2.34']\n"
     ]
    }
   ],
   "source": [
    "def get_coach_data(filename):\r\n",
    "    with open(filename) as f:\r\n",
    "        line = f.readline()\r\n",
    "    return line.strip().split(',')\r\n",
    "\r\n",
    "# 从文件中读取数据\r\n",
    "james_new = get_coach_data('mywork/james_new.txt')\r\n",
    "james_name = james_new.pop(0)\r\n",
    "james_dob = james_new.pop(0)\r\n",
    "james_times = james_new\r\n",
    "\r\n",
    "# 创建Athlete对象\r\n",
    "james = Athlete(james_name,james_dob,james_times)\r\n",
    "\r\n",
    "print('姓名：%s,生日：%s,最快的3次成绩：%s' %(james.name,james.dob,james.top3()))"
   ]
  },
  {
   "cell_type": "markdown",
   "metadata": {
    "collapsed": false
   },
   "source": [
    "# 如何使用类\n",
    "\n",
    "1.创建对象  \n",
    "\n",
    "对象名 = 类名(参数)  \n",
    "\n",
    "2.使用.调用类的方法和属性  \n",
    "\n",
    "对象.属性名  \n",
    "\n",
    "对象.方法名()"
   ]
  },
  {
   "cell_type": "markdown",
   "metadata": {
    "collapsed": false
   },
   "source": [
    "# 类属性\n",
    "所有对象共享的数据"
   ]
  },
  {
   "cell_type": "code",
   "execution_count": 13,
   "metadata": {
    "collapsed": false
   },
   "outputs": [],
   "source": [
    "class Athlete:\r\n",
    "\r\n",
    "    #运动员集训了，要买东西的同学要把地址改一下\r\n",
    "    address = '中国足球协会训练基地xx街xx号'\r\n",
    "\r\n",
    "    def __init__(self,a_name,a_dob=None,a_times=[]):\r\n",
    "        self.name = a_name\r\n",
    "        self.dob = a_dob\r\n",
    "        self.times = a_times\r\n",
    "\r\n",
    "    def top3(self):\r\n",
    "        return sorted(set([self.sanitize(t) for t in self.times]))[0:3]\r\n",
    "        \r\n",
    "    def sanitize(self,time_string):\r\n",
    "        if '-' in time_string:\r\n",
    "            splitter = '-'\r\n",
    "        elif ':' in time_string:\r\n",
    "            splitter = ':'\r\n",
    "        else:\r\n",
    "            return (time_string)\r\n",
    "        (mins,secs) = time_string.split(splitter)\r\n",
    "        return (mins+'.'+secs)"
   ]
  },
  {
   "cell_type": "code",
   "execution_count": 14,
   "metadata": {
    "collapsed": false
   },
   "outputs": [
    {
     "name": "stdout",
     "output_type": "stream",
     "text": [
      "中国足球协会训练基地xx街xx号\n",
      "中国足球协会训练基地xx街xx号\n",
      "中国足球协会训练基地xx街xx号\n"
     ]
    }
   ],
   "source": [
    "julie_new = get_coach_data('mywork/julie_new.txt')\r\n",
    "julie_name = julie_new.pop(0)\r\n",
    "julie_dob = julie_new.pop(0)\r\n",
    "julie_times = julie_new\r\n",
    "\r\n",
    "james_new = get_coach_data('mywork/james_new.txt')\r\n",
    "james_name = james_new.pop(0)\r\n",
    "james_dob = james_new.pop(0)\r\n",
    "james_times = james_new\r\n",
    "\r\n",
    "julie = Athlete(julie_name,julie_dob,julie_times)\r\n",
    "james = Athlete(james_name,james_dob,james_times)\r\n",
    "\r\n",
    "print(julie.address)\r\n",
    "print(james.address)\r\n",
    "print(Athlete.address)"
   ]
  },
  {
   "cell_type": "markdown",
   "metadata": {
    "collapsed": false
   },
   "source": [
    "## 如何使用：\n",
    "\n",
    "**定义：** \n",
    "\n",
    "在 __init__ 之上，或者说在类的范围内与方法同等级别，书写变量名=值\n",
    "\n",
    "**调用：** \n",
    "\n",
    "类名.类属性"
   ]
  },
  {
   "cell_type": "markdown",
   "metadata": {
    "collapsed": false
   },
   "source": [
    "# 类方法\n",
    "所有对象共享的方法"
   ]
  },
  {
   "cell_type": "code",
   "execution_count": 15,
   "metadata": {
    "collapsed": false
   },
   "outputs": [],
   "source": [
    "class Athlete:\r\n",
    "\r\n",
    "    #运动员集训了，要买东西的同学要把地址改一下\r\n",
    "    address = '中国足球协会训练基地xx街xx号'\r\n",
    "\r\n",
    "    def __init__(self,a_name,a_dob=None,a_times=[]):\r\n",
    "        self.name = a_name\r\n",
    "        self.dob = a_dob\r\n",
    "        self.times = a_times\r\n",
    "\r\n",
    "    def top3(self):\r\n",
    "        return sorted(set([self.sanitize(t) for t in self.times]))[0:3]\r\n",
    "        \r\n",
    "    def sanitize(self,time_string):\r\n",
    "        if '-' in time_string:\r\n",
    "            splitter = '-'\r\n",
    "        elif ':' in time_string:\r\n",
    "            splitter = ':'\r\n",
    "        else:\r\n",
    "            return (time_string)\r\n",
    "        (mins,secs) = time_string.split(splitter)\r\n",
    "        return (mins+'.'+secs)\r\n",
    "    @classmethod\r\n",
    "    def changeAddress(self):\r\n",
    "        self.address = '中国田径训练基地xx街xx号'\r\n",
    "     \r\n"
   ]
  },
  {
   "cell_type": "code",
   "execution_count": 16,
   "metadata": {
    "collapsed": false
   },
   "outputs": [
    {
     "name": "stdout",
     "output_type": "stream",
     "text": [
      "中国足球协会训练基地xx街xx号\n",
      "中国足球协会训练基地xx街xx号\n",
      "中国田径训练基地xx街xx号\n"
     ]
    }
   ],
   "source": [
    "#集训队换地方了\r\n",
    "Athlete.changeAddress()\r\n",
    "print(julie.address)\r\n",
    "print(james.address)\r\n",
    "print(Athlete.address)"
   ]
  },
  {
   "cell_type": "markdown",
   "metadata": {
    "collapsed": false
   },
   "source": [
    "## 如何使用：\n",
    "**定义：** \n",
    "\n",
    "方法定义时，使用@classmethod标记\n",
    "\n",
    "**调用：** \n",
    "\n",
    "类名.类方法\n",
    "\n",
    "对象.类方法"
   ]
  },
  {
   "cell_type": "code",
   "execution_count": 17,
   "metadata": {
    "collapsed": false
   },
   "outputs": [],
   "source": [
    "class Athlete:\r\n",
    "    def __init__(self,a_name,a_dob=None,a_times=[]):\r\n",
    "        self.name = a_name\r\n",
    "        self.dob = a_dob\r\n",
    "        self.times = a_times\r\n",
    "\r\n",
    "    def top3(self):\r\n",
    "        return sorted(set([self.sanitize(t) for t in self.times]))[0:3]\r\n",
    "        \r\n",
    "    def sanitize(self,time_string):\r\n",
    "        if '-' in time_string:\r\n",
    "            splitter = '-'\r\n",
    "        elif ':' in time_string:\r\n",
    "            splitter = ':'\r\n",
    "        else:\r\n",
    "            return (time_string)\r\n",
    "        (mins,secs) = time_string.split(splitter)\r\n",
    "        return (mins+'.'+secs)"
   ]
  },
  {
   "cell_type": "code",
   "execution_count": 18,
   "metadata": {
    "collapsed": false
   },
   "outputs": [
    {
     "name": "stdout",
     "output_type": "stream",
     "text": [
      "姓名：hehe,生日：2006-11-11,最快的3次成绩：['2.01', '2.22', '2.34']\n"
     ]
    }
   ],
   "source": [
    "james = Athlete(james_name,james_dob,james_times)\r\n",
    "james.name = 'hehe'\r\n",
    "# james.sanitize()\r\n",
    "print('姓名：%s,生日：%s,最快的3次成绩：%s' %(james.name,james.dob,james.top3()))\r\n"
   ]
  },
  {
   "cell_type": "markdown",
   "metadata": {
    "collapsed": false
   },
   "source": [
    "sanitize()函数，直接调用的话，不知道有什么用呢？  \n",
    "\n",
    "sanitize()函数是在Athlete中，专门用来处理将训练的时间进行标准化的，干脆把它声明为私用的，不会用的话干脆让你看不到就行了。  \n",
    "\n",
    "james.name = 'hehe'你不可以这样啊，怎么可以直接改呢！  干脆不让你改"
   ]
  },
  {
   "cell_type": "code",
   "execution_count": 19,
   "metadata": {
    "collapsed": false
   },
   "outputs": [],
   "source": [
    "class Athlete:\r\n",
    "    def __init__(self,a_name,a_dob=None,a_times=[]):\r\n",
    "        self.__name = a_name\r\n",
    "        self.dob = a_dob\r\n",
    "        self.times = a_times\r\n",
    "       \r\n",
    "    def sayName(self):\r\n",
    "        print(self.__name)\r\n",
    "        \r\n",
    "    def top3(self):\r\n",
    "        return sorted(set([self.__sanitize(t) for t in self.times]))[0:3]\r\n",
    "        \r\n",
    "    def __sanitize(self,time_string):\r\n",
    "        if '-' in time_string:\r\n",
    "            splitter = '-'\r\n",
    "        elif ':' in time_string:\r\n",
    "            splitter = ':'\r\n",
    "        else:\r\n",
    "            return (time_string)\r\n",
    "        (mins,secs) = time_string.split(splitter)\r\n",
    "        return (mins+'.'+secs)"
   ]
  },
  {
   "cell_type": "code",
   "execution_count": 20,
   "metadata": {
    "collapsed": false
   },
   "outputs": [
    {
     "ename": "AttributeError",
     "evalue": "'Athlete' object has no attribute 'name'",
     "output_type": "error",
     "traceback": [
      "\u001b[0;31m---------------------------------------------------------------------------\u001b[0m",
      "\u001b[0;31mAttributeError\u001b[0m                            Traceback (most recent call last)",
      "\u001b[0;32m<ipython-input-20-e9b511a878b8>\u001b[0m in \u001b[0;36m<module>\u001b[0;34m\u001b[0m\n\u001b[1;32m      2\u001b[0m \u001b[0;31m# print(james._name)\u001b[0m\u001b[0;34m\u001b[0m\u001b[0;34m\u001b[0m\u001b[0;34m\u001b[0m\u001b[0m\n\u001b[1;32m      3\u001b[0m \u001b[0;31m# james.__sanitize()\u001b[0m\u001b[0;34m\u001b[0m\u001b[0;34m\u001b[0m\u001b[0;34m\u001b[0m\u001b[0m\n\u001b[0;32m----> 4\u001b[0;31m \u001b[0mprint\u001b[0m\u001b[0;34m(\u001b[0m\u001b[0;34m'姓名：%s,生日：%s,最快的3次成绩：%s'\u001b[0m \u001b[0;34m%\u001b[0m\u001b[0;34m(\u001b[0m\u001b[0mjames\u001b[0m\u001b[0;34m.\u001b[0m\u001b[0mname\u001b[0m\u001b[0;34m,\u001b[0m\u001b[0mjames\u001b[0m\u001b[0;34m.\u001b[0m\u001b[0mdob\u001b[0m\u001b[0;34m,\u001b[0m\u001b[0mjames\u001b[0m\u001b[0;34m.\u001b[0m\u001b[0mtop3\u001b[0m\u001b[0;34m(\u001b[0m\u001b[0;34m)\u001b[0m\u001b[0;34m)\u001b[0m\u001b[0;34m)\u001b[0m\u001b[0;34m\u001b[0m\u001b[0;34m\u001b[0m\u001b[0m\n\u001b[0m",
      "\u001b[0;31mAttributeError\u001b[0m: 'Athlete' object has no attribute 'name'"
     ]
    }
   ],
   "source": [
    "james = Athlete(james_name,james_dob,james_times)\r\n",
    "# print(james._name)\r\n",
    "# james.__sanitize()\r\n",
    "print('姓名：%s,生日：%s,最快的3次成绩：%s' %(james.name,james.dob,james.top3()))"
   ]
  },
  {
   "cell_type": "markdown",
   "metadata": {
    "collapsed": false
   },
   "source": [
    "**私用的属性和方法的定义：**  \n",
    "\n",
    "在属性和方法名前加 __ 两个下划线  "
   ]
  },
  {
   "cell_type": "markdown",
   "metadata": {
    "collapsed": false
   },
   "source": [
    "## 如何调用:\n",
    "只能通过类中的方法来调用私有的属性和方法"
   ]
  }
 ],
 "metadata": {
  "kernelspec": {
   "display_name": "PaddlePaddle 2.0.0b0 (Python 3.5)",
   "language": "python",
   "name": "py35-paddle1.2.0"
  }
 },
 "nbformat": 4,
 "nbformat_minor": 1
}
