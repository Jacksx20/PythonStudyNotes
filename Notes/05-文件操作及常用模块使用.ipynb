{
 "cells": [
  {
   "cell_type": "markdown",
   "metadata": {
    "collapsed": false
   },
   "source": [
    "# 文件处理模型  \n",
    "\n",
    "输入，处理，输出。\n",
    "\n",
    "输入：读取4个队员的训练数据，读取4个文件  \n",
    "\n",
    "james.txt 2-34,3:21,2,34,2.45,3.01,2:01,2:01,3:10,2-22\n",
    "\n",
    "sarah.txt 2:58,2.58,2:39,2-25,2:55,2:54,2.18,2:55,2:55\n",
    "\n",
    "julie.txt 2.59,2.11,2:11,2:23,3-10,2-23,3:10,3.21,3-21\n",
    "\n",
    "mikey.txt 2:22,3.01,3:01,3.02,3:02,3.02,3:22,2.49,2:38\n",
    "\n",
    "\n",
    "处理：标准化数据，切分数据，top3（最快的3个时间）  \n",
    "\n",
    "输出：将每个人的信息打印在屏幕上显示  \n",
    "\n",
    "\n",
    "kelly教练，每次训练结束后，还要同步更新4个文件太麻烦了，把所有记录写在一个文件中吧，这个对于你来说应该不难吧？"
   ]
  },
  {
   "cell_type": "code",
   "execution_count": 8,
   "metadata": {
    "collapsed": false
   },
   "outputs": [],
   "source": [
    "\r\n",
    "import os\r\n",
    "#获取目标文件夹的路径\r\n",
    "filedir = os.getcwd()+'/work'\r\n",
    "#获取当前文件夹中的文件名称列表  \r\n",
    "filenames=os.listdir(filedir)\r\n",
    "#打开当前目录下的result.txt文件，如果没有则创建\r\n",
    "f=open('work/result.txt','w')\r\n",
    "#先遍历文件名\r\n",
    "for filename in filenames:\r\n",
    "    filepath = filedir+'/'+filename\r\n",
    "    #遍历单个文件，读取行数\r\n",
    "    for line in open(filepath):\r\n",
    "        f.writelines(line)\r\n",
    "        f.write('\\n')\r\n",
    "#关闭文件\r\n",
    "f.close()"
   ]
  },
  {
   "cell_type": "code",
   "execution_count": null,
   "metadata": {
    "collapsed": false
   },
   "outputs": [
    {
     "name": "stdout",
     "output_type": "stream",
     "text": [
      "james,2004-5-21,2.34,3:21,2.34,2.45,3.01,2:01,2:01,3:10,2-22\n",
      "\n",
      "julie,2006-5-9,2.59,2.11,2:11,2:23,3-10,2-23,3:10,3.21,3-21\n",
      "\n"
     ]
    }
   ],
   "source": [
    "f = open('work/train_data_cor.txt')\n",
    "line = f.readline()\n",
    "print(line)\n",
    "line = f.readline()\n",
    "print(line)\n",
    "f.close()\n"
   ]
  },
  {
   "cell_type": "markdown",
   "metadata": {
    "collapsed": false
   },
   "source": [
    "open() 为bif（内置函数），参数有多个，必须的是文件路径。 返回的一个文件对象。 \n",
    "\n",
    "file.readline(),读取文件中的一行。  \n"
   ]
  },
  {
   "cell_type": "code",
   "execution_count": null,
   "metadata": {
    "collapsed": false
   },
   "outputs": [
    {
     "name": "stdout",
     "output_type": "stream",
     "text": [
      "james,2004-5-21,2.34,3:21,2.34,2.45,3.01,2:01,2:01,3:10,2-22\n",
      "\n",
      "julie,2006-5-9,2.59,2.11,2:11,2:23,3-10,2-23,3:10,3.21,3-21\n",
      "\n",
      "sarah,2004-3-8,2:58,2.58,2:39,2-25,2-55,2:54,2.18,2:55,2:55\n",
      "\n",
      "mikey,2003-9-10,2:22,3.01,3:01,3.02,3:02,3.02,3:22,2.49,2:38\n",
      "\n"
     ]
    }
   ],
   "source": [
    "import sys\n",
    "#读取整个文件内容\n",
    "f = open('work/train_data_cor.txt')\n",
    "line = f.readline()\n",
    "while(line != ''):\n",
    "    print(line)\n",
    "    line = f.readline()\n",
    "f.close()\n"
   ]
  },
  {
   "cell_type": "code",
   "execution_count": null,
   "metadata": {
    "collapsed": false
   },
   "outputs": [
    {
     "name": "stdout",
     "output_type": "stream",
     "text": [
      "james,2004-5-21,2.34,3:21,2.34,2.45,3.01,2:01,2:01,3:10,2-22\n",
      "\n",
      "julie,2006-5-9,2.59,2.11,2:11,2:23,3-10,2-23,3:10,3.21,3-21\n",
      "\n",
      "sarah,2004-3-8,2:58,2.58,2:39,2-25,2-55,2:54,2.18,2:55,2:55\n",
      "\n",
      "mikey,2003-9-10,2:22,3.01,3:01,3.02,3:02,3.02,3:22,2.49,2:38\n",
      "\n"
     ]
    }
   ],
   "source": [
    "#更好的方式\n",
    "f = open('work/train_data_cor.txt')\n",
    "for line in f:\n",
    "    print(line)\n",
    "f.close()"
   ]
  },
  {
   "cell_type": "markdown",
   "metadata": {
    "collapsed": false
   },
   "source": [
    "# 如果数据有问题呢？"
   ]
  },
  {
   "cell_type": "code",
   "execution_count": null,
   "metadata": {
    "collapsed": false
   },
   "outputs": [
    {
     "name": "stdout",
     "output_type": "stream",
     "text": [
      "姓名：james生日：2004-5-21时间：['2.34', '3:21', '2.34', '2.45', '3.01', '2:01', '2:01', '3:10', '2-22']\n",
      "姓名：julie生日：2006-5-9时间：['2.59', '2.11', '2:11', '2:23', '3-10', '2-23', '3:10', '3.21', '3-21']\n"
     ]
    },
    {
     "ename": "IndexError",
     "evalue": "pop from empty list",
     "output_type": "error",
     "traceback": [
      "\u001b[0;31m---------------------------------------------------------------------------\u001b[0m",
      "\u001b[0;31mIndexError\u001b[0m                                Traceback (most recent call last)",
      "\u001b[0;32m<ipython-input-14-a51a9349f79f>\u001b[0m in \u001b[0;36m<module>\u001b[0;34m\u001b[0m\n\u001b[1;32m      3\u001b[0m     \u001b[0mdata\u001b[0m \u001b[0;34m=\u001b[0m \u001b[0mline\u001b[0m\u001b[0;34m.\u001b[0m\u001b[0mstrip\u001b[0m\u001b[0;34m(\u001b[0m\u001b[0;34m)\u001b[0m\u001b[0;34m.\u001b[0m\u001b[0msplit\u001b[0m\u001b[0;34m(\u001b[0m\u001b[0;34m','\u001b[0m\u001b[0;34m)\u001b[0m\u001b[0;34m\u001b[0m\u001b[0;34m\u001b[0m\u001b[0m\n\u001b[1;32m      4\u001b[0m \u001b[0;34m\u001b[0m\u001b[0m\n\u001b[0;32m----> 5\u001b[0;31m     \u001b[0mprint\u001b[0m\u001b[0;34m(\u001b[0m\u001b[0;34m'姓名：'\u001b[0m\u001b[0;34m+\u001b[0m\u001b[0mdata\u001b[0m\u001b[0;34m.\u001b[0m\u001b[0mpop\u001b[0m\u001b[0;34m(\u001b[0m\u001b[0;36m0\u001b[0m\u001b[0;34m)\u001b[0m\u001b[0;34m+\u001b[0m\u001b[0;34m'生日：'\u001b[0m\u001b[0;34m+\u001b[0m\u001b[0mdata\u001b[0m\u001b[0;34m.\u001b[0m\u001b[0mpop\u001b[0m\u001b[0;34m(\u001b[0m\u001b[0;36m0\u001b[0m\u001b[0;34m)\u001b[0m\u001b[0;34m+\u001b[0m\u001b[0;34m'时间：'\u001b[0m\u001b[0;34m+\u001b[0m\u001b[0mstr\u001b[0m\u001b[0;34m(\u001b[0m\u001b[0mdata\u001b[0m\u001b[0;34m)\u001b[0m\u001b[0;34m)\u001b[0m\u001b[0;34m\u001b[0m\u001b[0;34m\u001b[0m\u001b[0m\n\u001b[0m\u001b[1;32m      6\u001b[0m \u001b[0mf\u001b[0m\u001b[0;34m.\u001b[0m\u001b[0mclose\u001b[0m\u001b[0;34m(\u001b[0m\u001b[0;34m)\u001b[0m\u001b[0;34m\u001b[0m\u001b[0;34m\u001b[0m\u001b[0m\n",
      "\u001b[0;31mIndexError\u001b[0m: pop from empty list"
     ]
    }
   ],
   "source": [
    "f = open('work/train_data_wrg.txt')\n",
    "for line in f:\n",
    "    data = line.strip().split(',')\n",
    "\n",
    "    print('姓名：'+data.pop(0)+'生日：'+data.pop(0)+'时间：'+str(data))\n",
    "f.close()"
   ]
  },
  {
   "cell_type": "markdown",
   "metadata": {
    "collapsed": false
   },
   "source": [
    "# 有两种解决办法：  \n",
    "1.使用异常跳过有问题的数据\n",
    "2.增加代码判断"
   ]
  },
  {
   "cell_type": "code",
   "execution_count": null,
   "metadata": {
    "collapsed": false
   },
   "outputs": [
    {
     "name": "stdout",
     "output_type": "stream",
     "text": [
      "姓名：james生日：2004-5-21时间：['2.34', '3:21', '2.34', '2.45', '3.01', '2:01', '2:01', '3:10', '2-22']\n",
      "姓名：julie生日：2006-5-9时间：['2.59', '2.11', '2:11', '2:23', '3-10', '2-23', '3:10', '3.21', '3-21']\n",
      "姓名：sarah生日：2004-3-8时间：['2:58', '2.58', '2:39', '2-25', '2-55', '2:54', '2.18', '2:55', '2:55']\n",
      "姓名：mikey生日：2003-9-10时间：['2:22', '3.01', '3:01', '3.02', '3:02', '3.02', '3:22', '2.49', '2:38']\n"
     ]
    }
   ],
   "source": [
    "#使用异常\n",
    "f = open('work/train_data_wrg.txt')\n",
    "for line in f:\n",
    "  \n",
    "    data = line.strip().split(',')\n",
    "    try:\n",
    "\n",
    "        print('姓名：'+data.pop(0)+'生日：'+data.pop(0)+'时间：'+str(data))\n",
    "    except:\n",
    "        pass\n",
    "f.close()"
   ]
  },
  {
   "cell_type": "code",
   "execution_count": null,
   "metadata": {
    "collapsed": false
   },
   "outputs": [
    {
     "name": "stdout",
     "output_type": "stream",
     "text": [
      "姓名：james生日：2004-5-21时间：['2.34', '3:21', '2.34', '2.45', '3.01', '2:01', '2:01', '3:10', '2-22']\n",
      "姓名：julie生日：2006-5-9时间：['2.59', '2.11', '2:11', '2:23', '3-10', '2-23', '3:10', '3.21', '3-21']\n",
      "姓名：sarah生日：2004-3-8时间：['2:58', '2.58', '2:39', '2-25', '2-55', '2:54', '2.18', '2:55', '2:55']\n",
      "姓名：mikey生日：2003-9-10时间：['2:22', '3.01', '3:01', '3.02', '3:02', '3.02', '3:22', '2.49', '2:38']\n"
     ]
    }
   ],
   "source": [
    "#代码判断\n",
    "f = open('work/train_data_wrg.txt')#1\n",
    "for line in f:#2\n",
    "  \n",
    "    data = line.strip().split(',')\n",
    "\n",
    "    if len(data) != 1:\n",
    "        print('姓名：'+data.pop(0)+'生日：'+data.pop(0)+'时间：'+str(data))\n",
    "\n",
    "f.close()#3\n"
   ]
  },
  {
   "cell_type": "code",
   "execution_count": null,
   "metadata": {
    "collapsed": false
   },
   "outputs": [
    {
     "name": "stdout",
     "output_type": "stream",
     "text": [
      "姓名：james生日：2004-5-21时间：['2.34', '3:21', '2.34', '2.45', '3.01', '2:01', '2:01', '3:10', '2-22']\n",
      "姓名：julie生日：2006-5-9时间：['2.59', '2.11', '2:11', '2:23', '3-10', '2-23', '3:10', '3.21', '3-21']\n",
      "姓名：sarah生日：2004-3-8时间：['2:58', '2.58', '2:39', '2-25', '2-55', '2:54', '2.18', '2:55', '2:55']\n",
      "姓名：mikey生日：2003-9-10时间：['2:22', '3.01', '3:01', '3.02', '3:02', '3.02', '3:22', '2.49', '2:38']\n"
     ]
    }
   ],
   "source": [
    "#clean的写法，三行变一行\n",
    "with open('work/train_data_cor.txt') as f:\n",
    "    for line in f:\n",
    "        data = line.strip().split(',')\n",
    "        print('姓名：'+data.pop(0)+'生日：'+data.pop(0)+'时间：'+str(data))\n"
   ]
  },
  {
   "cell_type": "markdown",
   "metadata": {
    "collapsed": false
   },
   "source": [
    "# 如果文件不存在呢？\n",
    "f = open('work/train_data1.txt')\n",
    "for line in f:\n",
    "  \n",
    "    data = line.strip().split(',')\n",
    "\n",
    "    if len(data) != 1:\n",
    "        print('姓名：'+data.pop(0)+'生日：'+data.pop(0)+'时间：'+data)\n",
    "f.close()"
   ]
  },
  {
   "cell_type": "markdown",
   "metadata": {
    "collapsed": false
   },
   "source": [
    "# file对象的函数列表"
   ]
  },
  {
   "cell_type": "code",
   "execution_count": null,
   "metadata": {
    "collapsed": false
   },
   "outputs": [
    {
     "name": "stdout",
     "output_type": "stream",
     "text": [
      "整个文件\n",
      "james,2004-5-21,2.34,3:21,2.34,2.45,3.01,2:01,2:01,3:10,2-22\n",
      "julie,2006-5-9,2.59,2.11,2:11,2:23,3-10,2-23,3:10,3.21,3-21\n",
      "kenny\n",
      "sarah,2004-3-8,2:58,2.58,2:39,2-25,2-55,2:54,2.18,2:55,2:55\n",
      "mikey,2003-9-10,2:22,3.01,3:01,3.02,3:02,3.02,3:22,2.49,2:38\n",
      "\n",
      "读取指定大小的文件内容\n",
      "james,2004\n",
      "10\n"
     ]
    }
   ],
   "source": [
    "with open('work/train_data.txt') as f:\n",
    "    data = f.read()\n",
    "    print('整个文件\\n'+data)\n",
    "    f.seek(0)\n",
    "    data = f.read(10)\n",
    "    print('读取指定大小的文件内容\\n'+data)\n",
    "    print(f.tell())\n"
   ]
  },
  {
   "cell_type": "markdown",
   "metadata": {
    "collapsed": false
   },
   "source": [
    "# 如何写入文件内容呢？\n"
   ]
  },
  {
   "cell_type": "code",
   "execution_count": null,
   "metadata": {
    "collapsed": false
   },
   "outputs": [
    {
     "name": "stdout",
     "output_type": "stream",
     "text": [
      "Help on built-in function close:\n",
      "\n",
      "close() method of _io.TextIOWrapper instance\n",
      "    Flush and close the IO object.\n",
      "    \n",
      "    This method has no effect if the file is already closed.\n",
      "\n"
     ]
    }
   ],
   "source": [
    "f = open('work/data.txt','w')\n",
    "f.write('this is file content')\n",
    "f.close()"
   ]
  },
  {
   "cell_type": "markdown",
   "metadata": {
    "collapsed": false
   },
   "source": [
    "open('work/data.txt','w')第一个参数文件路径，第二个参数打开文件的模式  \n",
    "f.write('this is file content')参数为写入的内容\n",
    "f.close()关闭文件"
   ]
  },
  {
   "cell_type": "markdown",
   "metadata": {
    "collapsed": false
   },
   "source": [
    "# 对象转JSON"
   ]
  },
  {
   "cell_type": "code",
   "execution_count": null,
   "metadata": {
    "collapsed": false
   },
   "outputs": [
    {
     "name": "stdout",
     "output_type": "stream",
     "text": [
      "<__main__.Athlete object at 0x7fdd6cc6a450>\n"
     ]
    }
   ],
   "source": [
    "import json\n",
    "class Athlete(json.JSONEncoder):\n",
    "    def __init__(self,a_name,a_dob=None,a_times=[]):\n",
    "        self.name = a_name\n",
    "        self.dob = a_dob\n",
    "        self.times = a_times\n",
    "    def top3(self):\n",
    "        return sorted(set([self.sanitize(t) for t in self.times]))[0:3]\n",
    "    def sanitize(self,time_string):\n",
    "        if '-' in time_string:\n",
    "            splitter = '-'\n",
    "        elif ':' in time_string:\n",
    "            splitter = ':'\n",
    "        else:\n",
    "            return (time_string)\n",
    "        (mins,secs) = time_string.split(splitter)\n",
    "        return (mins+'.'+secs)\n",
    "\n",
    "\n",
    "with open('work/train_data_cor.txt') as f:\n",
    "    data = f.readline().strip().split(',')\n",
    "    ath = Athlete(data.pop(0),data.pop(0),data)\n",
    "    print(ath)\n",
    "\n",
    "ath_json = json.dumps(ath.__dict__)\n"
   ]
  },
  {
   "cell_type": "markdown",
   "metadata": {
    "collapsed": false
   },
   "source": [
    "# 内中的json形式的变量保存到文件"
   ]
  },
  {
   "cell_type": "code",
   "execution_count": null,
   "metadata": {
    "collapsed": false
   },
   "outputs": [],
   "source": [
    "\n",
    "with open('work/json.txt','w') as f:\n",
    "    json.dump(ath_json,f)\n"
   ]
  },
  {
   "cell_type": "markdown",
   "metadata": {
    "collapsed": false
   },
   "source": [
    "# 读取json文件内容"
   ]
  },
  {
   "cell_type": "code",
   "execution_count": null,
   "metadata": {
    "collapsed": false
   },
   "outputs": [
    {
     "name": "stdout",
     "output_type": "stream",
     "text": [
      "{\"name\": \"james\", \"dob\": \"2004-5-21\", \"times\": [\"2.34\", \"3:21\", \"2.34\", \"2.45\", \"3.01\", \"2:01\", \"2:01\", \"3:10\", \"2-22\"]}\n"
     ]
    }
   ],
   "source": [
    "with open('work/json.txt') as f:\n",
    "\n",
    "    ath = json.load(f)\n",
    "    print(ath)\n"
   ]
  },
  {
   "cell_type": "markdown",
   "metadata": {
    "collapsed": false
   },
   "source": [
    "# 目录访问"
   ]
  },
  {
   "cell_type": "code",
   "execution_count": null,
   "metadata": {
    "collapsed": false
   },
   "outputs": [],
   "source": [
    "import os\n",
    "#返回当前工作目录\n",
    "current_path = os.getcwd()\n",
    "print('当前路径：'+current_path)"
   ]
  },
  {
   "cell_type": "code",
   "execution_count": null,
   "metadata": {
    "collapsed": false
   },
   "outputs": [],
   "source": [
    "#改变当前工作目录\n",
    "os.chdir('/home/aistudio/work')\n",
    "#运行mkdir命令\n",
    "os.system('mkdir today')"
   ]
  },
  {
   "cell_type": "code",
   "execution_count": null,
   "metadata": {
    "collapsed": false
   },
   "outputs": [],
   "source": [
    "from pathlib import Path\n",
    "#返回当前绝对路径\n",
    "abs_path = os.path.abspath('')\n",
    "print('abs_path：'+abs_path)\n",
    "#路径是否存在\n",
    "Path(abs_path).exists()"
   ]
  },
  {
   "cell_type": "code",
   "execution_count": null,
   "metadata": {
    "collapsed": false
   },
   "outputs": [],
   "source": [
    "print('当前路径：'+os.getcwd())\n",
    "listdir = os.listdir()\n",
    "#返回当前路径下文件和文件夹名\n",
    "print(listdir)\n"
   ]
  },
  {
   "cell_type": "code",
   "execution_count": null,
   "metadata": {
    "collapsed": false
   },
   "outputs": [],
   "source": [
    "#是否为文件夹\n",
    "os.path.isdir('/home/aistudio/work/today')"
   ]
  },
  {
   "cell_type": "markdown",
   "metadata": {
    "collapsed": false
   },
   "source": [
    "# 问题：显示work路径下的所有类型为txt的文件\n"
   ]
  },
  {
   "cell_type": "code",
   "execution_count": null,
   "metadata": {
    "collapsed": false
   },
   "outputs": [],
   "source": [
    "import os\n",
    "listdir = os.listdir('/home/aistudio/work')\n",
    "\n",
    "target = []\n",
    "for name in listdir:\n",
    "    #防止文件名与文件夹名一样的情况\n",
    "    # print(os.path.isfile(name))\n",
    "    \n",
    "    temp = name.split('.')\n",
    "    (filename,filetype) = (temp.pop(0),temp.pop(0))\n",
    "    if filetype == 'txt':\n",
    "        target.append(name)\n",
    " \n",
    "    # print('name:%s,type:%s' %(filename,filetype))\n",
    "\n",
    "print(target)"
   ]
  },
  {
   "cell_type": "markdown",
   "metadata": {
    "collapsed": false
   },
   "source": [
    "# 问题：temp = name.split('.')在name为dir1时出现问题"
   ]
  },
  {
   "cell_type": "code",
   "execution_count": null,
   "metadata": {
    "collapsed": false
   },
   "outputs": [],
   "source": [
    "import os\n",
    "path = '/home/aistudio/work'\n",
    "listdir = os.listdir(path)\n",
    "\n",
    "target = []\n",
    "for name in listdir:\n",
    "    #防止文件名与文件夹名一样的情况\n",
    "    # print(os.path.isfile(name))\n",
    "    if os.path.isfile(path+'/'+name):\n",
    "        temp = name.split('.')\n",
    "        (filename,filetype) = (temp.pop(0),temp.pop(0))\n",
    "        if filetype == 'txt':\n",
    "                target.append(name)\n",
    "    \n",
    "        # print('name:%s,type:%s' %(filename,filetype))\n",
    "\n",
    "\n",
    "print(target)"
   ]
  },
  {
   "cell_type": "markdown",
   "metadata": {
    "collapsed": false
   },
   "source": [
    "# 如果dir1中包含文件呢？"
   ]
  },
  {
   "cell_type": "code",
   "execution_count": null,
   "metadata": {
    "collapsed": false
   },
   "outputs": [],
   "source": [
    "import os\n",
    "\n",
    "target = []\n",
    "\n",
    "\n",
    "path = '/home/aistudio/work'\n",
    "listdir = os.listdir(path)\n",
    "for name in listdir:\n",
    "    #防止文件名与文件夹名一样的情况\n",
    "    if os.path.isfile(path+'/'+name):\n",
    "        temp = name.split('.')\n",
    "        (filename,filetype) = (temp.pop(0),temp.pop(0))\n",
    "        if filetype == 'txt':\n",
    "            target.append(name)  \n",
    "    else:\n",
    "        #如果是文件夹，需要读取该文件夹的列表        \n",
    "        dir_path = path+'/'+name\n",
    "        listdir = os.listdir(dir_path)\n",
    "        for name in listdir:\n",
    "            #防止文件名与文件夹名一样的情况\n",
    "            if os.path.isfile(dir_path+'/'+name):\n",
    "                temp = name.split('.')\n",
    "                (filename,filetype) = (temp.pop(0),temp.pop(0))\n",
    "                if filetype == 'txt':\n",
    "                    target.append(name)\n",
    "print('结果：'+str(target))"
   ]
  },
  {
   "cell_type": "markdown",
   "metadata": {
    "collapsed": false
   },
   "source": [
    "# 如果dir1中又包含文件夹该怎么办呢？  \n",
    "有重复的代码，我们就会想到循环"
   ]
  },
  {
   "cell_type": "code",
   "execution_count": null,
   "metadata": {
    "collapsed": false
   },
   "outputs": [],
   "source": [
    "import os\n",
    "\n",
    "def recur(path):\n",
    "    listdir = os.listdir(path)\n",
    "    for name in listdir:\n",
    "        if name[0] is '.' or name[0] is '_':\n",
    "            continue\n",
    "        next_path = path+'/'+name\n",
    "        if os.path.isfile(next_path) :\n",
    "            # print(next_path + '=====isfile')\n",
    "            temp = name.split('.')\n",
    "            (filename,filetype) = (temp.pop(0),temp.pop(0))\n",
    "            if filetype == 'txt':\n",
    "                target.append(name)\n",
    "        else:\n",
    "            recur(next_path)\n",
    "\n",
    "    return os.path.dirname(next_path)\n",
    "path = '/home/aistudio/work'\n",
    "target = []\n",
    "recur(path)\n",
    "print(target)\n"
   ]
  },
  {
   "cell_type": "markdown",
   "metadata": {
    "collapsed": false
   },
   "source": [
    "# 怎么一步一步运行程序，并观察程序中变量的值"
   ]
  },
  {
   "cell_type": "code",
   "execution_count": null,
   "metadata": {
    "collapsed": false
   },
   "outputs": [],
   "source": [
    "import pdb\n",
    "import os\n",
    "\n",
    "\n",
    "\n",
    "def recur(path):\n",
    "\n",
    "    listdir = os.listdir(path)\n",
    "\n",
    "    for name in listdir:\n",
    "        if name[0] is '.' or name[0] is '_':\n",
    "            continue\n",
    "        next_path = path+'/'+name\n",
    "        if os.path.isfile(next_path) :\n",
    "            # print(next_path + '=====isfile')\n",
    "            temp = name.split('.')\n",
    "            (filename,filetype) = (temp.pop(0),temp.pop(0))\n",
    "            if filetype == 'txt':\n",
    "                target.append(name)\n",
    "        else:\n",
    "            recur(next_path)\n",
    "\n",
    "    return os.path.dirname(next_path)\n",
    "\n",
    "if __name__ == '__main__':\n",
    "    pdb.set_trace()\n",
    "    path = '/home/aistudio/work'\n",
    "    target = []\n",
    "    recur(path)\n",
    "    print(target)\n",
    "\n"
   ]
  },
  {
   "cell_type": "code",
   "execution_count": null,
   "metadata": {
    "collapsed": false
   },
   "outputs": [],
   "source": [
    "#制造数据\n",
    "with open('work/loren.txt','w+') as f:\n",
    "    for i in range(5000000):\n",
    "        f.write('loren,2011-11-3,270,3.59,4.11,3:11,3:23,4-10,3-23,4:10,4.21,4-21')\n",
    "        f.write('\\n')"
   ]
  },
  {
   "cell_type": "code",
   "execution_count": null,
   "metadata": {
    "collapsed": false
   },
   "outputs": [],
   "source": [
    "#只使用进程的方式\n",
    "\n",
    "\n",
    "print('压缩作业开始了，请您耐心等待...')\n",
    "\n",
    "infile = 'work/loren.txt'\n",
    "outfile = 'work/myarchive.zip'\n",
    "f = zipfile.ZipFile(outfile, 'w', zipfile.ZIP_DEFLATED)\n",
    "f.write(infile)\n",
    "f.close()\n",
    "\n",
    "\n",
    "print('压缩作业结束了，请问还需要帮您做什么呢？')"
   ]
  },
  {
   "cell_type": "markdown",
   "metadata": {
    "collapsed": false
   },
   "source": [
    "#使用进程+线程的方式"
   ]
  },
  {
   "cell_type": "code",
   "execution_count": null,
   "metadata": {
    "collapsed": false
   },
   "outputs": [],
   "source": [
    "import threading, zipfile\n",
    "\n",
    "class AsyncZip(threading.Thread):\n",
    "    def __init__(self, infile, outfile):\n",
    "        threading.Thread.__init__(self)\n",
    "        self.infile = infile\n",
    "        self.outfile = outfile\n",
    "\n",
    "    def run(self):\n",
    "        f = zipfile.ZipFile(self.outfile, 'w', zipfile.ZIP_DEFLATED)\n",
    "        f.write(self.infile)\n",
    "        f.close()\n",
    "        print('压缩完成，您要的文件在:', self.outfile)\n",
    "\n",
    "background = AsyncZip('work/loren.txt', 'work/myarchive.zip')\n",
    "\n",
    "print('压缩作业开始了，请您耐心等待...')\n",
    "background.start()\n",
    "print('我正在为您压缩，请问还需要帮您做什么呢？')\n",
    "background.join()\n",
    "\n"
   ]
  },
  {
   "cell_type": "markdown",
   "metadata": {
    "collapsed": false
   },
   "source": [
    "![](https://ai-studio-static-online.cdn.bcebos.com/11849cfea6994a4f8892e58647206963701bc5c26ac04b03aa58cad4841caba8)\n"
   ]
  }
 ],
 "metadata": {
  "kernelspec": {
   "display_name": "PaddlePaddle 2.0.0b0 (Python 3.5)",
   "language": "python",
   "name": "py35-paddle1.2.0"
  },
  "language_info": {
   "codemirror_mode": {
    "name": "ipython",
    "version": 3
   },
   "file_extension": ".py",
   "mimetype": "text/x-python",
   "name": "python",
   "nbconvert_exporter": "python",
   "pygments_lexer": "ipython3",
   "version": "3.7.4"
  }
 },
 "nbformat": 4,
 "nbformat_minor": 1
}
