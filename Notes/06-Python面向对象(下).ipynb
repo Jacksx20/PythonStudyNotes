{
 "cells": [
  {
   "cell_type": "markdown",
   "metadata": {
    "collapsed": false
   },
   "source": [
    "# 新需求  \n",
    "\n",
    "橄榄球教练Roger，拿出了自己的数据结构，我们的队员除了速度训练，还需要进行力量的练习。既然你的类表现的不错，我能不能用呢？  \n",
    "\n",
    "loren,2011-11-3,270,3.59,4.11,3:11,3:23,4-10,3-23,4:10,4.21,4-21"
   ]
  },
  {
   "cell_type": "code",
   "execution_count": null,
   "metadata": {
    "collapsed": false
   },
   "outputs": [],
   "source": [
    "def get_coach_data(filename):\r\n",
    "    with open(filename) as f:\r\n",
    "        line = f.readline()\r\n",
    "    return line.strip().split(',')"
   ]
  },
  {
   "cell_type": "code",
   "execution_count": null,
   "metadata": {
    "collapsed": false
   },
   "outputs": [],
   "source": [
    "class Athlete:\r\n",
    "    def __init__(self,a_name,a_dob=None,a_times=[]):\r\n",
    "        self.name = a_name\r\n",
    "        self.dob = a_dob\r\n",
    "        self.times = a_times\r\n",
    "    def top3(self):\r\n",
    "        return sorted(set([self.sanitize(t) for t in self.times]))[0:3]\r\n",
    "    def sanitize(self,time_string):\r\n",
    "        if '-' in time_string:\r\n",
    "            splitter = '-'\r\n",
    "        elif ':' in time_string:\r\n",
    "            splitter = ':'\r\n",
    "        else:\r\n",
    "            return (time_string)\r\n",
    "        (mins,secs) = time_string.split(splitter)\r\n",
    "        return (mins+'.'+secs)"
   ]
  },
  {
   "cell_type": "code",
   "execution_count": null,
   "metadata": {
    "collapsed": false
   },
   "outputs": [],
   "source": [
    "#定义橄榄球运送员类\r\n",
    "class Rugby(Athlete):\r\n",
    "    def __init__(self,a_name,a_bod,a_squat,a_times):\r\n",
    "        #调用父类__init__\r\n",
    "        Athlete.__init__(self,a_name,a_bod,a_times)\r\n",
    "        #深蹲次数\r\n",
    "        self.squat = a_squat\r\n",
    "    # 继承后下面两个函数就在Rugby类中，只是看不到而已\r\n",
    "    # def top3(self):\r\n",
    "    #     return sorted(set([self.sanitize(t) for t in self.times]))[0:3]\r\n",
    "    # def sanitize(self,time_string):\r\n",
    "    #     if '-' in time_string:\r\n",
    "    #         splitter = '-'\r\n",
    "    #     elif ':' in time_string:\r\n",
    "    #         splitter = ':'\r\n",
    "    #     else:\r\n",
    "    #         return (time_string)\r\n",
    "    #     (mins,secs) = time_string.split(splitter)\r\n",
    "    #     return (mins+'.'+secs)"
   ]
  },
  {
   "cell_type": "code",
   "execution_count": null,
   "metadata": {
    "collapsed": false
   },
   "outputs": [
    {
     "name": "stdout",
     "output_type": "stream",
     "text": [
      "姓名：2011-11-3,生日：270,深蹲：3.59个,最块的3次成绩：['3.11', '3.23', '4.10']\n"
     ]
    }
   ],
   "source": [
    "loren = get_coach_data('mywork/loren.txt')\r\n",
    "rugby = Rugby(loren.pop(0),loren.pop(0),loren.pop(0),loren)\r\n",
    "print('姓名：%s,生日：%s,深蹲：%s个,最块的3次成绩：%s' %(rugby.name,rugby.dob,rugby.squat,rugby.top3()))"
   ]
  },
  {
   "cell_type": "markdown",
   "metadata": {
    "collapsed": false
   },
   "source": [
    "# 如何使用\n",
    "\n",
    "定义：  \n",
    "\n",
    "class 子类名(父类名)：\n",
    "\n",
    "情况1，如果子类有新增的属性，那么需要在子类__init方法中，调用父类的__init__  \n",
    "\n",
    "情况2，如果子类没有新增的属性,子类不需要写__init__方法\n",
    "\n",
    "使用：  \n",
    "对象名 = 子类名(参数)"
   ]
  },
  {
   "cell_type": "markdown",
   "metadata": {
    "collapsed": false
   },
   "source": [
    "继承的好处：代码重用，升级功能（重写），新增功能（新的方法）"
   ]
  },
  {
   "cell_type": "markdown",
   "metadata": {
    "collapsed": false
   },
   "source": [
    "# 新需求\n",
    "\n",
    "作为橄榄球队的教练，我不太在意最快的3个记录，top3我只想知道3次最长时间记录就可以了，重复也行。"
   ]
  },
  {
   "cell_type": "code",
   "execution_count": null,
   "metadata": {
    "collapsed": false
   },
   "outputs": [],
   "source": [
    "class Rugby(Athlete):\r\n",
    "    def __init__(self,a_name,a_bod,a_squat,a_times):\r\n",
    "\r\n",
    "        Athlete.__init__(self,a_name,a_bod,a_times)\r\n",
    "\r\n",
    "        self.squat = a_squat\r\n",
    "    def top3(self):\r\n",
    "        return sorted([self.sanitize(t) for t in self.times])[-3:]"
   ]
  },
  {
   "cell_type": "code",
   "execution_count": null,
   "metadata": {
    "collapsed": false
   },
   "outputs": [
    {
     "name": "stdout",
     "output_type": "stream",
     "text": [
      "姓名：2011-11-3,生日：270,深蹲：3.59个,最慢的3次成绩：['4.11', '4.21', '4.21']\n"
     ]
    }
   ],
   "source": [
    "loren = get_coach_data('mywork/loren.txt')\r\n",
    "rugby = Rugby(loren.pop(0),loren.pop(0),loren.pop(0),loren)\r\n",
    "print('姓名：%s,生日：%s,深蹲：%s个,最慢的3次成绩：%s' %(rugby.name,rugby.dob,rugby.squat,rugby.top3()))"
   ]
  },
  {
   "cell_type": "markdown",
   "metadata": {
    "collapsed": false
   },
   "source": [
    "# 方法重写\n",
    "子类方法与父类方法完全相同，子类若重写了父类的方法，则子类对象调用方法时就是调用的自己类中重新的方法。"
   ]
  },
  {
   "cell_type": "markdown",
   "metadata": {
    "collapsed": false
   },
   "source": [
    "# 问题 \n",
    "如果有其他的教练，只需要top3中的，3个最短记录呢（可以重复）？有更多的教练对top3的更多要求呢?  "
   ]
  },
  {
   "cell_type": "code",
   "execution_count": null,
   "metadata": {
    "collapsed": false
   },
   "outputs": [],
   "source": [
    "class OtherAthlete(Athlete):\r\n",
    "    def __init__(self,a_name,a_bod,a_squat,a_times):\r\n",
    "\r\n",
    "        Athlete.__init__(self,a_name,a_bod,a_times)\r\n",
    "\r\n",
    "        self.squat = a_squat\r\n",
    "    def top3(self):\r\n",
    "        return sorted([self.sanitize(t) for t in self.times])[0:3]"
   ]
  },
  {
   "cell_type": "code",
   "execution_count": null,
   "metadata": {
    "collapsed": false
   },
   "outputs": [
    {
     "name": "stdout",
     "output_type": "stream",
     "text": [
      "姓名：mark,生日：2010-2-4,深蹲：300个,最快的3次成绩：['3.11', '3.11', '3.23']\n"
     ]
    }
   ],
   "source": [
    "mark = get_coach_data('mywork/mark.txt')\r\n",
    "mark = OtherAthlete(mark.pop(0),mark.pop(0),mark.pop(0),mark)\r\n",
    "print('姓名：%s,生日：%s,深蹲：%s个,最快的3次成绩：%s' %(mark.name,mark.dob,mark.squat,mark.top3()))"
   ]
  },
  {
   "cell_type": "markdown",
   "metadata": {
    "collapsed": false
   },
   "source": [
    "# 问题  \n",
    "\n",
    "又来10个各种各样的运动员，他们的top3完全不同，代码看起来是这样的。  \n",
    "\n",
    "我需要为每种远动员定义一个子类，调用的时候是一堆重复的代码。"
   ]
  },
  {
   "cell_type": "code",
   "execution_count": null,
   "metadata": {
    "collapsed": false
   },
   "outputs": [
    {
     "name": "stdout",
     "output_type": "stream",
     "text": [
      "姓名：mark,生日：2010-2-4,深蹲：300个,最快的3次成绩：['3.11', '3.11', '3.23']\n",
      "姓名：mark,生日：2010-2-4,深蹲：111个,最快的3次成绩：['3.11', '3.11', '3.23']\n",
      "姓名：mark,生日：2010-2-4,深蹲：222个,最快的3次成绩：['3.11', '3.11', '3.23']\n"
     ]
    }
   ],
   "source": [
    "mark1 = get_coach_data('mywork/mark.txt')\r\n",
    "mark2 = get_coach_data('mywork/mark1.txt')\r\n",
    "mark3 = get_coach_data('mywork/mark2.txt')\r\n",
    "\r\n",
    "\r\n",
    "mark1 = OtherAthlete(mark1.pop(0),mark1.pop(0),mark1.pop(0),mark1)\r\n",
    "mark2 = OtherAthlete(mark2.pop(0),mark2.pop(0),mark2.pop(0),mark2)\r\n",
    "mark3 = OtherAthlete(mark3.pop(0),mark3.pop(0),mark3.pop(0),mark3)\r\n",
    "\r\n",
    "print('姓名：%s,生日：%s,深蹲：%s个,最快的3次成绩：%s' %(mark1.name,mark1.dob,mark1.squat,mark1.top3()))\r\n",
    "print('姓名：%s,生日：%s,深蹲：%s个,最快的3次成绩：%s' %(mark2.name,mark2.dob,mark2.squat,mark2.top3()))\r\n",
    "print('姓名：%s,生日：%s,深蹲：%s个,最快的3次成绩：%s' %(mark3.name,mark3.dob,mark3.squat,mark3.top3()))"
   ]
  },
  {
   "cell_type": "code",
   "execution_count": null,
   "metadata": {
    "collapsed": false
   },
   "outputs": [
    {
     "name": "stdout",
     "output_type": "stream",
     "text": [
      "2011-11-3\n",
      "270\n",
      "3.59\n",
      "['4.11', '4.21', '4.21']\n",
      "mark\n",
      "2010-2-4\n",
      "300\n",
      "['3.11', '3.11', '3.23']\n"
     ]
    }
   ],
   "source": [
    "loren = get_coach_data('mywork/loren.txt')\r\n",
    "mark = get_coach_data('mywork/mark.txt')\r\n",
    "\r\n",
    "loren = Rugby(loren.pop(0),loren.pop(0),loren.pop(0),loren)\r\n",
    "mark = OtherAthlete(mark.pop(0),mark.pop(0),mark.pop(0),mark)\r\n",
    "\r\n",
    "print(loren.name)\r\n",
    "print(loren.dob)\r\n",
    "print(loren.squat)\r\n",
    "print(loren.top3())\r\n",
    "\r\n",
    "print(mark.name)\r\n",
    "print(mark.dob)\r\n",
    "print(mark.squat)\r\n",
    "print(mark.top3())"
   ]
  },
  {
   "cell_type": "code",
   "execution_count": null,
   "metadata": {
    "collapsed": false
   },
   "outputs": [
    {
     "name": "stdout",
     "output_type": "stream",
     "text": [
      "2011-11-3\n",
      "270\n",
      "3.59\n",
      "['4.11', '4.21', '4.21']\n",
      "mark\n",
      "2010-2-4\n",
      "300\n",
      "['3.11', '3.11', '3.23']\n"
     ]
    }
   ],
   "source": [
    "loren = get_coach_data('mywork/loren.txt')\r\n",
    "mark = get_coach_data('mywork/mark.txt')\r\n",
    "\r\n",
    "loren = Rugby(loren.pop(0),loren.pop(0),loren.pop(0),loren)\r\n",
    "mark = OtherAthlete(mark.pop(0),mark.pop(0),mark.pop(0),mark)\r\n",
    "\r\n",
    "def print_rugby(athlete):\r\n",
    "\r\n",
    "    print(athlete.name)\r\n",
    "    print(athlete.dob)\r\n",
    "    print(athlete.squat)\r\n",
    "    print(athlete.top3())\r\n",
    "\r\n",
    "print_rugby(loren)\r\n",
    "print_rugby(mark)"
   ]
  },
  {
   "cell_type": "markdown",
   "metadata": {
    "collapsed": false
   },
   "source": [
    "多态性：一个事物多种形态  \n",
    "\n",
    "上面例子中print_rugby的参数athlete，athlete.name，athlete.top3()的行为由athlete的子类决定。  \n",
    "\n",
    "多态的好处是：减少重复代码，分离经常改变的代码与不经常改变的代码，使得代码可维护性提高。"
   ]
  },
  {
   "cell_type": "code",
   "execution_count": null,
   "metadata": {
    "collapsed": false
   },
   "outputs": [
    {
     "name": "stdout",
     "output_type": "stream",
     "text": [
      "mark\n"
     ]
    }
   ],
   "source": [
    "#如何优化创建对象的代码呢？\r\n",
    "\r\n",
    "def obj_factory(name,filename):\r\n",
    "    with open(filename) as f:\r\n",
    "        line = f.readline()\r\n",
    "    templ = line.strip().split(',')\r\n",
    "    if name == 'r':\r\n",
    "        return Rugby(templ.pop(0),templ.pop(0),templ.pop(0),templ)\r\n",
    "    elif name == 'oa':\r\n",
    "        return OtherAthlete(templ.pop(0),templ.pop(0),templ.pop(0),templ)\r\n",
    "\r\n",
    "oa = obj_factory('oa','mywork/mark.txt')\r\n",
    "print(oa.name)"
   ]
  },
  {
   "cell_type": "markdown",
   "metadata": {
    "collapsed": false
   },
   "source": [
    "# 多继承"
   ]
  },
  {
   "cell_type": "code",
   "execution_count": null,
   "metadata": {
    "collapsed": false
   },
   "outputs": [
    {
     "name": "stdout",
     "output_type": "stream",
     "text": [
      "---爸爸的表达能力---\n",
      "---妈妈聪明的头脑---\n"
     ]
    }
   ],
   "source": [
    "class Father(): \r\n",
    "    def talk(self):\r\n",
    "        print(\"---爸爸的表达能力---\")\r\n",
    "\r\n",
    "class Mather():\r\n",
    "    def smart(self):\r\n",
    "        print(\"---妈妈聪明的头脑---\")\r\n",
    "\r\n",
    "class Child(Father,Mather):\r\n",
    "    pass\r\n",
    "\r\n",
    "child1 = Child()\r\n",
    "child1.talk()\r\n",
    "child1.smart()"
   ]
  },
  {
   "cell_type": "code",
   "execution_count": null,
   "metadata": {
    "collapsed": false
   },
   "outputs": [
    {
     "name": "stdout",
     "output_type": "stream",
     "text": [
      "---爸爸的表达能力---\n",
      "---妈妈聪明的头脑---\n",
      "black\n"
     ]
    }
   ],
   "source": [
    "#多个父类有相同的属性或方法名，这种情况应该避免\r\n",
    "class Father(): \r\n",
    "    def __init__(self):\r\n",
    "        self.color = 'black'\r\n",
    "\r\n",
    "    def talk(self):\r\n",
    "        print(\"---爸爸的表达能力---\")\r\n",
    "\r\n",
    "class Mather():\r\n",
    "    def __init__(self):\r\n",
    "        self.color = 'white'\r\n",
    "    def talk(self):\r\n",
    "        print(\"--妈妈也能表达\")\r\n",
    "    def smart(self):\r\n",
    "        print(\"---妈妈聪明的头脑---\")\r\n",
    "\r\n",
    "class Child(Father,Mather):\r\n",
    "    pass\r\n",
    "\r\n",
    "child1 = Child()\r\n",
    "child1.talk()\r\n",
    "child1.smart()\r\n",
    "print(child1.color)"
   ]
  },
  {
   "cell_type": "code",
   "execution_count": null,
   "metadata": {
    "collapsed": false
   },
   "outputs": [
    {
     "name": "stdout",
     "output_type": "stream",
     "text": [
      "---爸爸的表达能力---\n",
      "---妈妈聪明的头脑---\n",
      "black\n",
      "170\n"
     ]
    }
   ],
   "source": [
    "class Father(): \r\n",
    "    def __init__(self):\r\n",
    "        self.color = 'black'\r\n",
    "    def talk(self):\r\n",
    "        print(\"---爸爸的表达能力---\")\r\n",
    "\r\n",
    "class Mather():\r\n",
    "    def __init__(self):\r\n",
    "        self.height = 170\r\n",
    "    def smart(self):\r\n",
    "        print(\"---妈妈聪明的头脑---\")\r\n",
    "\r\n",
    "class Child(Father,Mather):\r\n",
    "    def __init__(self):\r\n",
    "        Father.__init__(self)\r\n",
    "        Mather.__init__(self)\r\n",
    "\r\n",
    "child1 = Child()\r\n",
    "child1.talk()\r\n",
    "child1.smart()\r\n",
    "print(child1.color)\r\n",
    "print(child1.height)"
   ]
  },
  {
   "cell_type": "markdown",
   "metadata": {
    "collapsed": false
   },
   "source": [
    "# 问题  \n",
    "在每个需要Athlete的时候，我都需要把Athlete类的定义复制粘贴要用的代码上方。"
   ]
  },
  {
   "cell_type": "code",
   "execution_count": 2,
   "metadata": {
    "collapsed": false
   },
   "outputs": [],
   "source": [
    "import sys\r\n",
    "sys.path.append('mywork')\r\n",
    "\r\n",
    "# import athlete\r\n",
    "# print(dir(athlete))\r\n",
    "from athlete import *"
   ]
  },
  {
   "cell_type": "markdown",
   "metadata": {
    "collapsed": false
   },
   "source": [
    "import sys  \n",
    "导入sys模块\n",
    "sys.path.append('work')  \n",
    "将模块athlete.py添加到模块搜索路径  \n",
    "from athlete import *  \n",
    "导入athlete模块，使用athlete模块下的所有代码"
   ]
  },
  {
   "cell_type": "code",
   "execution_count": null,
   "metadata": {
    "collapsed": false
   },
   "outputs": [
    {
     "name": "stdout",
     "output_type": "stream",
     "text": [
      "2011-11-3\n",
      "270\n",
      "3.59\n",
      "['4.11', '4.21', '4.21']\n",
      "mark\n",
      "2010-2-4\n",
      "300\n",
      "['3.11', '3.11', '3.23']\n"
     ]
    }
   ],
   "source": [
    "loren = get_coach_data('mywork/loren.txt')\r\n",
    "mark = get_coach_data('mywork/mark.txt')\r\n",
    "\r\n",
    "loren = Rugby(loren.pop(0),loren.pop(0),loren.pop(0),loren)\r\n",
    "mark = OtherAthlete(mark.pop(0),mark.pop(0),mark.pop(0),mark)\r\n",
    "\r\n",
    "def print_rugby(athlete):\r\n",
    "\r\n",
    "    print(athlete.name)\r\n",
    "    print(athlete.dob)\r\n",
    "    print(athlete.squat)\r\n",
    "    print(athlete.top3())\r\n",
    "\r\n",
    "print_rugby(loren)\r\n",
    "print_rugby(mark)"
   ]
  },
  {
   "cell_type": "markdown",
   "metadata": {
    "collapsed": false
   },
   "source": [
    "# 问题  \n",
    "如果有一个模块mymodule.py中也包含get_coach_data函数，该怎么区分这两个函数呢？\n"
   ]
  },
  {
   "cell_type": "code",
   "execution_count": 5,
   "metadata": {
    "collapsed": false
   },
   "outputs": [
    {
     "name": "stdout",
     "output_type": "stream",
     "text": [
      "p1 -- mymodule\n",
      "p1 -- mymodule\n"
     ]
    }
   ],
   "source": [
    "import sys\r\n",
    "sys.path.append('work')\r\n",
    "\r\n",
    "from p1.mymodule import *\r\n",
    "from p2.mymodule import *\r\n",
    "import p1\r\n",
    "import p2\r\n",
    "p1.mymodule.demo()\r\n",
    "p2.mymodule.demo()"
   ]
  }
 ],
 "metadata": {
  "kernelspec": {
   "display_name": "PaddlePaddle 2.0.0b0 (Python 3.5)",
   "language": "python",
   "name": "py35-paddle1.2.0"
  },
  "language_info": {
   "codemirror_mode": {
    "name": "ipython",
    "version": 3
   },
   "file_extension": ".py",
   "mimetype": "text/x-python",
   "name": "python",
   "nbconvert_exporter": "python",
   "pygments_lexer": "ipython3",
   "version": "3.7.4"
  }
 },
 "nbformat": 4,
 "nbformat_minor": 1
}
