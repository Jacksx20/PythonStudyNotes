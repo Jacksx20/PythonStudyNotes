{
 "cells": [
  {
   "cell_type": "markdown",
   "metadata": {
    "collapsed": false
   },
   "source": [
    "# 前置知识点介绍"
   ]
  },
  {
   "cell_type": "markdown",
   "metadata": {
    "collapsed": false
   },
   "source": [
    "## 1 变量\n",
    "\n",
    "### 1.1 Python的变量类型\n",
    "\n",
    "变量存储在内存中的值，这就意味着在创建变量时会在内存中创建一个地址。基于变量的数据类型，解释器会分配指定内存，并决定什么数据可以被存储在内存中。因此，变量可以指定不同的数据类型，这些变量可以存储整数，浮点数或字符串等。\n",
    "\n",
    "### 1.2 变量赋值\n",
    "\n",
    "Python 中的变量赋值不需要声明类型。每个变量在内存中创建，都包括变量的标识，名称和数据这些信息。每个变量在使用前都必须赋值，变量赋值以后该变量才会被创建。等号`=`用来给变量赋值。\n",
    "\n",
    "等号`= `运算符左边是变量名，等号`=`运算符右边是存储在变量中的值。例如："
   ]
  },
  {
   "cell_type": "code",
   "execution_count": 1,
   "metadata": {
    "collapsed": false
   },
   "outputs": [
    {
     "name": "stdout",
     "output_type": "stream",
     "text": [
      "100 <class 'int'>\n",
      "100.0 <class 'float'>\n",
      "James <class 'str'>\n"
     ]
    }
   ],
   "source": [
    "int_test = 100  # 整型\r\n",
    "float_test = 100.0  # 浮点型\r\n",
    "name = \"James\"  # 字符串\r\n",
    "\r\n",
    "print(int_test, type(int_test))\r\n",
    "print(float_test, type(float_test))\r\n",
    "print(name, type(name))"
   ]
  },
  {
   "cell_type": "markdown",
   "metadata": {
    "collapsed": false
   },
   "source": [
    "Python中也允许同时对多变量进行赋值，例如："
   ]
  },
  {
   "cell_type": "code",
   "execution_count": 2,
   "metadata": {
    "collapsed": false
   },
   "outputs": [
    {
     "name": "stdout",
     "output_type": "stream",
     "text": [
      "1 <class 'int'> 2.0 <class 'float'> 3.0 <class 'str'>\n"
     ]
    }
   ],
   "source": [
    "a, b, c = 1, 2.0, \"3.0\"\r\n",
    "print(a, type(a), b, type(b), c, type(c))"
   ]
  },
  {
   "cell_type": "markdown",
   "metadata": {
    "collapsed": false
   },
   "source": [
    "## 2 命名空间\n",
    "\n",
    "**定义：** 命名空间(Namespace)是从名称到对象的映射，大部分的命名空间都是通过 Python 字典来实现的。\n",
    "\n",
    "**作用：** 命名空间提供了在项目中避免名字冲突的一种方法。各个命名空间是独立的，没有任何联系的，所以一个命名空间中不能有重名，但不同的命名空间是可以重名，但建议在实际编程过程中尽量避免重名的情况。\n",
    "\n",
    "**说明：** 一般有三种形式的命名空间。\n",
    "\n",
    "- **内置命名空间（Built-in names）**： 用于存放Python 的内置函数的空间，比如，print，input等不需要定义即可使用的函数就处在内置命名空间。\n",
    "- **全局命名空间（Global names）**：模块中定义的名称，记录了模块的变量，包括函数、类、其它导入的模块、模块级的变量和常量。\n",
    "- **局部命名空间（Local names）**：函数中定义的名称，记录了函数的变量，包括函数的参数和局部定义的变量。在函数内定义的局部变量，在函数执行结束后就会失效，即无法在函数外直接调用函数内定义的变量。\n",
    "\n",
    "![](https://ai-studio-static-online.cdn.bcebos.com/cfa82c652eba48c5bedd79a57212c6ff3bf243a8cbc44f45ae1e02665ca3e777)\n",
    "\n",
    "**命名空间查找顺序：** 局部命名空间→全局命名空间→内置命名空间。\n",
    "\n",
    "**命名空间的生命周期：** 命名空间的生命周期取决于对象的作用域，如果对象执行完成，则该命名空间的生命周期就结束。\n",
    "\n",
    "**举例：** 通过下面这个例子来试着理解一下上述三种命名空间吧。"
   ]
  },
  {
   "cell_type": "code",
   "execution_count": 3,
   "metadata": {
    "collapsed": false
   },
   "outputs": [
    {
     "name": "stdout",
     "output_type": "stream",
     "text": [
      "2\n"
     ]
    }
   ],
   "source": [
    "# 在全局命名空间中给变量a赋值，令a=1。\n",
    "a = 1\n",
    "\n",
    "# 在定义函数“function1”的同时就为其创建了一个独立的局部命名空间。\n",
    "def function1():\n",
    "    # 变量b在局部命名空间中被赋值“a+1”。\n",
    "    b = a + 1\n",
    "    # 此处所使用的print函数就是源自Python的内置命名空间。\n",
    "    print(b)\n",
    "    \n",
    "# 执行function1时，计算机会优先找到function1局部命名空间中的“b=a+1”，然后再找到全局命名空间中的“a=1”，最后找到内置命名空间中的print将b的值打印出来。\n",
    "function1()   "
   ]
  },
  {
   "cell_type": "markdown",
   "metadata": {
    "collapsed": false
   },
   "source": [
    "## 3 作用域\n",
    "\n",
    "作用域就是一个 Python 程序可以直接访问命名空间的正文区域。在一个 python 程序中，直接访问一个变量，会从内到外依次访问所有的作用域直到找到，否则会报未定义的错误。Python 中，程序的变量并不是在哪个位置都可以访问的，访问权限决定于这个变量是在哪里赋值的。变量的作用域决定了在哪一部分程序可以访问哪个特定的变量名称。Python的作用域一共有4种，分别是：\n",
    "\n",
    "- **Local**：在程序的最内层，包含局部变量，比如，一个函数的内部。\n",
    "- **Enclosing**：包含了非局部(non-local)也非全局(non-global)的变量。比如，两个嵌套函数，函数（或类）A里面又包含了函数B，那么对于B中的名称来说 A中的作用域就为no-nlocal。\n",
    "- **Global**：当前脚本的最外层，比如，当前模块的全局变量。\n",
    "- **Built-in**： 包含了内建的变量/关键字等，比如，int。"
   ]
  },
  {
   "cell_type": "markdown",
   "metadata": {
    "collapsed": false
   },
   "source": [
    "## 4 异常\n",
    "\n",
    "### 4.1 什么是异常？\n",
    "\n",
    "异常即是一个事件，该事件会在程序执行过程中发生，影响了程序的正常执行。一般情况下，在Python无法正常处理程序时就会发生一个异常。异常是Python对象，表示一个错误。当Python脚本发生异常时我们需要捕获处理它，否则程序会终止执行。\n",
    "\n",
    "### 4.2 异常处理\n",
    "\n",
    "捕捉异常可以使用`try/except`语句。`try/except`语句用来检测try语句块中的错误，从而让except语句捕获异常信息并处理。如果你不想在异常发生时结束你的程序，只需在try里捕获它。\n",
    "\n",
    "**说明：**\n",
    "\n",
    "try的工作原理是，当开始一个try语句后，python就在当前程序的上下文中作标记，这样当异常出现时就可以回到这里，try子句先执行，接下来会发生什么依赖于执行时是否出现异常。\n",
    "\n",
    "- 如果当try后的语句执行时发生异常，python就跳回到try并执行第一个匹配该异常的except子句，异常处理完毕，控制流就通过整个try语句（除非在处理异常时又引发新的异常）。\n",
    "- 如果在try后的语句里发生了异常，却没有匹配的except子句，异常将被递交到上层的try，或者到程序的最上层（这样将结束程序，并打印默认的出错信息）。\n",
    "- 如果在try子句执行时没有发生异常，python将执行else语句后的语句（如果有else的话），然后控制流通过整个try语句。\n",
    "\n",
    "**语法：**\n",
    "\n",
    "```python\n",
    "try:\n",
    "\t语句        # 正常的操作。\n",
    "except name：\n",
    "\t语句        # 如果在try部份触发了'name'异常，执行这块代码。\n",
    "except name，数据:\n",
    "\t语句        # 如果触发了'name'异常，获得附加的数据，执行这块代码。\n",
    "else:\n",
    "\t语句        # 如果没有异常执行这块代码\n",
    "finally:\n",
    "\t语句        # 无论有没有异常都会执行\n",
    "```\n",
    "**举例：**"
   ]
  },
  {
   "cell_type": "code",
   "execution_count": 61,
   "metadata": {
    "collapsed": false
   },
   "outputs": [
    {
     "name": "stdout",
     "output_type": "stream",
     "text": [
      "[2]\n",
      "[2, 3]\n",
      "[2, 3, 4]\n",
      "[2, 3, 4, 5]\n",
      "有异常发生\n",
      "[2, 3, 4, 5, 7]\n",
      "[2, 3, 4, 5, 7, 8]\n",
      "[2, 3, 4, 5, 7, 8, 9]\n"
     ]
    }
   ],
   "source": [
    "list1 = [1,2,3,4,'5',6,7,8]\r\n",
    "list2 = []\r\n",
    "for i in range(len(list1)):\r\n",
    "    try:\r\n",
    "        list1[i]+=1\r\n",
    "        list2.append(list1[i])\r\n",
    "        print(list2)\r\n",
    "    except:\r\n",
    "        print('有异常发生')"
   ]
  },
  {
   "cell_type": "markdown",
   "metadata": {
    "collapsed": false
   },
   "source": [
    "- **Tip:**\n",
    "关于异常更为详细的介绍可参考课节2课件里面的“异常与错误处理”\n",
    "\n",
    "- **地址：**\n",
    "https://aistudio.baidu.com/aistudio/projectdetail/1516473"
   ]
  },
  {
   "cell_type": "markdown",
   "metadata": {
    "collapsed": false
   },
   "source": [
    "## 5 sorted函数\n",
    "\n",
    "Python中`sorted()`函数可对所有可迭代的对象进行排序操作。\n",
    "\n",
    "> **Tip：sort与sorted区别：**\n",
    ">\n",
    "> sort是应用在list上的方法，sorted可以对所有可迭代的对象进行排序操作。\n",
    ">\n",
    "> list的sort方法返回的是对已经存在的列表进行操作，而内建函数sorted方法返回的是一个新的list，而不是在原来的基础上进行的操作。\n",
    "\n",
    "**语法：**\n",
    "\n",
    "```python\n",
    "sorted(iterable, key=None, reverse=False)\n",
    "# iterable：可迭代对象。\n",
    "# key：主要是用来进行比较的元素，只有一个参数，具体的函数的参数就是取自于可迭代对象中，指定可迭代对象中的一个元素来进行排序。\n",
    "# reverse：排序规则，reverse = True 降序 ， reverse = False 升序（默认）。\n",
    "```\n",
    "\n",
    "**举例：**\n",
    "\n",
    "1. 对list进行排序。"
   ]
  },
  {
   "cell_type": "code",
   "execution_count": 4,
   "metadata": {
    "collapsed": false
   },
   "outputs": [
    {
     "name": "stdout",
     "output_type": "stream",
     "text": [
      "[0, 1, 2, 3, 4, 5, 6, 7] [7, 6, 5, 4, 3, 2, 1, 0] [7, 6, 5, 4, 3, 2, 1, 0]\n"
     ]
    }
   ],
   "source": [
    "# 定义一个由0-7乱序组成的“test_list”。\r\n",
    "test_list = [5, 7, 0, 6, 4, 2, 1, 3]\r\n",
    "\r\n",
    "# 使用sorted()函数对“test_list”进行排序。\r\n",
    "result_list1 = sorted(test_list)\r\n",
    "result_list2 = sorted(test_list, reverse=True)\r\n",
    "result_list3 = sorted(test_list, key=lambda x: x * -1)\r\n",
    "\r\n",
    "# 打印、查看并理解三种排序的结果。\r\n",
    "print(result_list1, result_list2, result_list3)"
   ]
  },
  {
   "cell_type": "markdown",
   "metadata": {
    "collapsed": false
   },
   "source": [
    "2. 对字典进行排序。"
   ]
  },
  {
   "cell_type": "code",
   "execution_count": 5,
   "metadata": {
    "collapsed": false
   },
   "outputs": [
    {
     "name": "stdout",
     "output_type": "stream",
     "text": [
      "[1, 2, 3, 4, 5]\n",
      "[5, 4, 3, 2, 1]\n"
     ]
    }
   ],
   "source": [
    "# 定义一个乱序的key值为0-5，value值为A-E的字典。\r\n",
    "test_dict = {4: 'D', 2: 'B', 1: 'A', 5: 'E', 3: 'C'}\r\n",
    "\r\n",
    "# 使用sorte()函数对“test_dict”进行排序，打印排序的结果。\r\n",
    "print(sorted(test_dict))\r\n",
    "print(sorted(test_dict, reverse=True))"
   ]
  },
  {
   "cell_type": "markdown",
   "metadata": {
    "collapsed": false
   },
   "source": [
    "## 6 pop函数\n",
    "\n",
    "Python中`pop()`函数可用于移除列表中的一个元素（默认最后一个元素），并且返回该元素的值。\n",
    "\n",
    "**语法：**\n",
    "\n",
    "```python\n",
    "list.pop([index])\n",
    "# index：index为可选参数，用于表示要移除列表元素的索引值，不能超过列表总长度，默认为index值为“-1”，即删除列表中的最后一个值。\n",
    "```\n",
    "\n",
    "**举例：**"
   ]
  },
  {
   "cell_type": "code",
   "execution_count": 7,
   "metadata": {
    "collapsed": false
   },
   "outputs": [
    {
     "name": "stdout",
     "output_type": "stream",
     "text": [
      "7 [0, 1, 2, 3, 4, 5, 6]\n"
     ]
    }
   ],
   "source": [
    "# 定义一个由0-7组成的list。\r\n",
    "numbers = [0, 1, 2, 3, 4, 5, 6, 7]\r\n",
    "# 对list使用pop()函数，查看pop()的返回值以及pop()之后的list。\r\n",
    "print(numbers.pop(), numbers)"
   ]
  },
  {
   "cell_type": "code",
   "execution_count": 8,
   "metadata": {
    "collapsed": false
   },
   "outputs": [
    {
     "name": "stdout",
     "output_type": "stream",
     "text": [
      "2 [0, 1, 3, 4, 5, 6, 7]\n"
     ]
    }
   ],
   "source": [
    "# 定义一个由0-7组成的list。\r\n",
    "numbers = [0, 1, 2, 3, 4, 5, 6, 7]\r\n",
    "# 对list使用pop(2)函数，查看pop(2)的返回值以及pop(2)之后的list。\r\n",
    "print(numbers.pop(2), numbers)"
   ]
  },
  {
   "cell_type": "markdown",
   "metadata": {
    "collapsed": false
   },
   "source": [
    "## 7 id函数\n",
    "\n",
    "Python中`id()`函数可返回对象的唯一标识符，标识符是一个整数。CPython 中`id()`可用于获取对象的内存地址。\n",
    "\n",
    "**语法：**\n",
    "\n",
    "```python\n",
    "id(object)\n",
    "# object：需要获取标识符的对象。\n",
    "```\n",
    "\n",
    "**举例：**"
   ]
  },
  {
   "cell_type": "code",
   "execution_count": 38,
   "metadata": {
    "collapsed": false
   },
   "outputs": [
    {
     "name": "stdout",
     "output_type": "stream",
     "text": [
      "94219067450144 <class 'int'>\n",
      "140242766393936 <class 'float'>\n",
      "140242505218608 <class 'str'>\n"
     ]
    }
   ],
   "source": [
    "# 定义变量a,b,c。\r\n",
    "a = 1\r\n",
    "b = 2.0\r\n",
    "c = '3.0'\r\n",
    "\r\n",
    "# 查看变量a,b,c的标识符及变量类型。\r\n",
    "print(id(a), type(a))\r\n",
    "print(id(b), type(b))\r\n",
    "print(id(c), type(c))"
   ]
  },
  {
   "cell_type": "markdown",
   "metadata": {
    "collapsed": false
   },
   "source": [
    "## 8 dir函数\n",
    "\n",
    "Python中`dir()`函数不带参数时，可返回当前范围内的变量、方法和定义的类型列表；带参数时，可返回参数的属性、方法列表。如果参数包含方法`dir()`，该方法将被调用。如果参数不包含`dir()`，该方法将最大限度地收集参数信息。\n",
    "\n",
    "**语法：**\n",
    "\n",
    "```python\n",
    "dir(object)\n",
    "# object：对象、变量、类型。\n",
    "```\n",
    "\n",
    "**举例：**"
   ]
  },
  {
   "cell_type": "code",
   "execution_count": 40,
   "metadata": {
    "collapsed": false
   },
   "outputs": [
    {
     "data": {
      "text/plain": [
       "['__add__',\n",
       " '__class__',\n",
       " '__contains__',\n",
       " '__delattr__',\n",
       " '__delitem__',\n",
       " '__dir__',\n",
       " '__doc__',\n",
       " '__eq__',\n",
       " '__format__',\n",
       " '__ge__',\n",
       " '__getattribute__',\n",
       " '__getitem__',\n",
       " '__gt__',\n",
       " '__hash__',\n",
       " '__iadd__',\n",
       " '__imul__',\n",
       " '__init__',\n",
       " '__init_subclass__',\n",
       " '__iter__',\n",
       " '__le__',\n",
       " '__len__',\n",
       " '__lt__',\n",
       " '__mul__',\n",
       " '__ne__',\n",
       " '__new__',\n",
       " '__reduce__',\n",
       " '__reduce_ex__',\n",
       " '__repr__',\n",
       " '__reversed__',\n",
       " '__rmul__',\n",
       " '__setattr__',\n",
       " '__setitem__',\n",
       " '__sizeof__',\n",
       " '__str__',\n",
       " '__subclasshook__',\n",
       " 'append',\n",
       " 'clear',\n",
       " 'copy',\n",
       " 'count',\n",
       " 'extend',\n",
       " 'index',\n",
       " 'insert',\n",
       " 'pop',\n",
       " 'remove',\n",
       " 'reverse',\n",
       " 'sort']"
      ]
     },
     "execution_count": 40,
     "metadata": {},
     "output_type": "execute_result"
    }
   ],
   "source": [
    "dir(list)"
   ]
  },
  {
   "cell_type": "markdown",
   "metadata": {
    "collapsed": false
   },
   "source": [
    "## 9 split函数\n",
    "\n",
    "Python中`split()`函数可通过指定分隔符对字符串进行分割，如果参数`num`有指定值，则分隔`num+1`个子字符串。\n",
    "\n",
    "**语法：**\n",
    "\n",
    "```python\n",
    "str.split(\"sign\", num)\n",
    "# sign：分隔符，用于指定对字符串进行分割的单位，常见的分隔符有空格、逗号等。\n",
    "# num：分割次数，需要注意的是，分割之后的字符串个数等于分割次数加一。\n",
    "```\n",
    "\n",
    "**举例：**"
   ]
  },
  {
   "cell_type": "code",
   "execution_count": 41,
   "metadata": {
    "collapsed": false
   },
   "outputs": [
    {
     "name": "stdout",
     "output_type": "stream",
     "text": [
      "abc def ghi ['abc', 'def', 'ghi'] ['abc', 'def ghi']\n"
     ]
    }
   ],
   "source": [
    "# 定义一个中间有两个空格的字符串。\r\n",
    "str = \"abc def ghi\"\r\n",
    "\r\n",
    "# 查看并对比使用split()函数之后，str的变化。\r\n",
    "print(str, str.split(\" \"), str.split(\" \", 1))"
   ]
  },
  {
   "cell_type": "markdown",
   "metadata": {
    "collapsed": false
   },
   "source": [
    "## 10 help函数\r\n",
    "\r\n",
    "Python中`help()`函数可用于查看函数或模块用途的详细说明。help()函数相当于一个内置的Python帮助手册，当我们遇到一些新的函数名称时，掌握好help()函数的使用可以让我们更快更清晰地理解Python里面这些新函数的作用。\r\n",
    "\r\n",
    "**语法：**\r\n",
    "\r\n",
    "```python\r\n",
    "help(object)\r\n",
    "# object：需要查看详细说明信息的对象。\r\n",
    "```\r\n",
    "\r\n",
    "**举例：**"
   ]
  },
  {
   "cell_type": "code",
   "execution_count": 46,
   "metadata": {
    "collapsed": false
   },
   "outputs": [],
   "source": [
    "# 查看Python常用的内置函数的help信息，此处为查看关于str的详细说明。\n",
    "help('str')"
   ]
  },
  {
   "cell_type": "code",
   "execution_count": 45,
   "metadata": {
    "collapsed": false
   },
   "outputs": [],
   "source": [
    "# 查看自定义列表“my_list”的help信息。此处查看list的详细说明，也可以直接用 help('list')\r\n",
    "my_list = ['a', 'b', 'c', 'd', 'e']\r\n",
    "help(my_list)"
   ]
  },
  {
   "cell_type": "code",
   "execution_count": 47,
   "metadata": {
    "collapsed": false
   },
   "outputs": [],
   "source": [
    "# 查看作用于自定义列表的内置函数的help信息。此处查看appdend()函数的详细说明，也可以直接用 help(list.append)\r\n",
    "my_list = ['a', 'b', 'c', 'd', 'e']\r\n",
    "help(my_list.append)"
   ]
  },
  {
   "cell_type": "code",
   "execution_count": 51,
   "metadata": {
    "collapsed": false
   },
   "outputs": [],
   "source": [
    "# 查看一些package的help()信息，比如下面代码可查看正则表达式详细说明，需要注意的是package名称外面要加英文状态下的单引号或双引号，也可以用 help(\"re\")\r\n",
    "help('re')"
   ]
  },
  {
   "cell_type": "markdown",
   "metadata": {
    "collapsed": false
   },
   "source": [
    "## 11 threading模块\n",
    "\n",
    "threading，基于线程的并行，这个模块在较低级的模块 `_thread` (底层多线程 API)基础上建立较高级的线程接口。\n",
    "\n",
    "该模块定义了以下函数：\n",
    "\n",
    "**threading.active_count()**\n",
    "返回当前存活的线程类 Thread 对象。返回的计数等于 enumerate() 返回的列表长度。\n",
    "\n",
    "**threading.current_thread()**\n",
    "返回当前对应调用者的控制线程的 Thread 对象。如果调用者的控制线程不是利用 threading 创建，会返回一个功能受限的虚拟线程对象。\n",
    "\n",
    "**threading.get_ident()**\n",
    "返回当前线程的 “线程标识符”。它是一个非零的整数。它的值没有直接含义，主要是用作 magic cookie，比如作为含有线程相关数据的字典的索引。线程标识符可能会在线程退出，新线程创建时被复用。\n",
    "\n",
    "更多关于`threading`的详细说明，可前往Python官网文档查看，地址如下：\n",
    "\n",
    "https://docs.python.org/zh-cn/3.7/library/threading.html\n"
   ]
  },
  {
   "cell_type": "markdown",
   "metadata": {
    "collapsed": false
   },
   "source": [
    "## 12 zipfile模块\n",
    "\n",
    "ZIP 文件格式是一个常用的归档与压缩标准。 这个模块提供了创建、读取、写入、添加及列出 ZIP 文件的工具。 任何对此模块的进阶使用都将需要理解此格式，其定义参见 PKZIP 应用程序笔记。\n",
    "\n",
    "此模块目前不能处理分卷 ZIP 文件。它可以处理使用 ZIP64 扩展（超过 4 GB 的 ZIP 文件）的 ZIP 文件。它支持解密 ZIP 归档中的加密文件，但是目前不能创建一个加密的文件。解密非常慢，因为它是使用原生 Python 而不是 C 实现的。\n",
    "\n",
    "下面展示一下`zipfile`的几个常用函数：\n",
    "\n",
    "**ZipFile.close()**\n",
    "关闭归档文件。 你必须在退出程序之前调用 close() 否则将不会写入关键记录数据。\n",
    "\n",
    "**ZipFile.getinfo(name)**\n",
    "返回一个 ZipInfo 对象，其中包含有关归档成员 name 的信息。 针对一个目前并不包含于归档中的名称调用 getinfo() 将会引发 KeyError。\n",
    "\n",
    "**ZipFile.infolist()**\n",
    "返回一个列表，其中包含每个归档成员的 ZipInfo 对象。 如果是打开一个现有归档则这些对象的排列顺序与它们对应条目在磁盘上的实际 ZIP 文件中的顺序一致。\n",
    "\n",
    "**ZipFile.namelist()**\n",
    "返回按名称排序的归档成员列表。\n",
    "\n",
    "**ZipFile.open(name, mode='r', pwd=None, *, force_zip64=False)**\n",
    "以二进制文件类对象的形式访问一个归档成员。 name 可以是归档内某个文件的名称也可以是某个 ZipInfo 对象。 如果包含了 mode 形参，则它必须为 'r' (默认值) 或 'w'。 pwd 为用于解密已加密 ZIP 文件的密码。\n",
    "\n",
    "更多关于`zipfile`的详细说明，可前往Python官网文档查看，地址如下：\n",
    "\n",
    "https://docs.python.org/zh-cn/3.7/library/zipfile.html\n"
   ]
  }
 ],
 "metadata": {
  "kernelspec": {
   "display_name": "PaddlePaddle 2.0.0b0 (Python 3.5)",
   "language": "python",
   "name": "py35-paddle1.2.0"
  },
  "language_info": {
   "codemirror_mode": {
    "name": "ipython",
    "version": 3
   },
   "file_extension": ".py",
   "mimetype": "text/x-python",
   "name": "python",
   "nbconvert_exporter": "python",
   "pygments_lexer": "ipython3",
   "version": "3.7.4"
  }
 },
 "nbformat": 4,
 "nbformat_minor": 1
}
