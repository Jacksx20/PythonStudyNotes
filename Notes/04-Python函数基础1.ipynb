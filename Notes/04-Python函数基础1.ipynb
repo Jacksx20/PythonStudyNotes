{
 "cells": [
  {
   "cell_type": "markdown",
   "metadata": {
    "collapsed": false
   },
   "source": [
    "# 函数\n",
    "函数是组织好的，可重复使用的，用来实现单一，或相关联功能的代码段。\n",
    "\n",
    "函数能提高应用的模块性，和代码的重复利用率。你已经知道Python提供了许多内建函数，比如print()。但你也可以自己创建函数，这被叫做用户自定义函数。\n",
    "\n",
    "* 函数代码块以 def 关键词开头，后接函数标识符名称和圆括号()。\n",
    "* 任何传入参数和自变量必须放在圆括号中间。圆括号之间可以用于定义参数。\n",
    "* 函数的第一行语句可以选择性地使用文档字符串—用于存放函数说明。\n",
    "* 函数内容以冒号起始，并且缩进。\n",
    "* return [表达式] 结束函数，选择性地返回一个值给调用方。不带表达式的return相当于返回 None。"
   ]
  },
  {
   "cell_type": "markdown",
   "metadata": {
    "collapsed": false
   },
   "source": [
    "## 定义一个函数;函数调用"
   ]
  },
  {
   "cell_type": "code",
   "execution_count": 1,
   "metadata": {
    "collapsed": false
   },
   "outputs": [],
   "source": [
    "def student_name(name):\r\n",
    "    \"打印学生的名字\"\r\n",
    "    print('姓名：', name)\r\n",
    "    return {'姓名':name}"
   ]
  },
  {
   "cell_type": "code",
   "execution_count": 2,
   "metadata": {
    "collapsed": false
   },
   "outputs": [
    {
     "name": "stdout",
     "output_type": "stream",
     "text": [
      "姓名： Alice\n"
     ]
    },
    {
     "data": {
      "text/plain": [
       "{'姓名': 'Alice'}"
      ]
     },
     "execution_count": 2,
     "metadata": {},
     "output_type": "execute_result"
    }
   ],
   "source": [
    "rst = student_name('Alice')\r\n",
    "rst "
   ]
  },
  {
   "cell_type": "code",
   "execution_count": 3,
   "metadata": {
    "collapsed": false
   },
   "outputs": [],
   "source": [
    "# 返回多个值\r\n",
    "def student_name_and_age():\r\n",
    "    \"记录学生的名字和年龄\"\r\n",
    "    name = input('请输入姓名\\n')\r\n",
    "    age = int(input('请输入年龄\\n'))\r\n",
    "    print(f'姓名:{name};年龄:{age}')\r\n",
    "    return name,age"
   ]
  },
  {
   "cell_type": "code",
   "execution_count": 4,
   "metadata": {
    "collapsed": false
   },
   "outputs": [
    {
     "name": "stdout",
     "output_type": "stream",
     "text": [
      "请输入姓名\n",
      "请输入年龄\n",
      "姓名:小明;年龄:20\n"
     ]
    }
   ],
   "source": [
    "rst = student_name_and_age()"
   ]
  },
  {
   "cell_type": "code",
   "execution_count": 5,
   "metadata": {
    "collapsed": false
   },
   "outputs": [
    {
     "data": {
      "text/plain": [
       "tuple"
      ]
     },
     "execution_count": 5,
     "metadata": {},
     "output_type": "execute_result"
    }
   ],
   "source": [
    "type(rst)"
   ]
  },
  {
   "cell_type": "code",
   "execution_count": 6,
   "metadata": {
    "collapsed": false
   },
   "outputs": [
    {
     "name": "stdout",
     "output_type": "stream",
     "text": [
      "请输入姓名\n",
      "请输入年龄\n",
      "姓名:小明;年龄:18\n"
     ]
    }
   ],
   "source": [
    "name, age = student_name_and_age()"
   ]
  },
  {
   "cell_type": "code",
   "execution_count": 7,
   "metadata": {
    "collapsed": false
   },
   "outputs": [],
   "source": [
    "## 函数的嵌套调用\r\n",
    "def worker(s):\r\n",
    "    rst = 10 / float(s)\r\n",
    "    return rst\r\n",
    "\r\n",
    "def group_leader(s):\r\n",
    "    rst = worker(s) * 2\r\n",
    "    return rst\r\n",
    "\r\n",
    "def CTO(s):\r\n",
    "    return group_leader(s)"
   ]
  },
  {
   "cell_type": "code",
   "execution_count": 8,
   "metadata": {
    "collapsed": false
   },
   "outputs": [
    {
     "data": {
      "text/plain": [
       "5.0"
      ]
     },
     "execution_count": 8,
     "metadata": {},
     "output_type": "execute_result"
    }
   ],
   "source": [
    "CTO('4')"
   ]
  },
  {
   "cell_type": "markdown",
   "metadata": {
    "collapsed": false
   },
   "source": [
    " # 参数传递\n",
    "*  位置参数\n",
    "*  缺省参数\n",
    "*  可变参数 \n",
    "*  关键字参数 \n",
    "*  命名关键字参数"
   ]
  },
  {
   "cell_type": "markdown",
   "metadata": {
    "collapsed": false
   },
   "source": [
    "## 位置参数\n",
    "位置参数是最简单的一种函数调用的方式。位置参数须以正确的顺序传入函数、数量必须和声明时的一样。"
   ]
  },
  {
   "cell_type": "code",
   "execution_count": 9,
   "metadata": {
    "collapsed": false
   },
   "outputs": [],
   "source": [
    "def student_name_and_age(name, age):\r\n",
    "    print('姓名：%s 年龄 %s' %(name, age))"
   ]
  },
  {
   "cell_type": "code",
   "execution_count": 10,
   "metadata": {
    "collapsed": false
   },
   "outputs": [
    {
     "name": "stdout",
     "output_type": "stream",
     "text": [
      "姓名：张三 年龄 18\n"
     ]
    }
   ],
   "source": [
    "student_name_and_age('张三', 18)"
   ]
  },
  {
   "cell_type": "markdown",
   "metadata": {
    "collapsed": false
   },
   "source": [
    "## 缺省参数\r\n",
    "调用函数时，缺省参数的值如果没有传入，则被认为是默认值。"
   ]
  },
  {
   "cell_type": "code",
   "execution_count": 11,
   "metadata": {
    "collapsed": false
   },
   "outputs": [],
   "source": [
    "def student_name_and_age(name, age='不愿透露'):\r\n",
    "    \"设置默认参数\"\r\n",
    "    print('姓名：%s 年龄 %s' %(name, age))"
   ]
  },
  {
   "cell_type": "code",
   "execution_count": 12,
   "metadata": {
    "collapsed": false
   },
   "outputs": [
    {
     "name": "stdout",
     "output_type": "stream",
     "text": [
      "姓名：张三 年龄 不愿透露\n"
     ]
    }
   ],
   "source": [
    "student_name_and_age('张三')"
   ]
  },
  {
   "cell_type": "code",
   "execution_count": 13,
   "metadata": {
    "collapsed": false
   },
   "outputs": [
    {
     "name": "stdout",
     "output_type": "stream",
     "text": [
      "姓名：张三 年龄 18\n"
     ]
    }
   ],
   "source": [
    "# 也可以为默认参数赋值\r\n",
    "student_name_and_age('张三', 18)"
   ]
  },
  {
   "cell_type": "markdown",
   "metadata": {
    "collapsed": false
   },
   "source": [
    "## 可变参数\n",
    "顾名思义，可变参数就是传入的参数个数是可变的，可以是1个、2个到任意个，还可以是0个。"
   ]
  },
  {
   "cell_type": "code",
   "execution_count": 14,
   "metadata": {
    "collapsed": false
   },
   "outputs": [],
   "source": [
    "def all_student_names(*names):\r\n",
    "    for name in names:\r\n",
    "        print('姓名：', name)"
   ]
  },
  {
   "cell_type": "code",
   "execution_count": 15,
   "metadata": {
    "collapsed": false
   },
   "outputs": [
    {
     "name": "stdout",
     "output_type": "stream",
     "text": [
      "姓名： 张三\n",
      "姓名： 李四\n",
      "姓名： 王五\n"
     ]
    }
   ],
   "source": [
    "all_student_names('张三','李四','王五')"
   ]
  },
  {
   "cell_type": "markdown",
   "metadata": {
    "collapsed": false
   },
   "source": [
    "可变参数允许你传入0个或任意个参数，这些可变参数在函数调用时自动组装为一个tuple。"
   ]
  },
  {
   "cell_type": "code",
   "execution_count": 16,
   "metadata": {
    "collapsed": false
   },
   "outputs": [],
   "source": [
    "def all_student_names(names):\r\n",
    "    for name in names:\r\n",
    "        print('姓名：', name)"
   ]
  },
  {
   "cell_type": "code",
   "execution_count": 17,
   "metadata": {
    "collapsed": false
   },
   "outputs": [
    {
     "name": "stdout",
     "output_type": "stream",
     "text": [
      "姓名： 张三\n",
      "姓名： 李四\n",
      "姓名： 王五\n"
     ]
    }
   ],
   "source": [
    "names = ('张三','李四','王五')\r\n",
    "all_student_names(names)"
   ]
  },
  {
   "cell_type": "markdown",
   "metadata": {
    "collapsed": false
   },
   "source": [
    "## 关键字参数\n",
    "关键字参数允许你传入0个或任意个含参数名的参数，这些关键字参数在函数内部自动组装为一个dict。"
   ]
  },
  {
   "cell_type": "code",
   "execution_count": 18,
   "metadata": {
    "collapsed": false
   },
   "outputs": [],
   "source": [
    "def student_info(name, age, **kw):\r\n",
    "    print(f'我的名字叫：{name},年龄：{age},其它信息：{kw}')"
   ]
  },
  {
   "cell_type": "code",
   "execution_count": 19,
   "metadata": {
    "collapsed": false
   },
   "outputs": [
    {
     "name": "stdout",
     "output_type": "stream",
     "text": [
      "我的名字叫：张三,年龄：18,其它信息：{'height': 180}\n"
     ]
    }
   ],
   "source": [
    "student_info('张三', 18, height=180)"
   ]
  },
  {
   "cell_type": "code",
   "execution_count": 20,
   "metadata": {
    "collapsed": false
   },
   "outputs": [],
   "source": [
    "def student_info(name, age, **kw):\r\n",
    "    print(f'我的名字叫：{name},年龄：{age},其它信息：{kw}')\r\n",
    "    if 'city' in kw:\r\n",
    "        print('来自：', kw['city'])"
   ]
  },
  {
   "cell_type": "code",
   "execution_count": 21,
   "metadata": {
    "collapsed": false
   },
   "outputs": [
    {
     "name": "stdout",
     "output_type": "stream",
     "text": [
      "我的名字叫：张三,年龄：18,其它信息：{'height': 180, 'city': '北京'}\n",
      "来自： 北京\n"
     ]
    }
   ],
   "source": [
    "student_info('张三', 18, height=180, city='北京')"
   ]
  },
  {
   "cell_type": "code",
   "execution_count": 22,
   "metadata": {
    "collapsed": false
   },
   "outputs": [
    {
     "name": "stdout",
     "output_type": "stream",
     "text": [
      "姓名： 张三 年龄 18\n",
      "张三 的语文成绩 65\n",
      "张三 的数学成绩 60\n"
     ]
    }
   ],
   "source": [
    "def score_info(name, yuwen, shuxue):\r\n",
    "    print(name, '的语文成绩', yuwen)\r\n",
    "    print(name, '的数学成绩', shuxue)\r\n",
    "\r\n",
    "def person_info(name, age, yuwen, shuxue):\r\n",
    "    print('姓名：', name, '年龄',age)\r\n",
    "    score_info(name, yuwen, shuxue)    \r\n",
    "\r\n",
    "person_info('张三', 18, 65, 60)"
   ]
  },
  {
   "cell_type": "code",
   "execution_count": 23,
   "metadata": {
    "collapsed": false
   },
   "outputs": [
    {
     "name": "stdout",
     "output_type": "stream",
     "text": [
      "姓名： 张三 \b年龄 18\n",
      "张三 的语文成绩 65\n",
      "张三 的数学成绩 60\n"
     ]
    }
   ],
   "source": [
    "def score_info(name, **kw):\r\n",
    "    if '语文成绩' in kw:\r\n",
    "        print(name, '的语文成绩', kw['语文成绩'])\r\n",
    "    if '数学成绩' in kw:\r\n",
    "        print(name, '的数学成绩', kw['数学成绩'])\r\n",
    "        \r\n",
    "\r\n",
    "def person_info(name, age, **kw):\r\n",
    "    print('姓名：', name, '\b年龄',age)\r\n",
    "    score_info(name, **kw)    \r\n",
    "\r\n",
    "score_cfg = {'语文成绩':65, '数学成绩':60}\r\n",
    "person_info('张三', 18, **score_cfg)"
   ]
  },
  {
   "cell_type": "markdown",
   "metadata": {
    "collapsed": false
   },
   "source": [
    "## 命名关键字参数\n",
    "如果要限制关键字参数的名字，就可以用命名关键字参数"
   ]
  },
  {
   "cell_type": "code",
   "execution_count": 24,
   "metadata": {
    "collapsed": false
   },
   "outputs": [],
   "source": [
    "def print_person_info(name, age, *, height, weight):\r\n",
    "    print('我的名字叫：', name, '年龄：', age,'身高', height, '体重', weight)"
   ]
  },
  {
   "cell_type": "code",
   "execution_count": 25,
   "metadata": {
    "collapsed": false
   },
   "outputs": [
    {
     "name": "stdout",
     "output_type": "stream",
     "text": [
      "我的名字叫： 张三 年龄： 18 身高 180 体重 75\n"
     ]
    }
   ],
   "source": [
    "print_person_info('张三', 18, height=180, weight=75)"
   ]
  },
  {
   "cell_type": "markdown",
   "metadata": {
    "collapsed": false
   },
   "source": [
    "## 参数的组合\n",
    "在Python中定义函数，可以用必选参数、默认参数、可变参数、关键字参数和命名关键字参数，这5种参数都可以组合使用。但是请注意，参数定义的顺序必须是：必选参数、默认参数、可变参数、命名关键字参数和关键字参数。"
   ]
  },
  {
   "cell_type": "code",
   "execution_count": 26,
   "metadata": {
    "collapsed": false
   },
   "outputs": [],
   "source": [
    "def student_info(name, age=18, *books, **kw):\r\n",
    "    print('我的名字叫：', name, '年龄：', age,'其它信息：',kw)\r\n",
    "    if 'city' in kw:\r\n",
    "        print('来自：', kw['city'])\r\n",
    "    for book in books:\r\n",
    "        print('我有',book,'书')"
   ]
  },
  {
   "cell_type": "code",
   "execution_count": 27,
   "metadata": {
    "collapsed": false
   },
   "outputs": [
    {
     "name": "stdout",
     "output_type": "stream",
     "text": [
      "我的名字叫： 张三 年龄： 18 其它信息： {'city': '北京', 'height': 180, 'weight': 75}\n",
      "来自： 北京\n",
      "我有 语文 书\n",
      "我有 数学 书\n",
      "我有 计算机 书\n"
     ]
    }
   ],
   "source": [
    "student_info('张三', 18, '语文','数学','计算机', city='北京', height=180, weight=75)"
   ]
  },
  {
   "cell_type": "code",
   "execution_count": 28,
   "metadata": {
    "collapsed": false
   },
   "outputs": [],
   "source": [
    "def student_info(name, age=18, *books, city, **kw):\r\n",
    "    # 如果函数定义中已经有了一个可变参数，后面跟着的命名关键字参数就不再需要一个特殊分隔符*了：\r\n",
    "    print('我的名字叫：', name, '年龄：', age,'其它信息：',kw)\r\n",
    "    print('来自：', city)\r\n",
    "    for book in books:\r\n",
    "        print('我有',book,'书')"
   ]
  },
  {
   "cell_type": "code",
   "execution_count": 29,
   "metadata": {
    "collapsed": false
   },
   "outputs": [
    {
     "name": "stdout",
     "output_type": "stream",
     "text": [
      "我的名字叫： 张三 年龄： 18 其它信息： {'height': 180, 'weight': 75}\n",
      "来自： 北京\n",
      "我有 语文 书\n",
      "我有 数学 书\n",
      "我有 计算机 书\n"
     ]
    }
   ],
   "source": [
    "student_info('张三', 18, '语文','数学','计算机', city='北京', height=180, weight=75)"
   ]
  },
  {
   "cell_type": "markdown",
   "metadata": {
    "collapsed": false
   },
   "source": [
    "# 变量的作用域和global变量\n",
    "1.局部变量 作用域:在函数内\n",
    "\n",
    "2.全局变量 作用域:在函数外\n",
    "\n",
    "函数优先使用局部变量 在没有局部变量的情况下， 使用全局变量"
   ]
  },
  {
   "cell_type": "code",
   "execution_count": 30,
   "metadata": {
    "collapsed": false
   },
   "outputs": [
    {
     "name": "stdout",
     "output_type": "stream",
     "text": [
      "李四\n"
     ]
    }
   ],
   "source": [
    "name = '张三'\r\n",
    "\r\n",
    "def print_my_name():\r\n",
    "    name='李四'\r\n",
    "    print(name)\r\n",
    "    \r\n",
    "print_my_name()"
   ]
  },
  {
   "cell_type": "code",
   "execution_count": 31,
   "metadata": {
    "collapsed": false
   },
   "outputs": [
    {
     "name": "stdout",
     "output_type": "stream",
     "text": [
      "张三\n"
     ]
    }
   ],
   "source": [
    "name = '张三'\r\n",
    "\r\n",
    "def print_my_name():\r\n",
    "    print(name)\r\n",
    "    \r\n",
    "print_my_name()"
   ]
  },
  {
   "cell_type": "code",
   "execution_count": 32,
   "metadata": {
    "collapsed": false
   },
   "outputs": [
    {
     "ename": "NameError",
     "evalue": "name 'new_name' is not defined",
     "output_type": "error",
     "traceback": [
      "\u001b[0;31m---------------------------------------------------------------------------\u001b[0m",
      "\u001b[0;31mNameError\u001b[0m                                 Traceback (most recent call last)",
      "\u001b[0;32m<ipython-input-32-50225d753478>\u001b[0m in \u001b[0;36m<module>\u001b[0;34m\u001b[0m\n\u001b[1;32m      3\u001b[0m     \u001b[0mnew_name\u001b[0m \u001b[0;34m=\u001b[0m \u001b[0;34m'赵四'\u001b[0m\u001b[0;34m\u001b[0m\u001b[0;34m\u001b[0m\u001b[0m\n\u001b[1;32m      4\u001b[0m \u001b[0mget_my_name\u001b[0m\u001b[0;34m(\u001b[0m\u001b[0;34m)\u001b[0m\u001b[0;34m\u001b[0m\u001b[0;34m\u001b[0m\u001b[0m\n\u001b[0;32m----> 5\u001b[0;31m \u001b[0mnew_name\u001b[0m\u001b[0;34m\u001b[0m\u001b[0;34m\u001b[0m\u001b[0m\n\u001b[0m",
      "\u001b[0;31mNameError\u001b[0m: name 'new_name' is not defined"
     ]
    }
   ],
   "source": [
    "# 定义在函数内部的变量，函数结束之后自动消亡\r\n",
    "def get_my_name():\r\n",
    "    new_name = '赵四'\r\n",
    "get_my_name()\r\n",
    "new_name"
   ]
  },
  {
   "cell_type": "markdown",
   "metadata": {
    "collapsed": false
   },
   "source": [
    "**函数可以看作是单向玻璃 - - 不要对着车窗剔牙！**\n",
    "![](https://ai-studio-static-online.cdn.bcebos.com/d2f66c98085b482eaf7106de37db11f00c3e7b00f1ae47a9b0878043733c4a5d)\n",
    "![](https://ai-studio-static-online.cdn.bcebos.com/5b3ca56f061f49ee954c5cf5ea91ad71093cbda1df1e410cabb7aaa77a37ba51)\n"
   ]
  },
  {
   "cell_type": "code",
   "execution_count": 33,
   "metadata": {
    "collapsed": false
   },
   "outputs": [],
   "source": [
    "def change_my_name():\r\n",
    "   print('我的名字曾经是', name)\r\n",
    "   name = '李四'\r\n",
    "   print('我的名字现在是', name)"
   ]
  },
  {
   "cell_type": "code",
   "execution_count": 34,
   "metadata": {
    "collapsed": false
   },
   "outputs": [
    {
     "ename": "UnboundLocalError",
     "evalue": "local variable 'name' referenced before assignment",
     "output_type": "error",
     "traceback": [
      "\u001b[0;31m---------------------------------------------------------------------------\u001b[0m",
      "\u001b[0;31mUnboundLocalError\u001b[0m                         Traceback (most recent call last)",
      "\u001b[0;32m<ipython-input-34-9452ee1a9be8>\u001b[0m in \u001b[0;36m<module>\u001b[0;34m\u001b[0m\n\u001b[1;32m      1\u001b[0m \u001b[0mname\u001b[0m \u001b[0;34m=\u001b[0m \u001b[0;34m'张三'\u001b[0m\u001b[0;34m\u001b[0m\u001b[0;34m\u001b[0m\u001b[0m\n\u001b[0;32m----> 2\u001b[0;31m \u001b[0mchange_my_name\u001b[0m\u001b[0;34m(\u001b[0m\u001b[0;34m)\u001b[0m\u001b[0;34m\u001b[0m\u001b[0;34m\u001b[0m\u001b[0m\n\u001b[0m\u001b[1;32m      3\u001b[0m \u001b[0mname\u001b[0m\u001b[0;34m\u001b[0m\u001b[0;34m\u001b[0m\u001b[0m\n",
      "\u001b[0;32m<ipython-input-33-a750cf076394>\u001b[0m in \u001b[0;36mchange_my_name\u001b[0;34m()\u001b[0m\n\u001b[1;32m      1\u001b[0m \u001b[0;32mdef\u001b[0m \u001b[0mchange_my_name\u001b[0m\u001b[0;34m(\u001b[0m\u001b[0;34m)\u001b[0m\u001b[0;34m:\u001b[0m\u001b[0;34m\u001b[0m\u001b[0;34m\u001b[0m\u001b[0m\n\u001b[0;32m----> 2\u001b[0;31m    \u001b[0mprint\u001b[0m\u001b[0;34m(\u001b[0m\u001b[0;34m'我的名字曾经是'\u001b[0m\u001b[0;34m,\u001b[0m \u001b[0mname\u001b[0m\u001b[0;34m)\u001b[0m\u001b[0;34m\u001b[0m\u001b[0;34m\u001b[0m\u001b[0m\n\u001b[0m\u001b[1;32m      3\u001b[0m    \u001b[0mname\u001b[0m \u001b[0;34m=\u001b[0m \u001b[0;34m'李四'\u001b[0m\u001b[0;34m\u001b[0m\u001b[0;34m\u001b[0m\u001b[0m\n\u001b[1;32m      4\u001b[0m    \u001b[0mprint\u001b[0m\u001b[0;34m(\u001b[0m\u001b[0;34m'我的名字现在是'\u001b[0m\u001b[0;34m,\u001b[0m \u001b[0mname\u001b[0m\u001b[0;34m)\u001b[0m\u001b[0;34m\u001b[0m\u001b[0;34m\u001b[0m\u001b[0m\n",
      "\u001b[0;31mUnboundLocalError\u001b[0m: local variable 'name' referenced before assignment"
     ]
    }
   ],
   "source": [
    "name = '张三'\r\n",
    "change_my_name()\r\n",
    "name"
   ]
  },
  {
   "cell_type": "code",
   "execution_count": 35,
   "metadata": {
    "collapsed": false
   },
   "outputs": [],
   "source": [
    "def change_my_name():\r\n",
    "    global name\r\n",
    "    print('我的名字曾经是', name)\r\n",
    "    name = '李四'\r\n",
    "    print('我的名字现在是', name)"
   ]
  },
  {
   "cell_type": "code",
   "execution_count": 36,
   "metadata": {
    "collapsed": false
   },
   "outputs": [
    {
     "name": "stdout",
     "output_type": "stream",
     "text": [
      "我的名字曾经是 张三\n",
      "我的名字现在是 李四\n"
     ]
    },
    {
     "data": {
      "text/plain": [
       "'李四'"
      ]
     },
     "execution_count": 36,
     "metadata": {},
     "output_type": "execute_result"
    }
   ],
   "source": [
    "name = '张三'\r\n",
    "change_my_name()\r\n",
    "name"
   ]
  },
  {
   "cell_type": "markdown",
   "metadata": {
    "collapsed": false
   },
   "source": [
    "# lambda匿名函数\n",
    "\n",
    "python 使用 lambda 来创建匿名函数。\n",
    "\n",
    "lambda 只是一个表达式，函数体比 def 简单很多。\n",
    "\n",
    "lambda 的主体是一个表达式，而不是一个代码块。仅仅能在 lambda 表达式中封装有限的逻辑进去。\n",
    "\n",
    "lambda 函数拥有自己的命名空间，且不能访问自有参数列表之外或全局命名空间里的参数。\n",
    "\n",
    "虽然 lambda 函数看起来只能写一行，却不等同于 C 或 C++ 的内联函数，后者的目的是调用小函数时不占用栈内存从而增加运行效率。"
   ]
  },
  {
   "cell_type": "code",
   "execution_count": 37,
   "metadata": {
    "collapsed": false
   },
   "outputs": [
    {
     "data": {
      "text/plain": [
       "<function __main__.<lambda>(arg1, arg2)>"
      ]
     },
     "execution_count": 37,
     "metadata": {},
     "output_type": "execute_result"
    }
   ],
   "source": [
    "# lambda 若干个输入参数 : 返回值的表达式\r\n",
    "lambda arg1, arg2: arg1 + arg2"
   ]
  },
  {
   "cell_type": "code",
   "execution_count": 38,
   "metadata": {
    "collapsed": false
   },
   "outputs": [
    {
     "data": {
      "text/plain": [
       "3"
      ]
     },
     "execution_count": 38,
     "metadata": {},
     "output_type": "execute_result"
    }
   ],
   "source": [
    "(lambda arg1, arg2: arg1 + arg2 )(1, 2)"
   ]
  },
  {
   "cell_type": "code",
   "execution_count": 39,
   "metadata": {
    "collapsed": false
   },
   "outputs": [
    {
     "data": {
      "text/plain": [
       "3"
      ]
     },
     "execution_count": 39,
     "metadata": {},
     "output_type": "execute_result"
    }
   ],
   "source": [
    "# 加法运算 接受两个参数，返回参数之和\r\n",
    "add = lambda arg1, arg2: arg1 + arg2\r\n",
    "add(1,2)"
   ]
  },
  {
   "cell_type": "code",
   "execution_count": 40,
   "metadata": {
    "collapsed": false
   },
   "outputs": [
    {
     "data": {
      "text/plain": [
       "'5'"
      ]
     },
     "execution_count": 40,
     "metadata": {},
     "output_type": "execute_result"
    }
   ],
   "source": [
    "# 数字转字符串\r\n",
    "int2str = lambda x : str(x)\r\n",
    "int2str(5)"
   ]
  },
  {
   "cell_type": "markdown",
   "metadata": {
    "collapsed": false
   },
   "source": [
    "# 高阶函数"
   ]
  },
  {
   "cell_type": "code",
   "execution_count": 41,
   "metadata": {
    "collapsed": false
   },
   "outputs": [
    {
     "name": "stdout",
     "output_type": "stream",
     "text": [
      "hello!\n"
     ]
    }
   ],
   "source": [
    "# print本身是一个内建函数\r\n",
    "print('hello!')"
   ]
  },
  {
   "cell_type": "code",
   "execution_count": 42,
   "metadata": {
    "collapsed": false
   },
   "outputs": [
    {
     "data": {
      "text/plain": [
       "<function print>"
      ]
     },
     "execution_count": 42,
     "metadata": {},
     "output_type": "execute_result"
    }
   ],
   "source": [
    "print"
   ]
  },
  {
   "cell_type": "code",
   "execution_count": 43,
   "metadata": {
    "collapsed": false
   },
   "outputs": [
    {
     "name": "stdout",
     "output_type": "stream",
     "text": [
      "a\n"
     ]
    }
   ],
   "source": [
    "# 函数名其实就是指向函数的变量！\r\n",
    "my_print = print \r\n",
    "my_print('a')"
   ]
  },
  {
   "cell_type": "code",
   "execution_count": 44,
   "metadata": {
    "collapsed": false
   },
   "outputs": [],
   "source": [
    "# 那么，函数的名字也可以作为一个变量，传入其它函数\r\n",
    "def func_x(x, f):\r\n",
    "    return f(x)"
   ]
  },
  {
   "cell_type": "code",
   "execution_count": 45,
   "metadata": {
    "collapsed": false
   },
   "outputs": [
    {
     "data": {
      "text/plain": [
       "1"
      ]
     },
     "execution_count": 45,
     "metadata": {},
     "output_type": "execute_result"
    }
   ],
   "source": [
    "func_x(-1, abs)"
   ]
  },
  {
   "cell_type": "code",
   "execution_count": 46,
   "metadata": {
    "collapsed": false
   },
   "outputs": [
    {
     "data": {
      "text/plain": [
       "'-112'"
      ]
     },
     "execution_count": 46,
     "metadata": {},
     "output_type": "execute_result"
    }
   ],
   "source": [
    "# 一个函数可以接收另一个函数作为参数，这种函数就称之为高阶函数。\r\n",
    "int2str = lambda x : str(x)\r\n",
    "func_x(-112, int2str)"
   ]
  },
  {
   "cell_type": "code",
   "execution_count": 47,
   "metadata": {
    "collapsed": false
   },
   "outputs": [],
   "source": [
    "# 一个更复杂的例子\r\n",
    "def func_xy(x, y ,f):\r\n",
    "    return f(x,y)\r\n",
    "\r\n",
    "add = lambda x,y : x+y \r\n",
    "mul = lambda x,y : x*y \r\n",
    "SS = lambda x,y : x**2 + y**2"
   ]
  },
  {
   "cell_type": "code",
   "execution_count": 48,
   "metadata": {
    "collapsed": false
   },
   "outputs": [
    {
     "name": "stdout",
     "output_type": "stream",
     "text": [
      "3\n",
      "2\n",
      "5\n"
     ]
    }
   ],
   "source": [
    "print(func_xy(1,2,add))\r\n",
    "print(func_xy(1,2,mul))\r\n",
    "print(func_xy(1,2,SS))"
   ]
  },
  {
   "cell_type": "markdown",
   "metadata": {
    "collapsed": false
   },
   "source": [
    "## map / reduce\n",
    "\n",
    "map()函数接收两个参数，一个是函数，一个是Iterable，map将传入的函数依次作用到序列的每个元素，并把结果作为新的Iterator返回。\n",
    "![](https://ai-studio-static-online.cdn.bcebos.com/eb6612cd9eb642198275c6fc5d59e44566d43c42e5184ccd91df8c90d882de16)\n",
    "\n"
   ]
  },
  {
   "cell_type": "code",
   "execution_count": 49,
   "metadata": {
    "collapsed": false
   },
   "outputs": [],
   "source": [
    "fx = lambda x:x**2"
   ]
  },
  {
   "cell_type": "code",
   "execution_count": 50,
   "metadata": {
    "collapsed": false
   },
   "outputs": [
    {
     "data": {
      "text/plain": [
       "[1, 4, 9, 16, 25, 36, 49, 64, 81]"
      ]
     },
     "execution_count": 50,
     "metadata": {},
     "output_type": "execute_result"
    }
   ],
   "source": [
    "ls = [1,2,3,4,5,6,7,8,9]\r\n",
    "ms = []\r\n",
    "for l in ls:\r\n",
    "    ms.append(fx(l))\r\n",
    "ms\r\n"
   ]
  },
  {
   "cell_type": "code",
   "execution_count": 51,
   "metadata": {
    "collapsed": false
   },
   "outputs": [
    {
     "data": {
      "text/plain": [
       "[1, 4, 9, 16, 25, 36, 49, 64, 81]"
      ]
     },
     "execution_count": 51,
     "metadata": {},
     "output_type": "execute_result"
    }
   ],
   "source": [
    "rst = map(fx, ls)\r\n",
    "list(rst)"
   ]
  },
  {
   "cell_type": "code",
   "execution_count": 52,
   "metadata": {
    "collapsed": false
   },
   "outputs": [
    {
     "data": {
      "text/plain": [
       "<map at 0x7f9ffaf54a50>"
      ]
     },
     "execution_count": 52,
     "metadata": {},
     "output_type": "execute_result"
    }
   ],
   "source": [
    "map(fx, ls)"
   ]
  },
  {
   "cell_type": "code",
   "execution_count": 53,
   "metadata": {
    "collapsed": false
   },
   "outputs": [
    {
     "data": {
      "text/plain": [
       "['1', '2', '3', '4', '5', '6', '7', '8', '9']"
      ]
     },
     "execution_count": 53,
     "metadata": {},
     "output_type": "execute_result"
    }
   ],
   "source": [
    "int2str = lambda x : str(x)\r\n",
    "rst = map(int2str, ls)\r\n",
    "list(rst)"
   ]
  },
  {
   "cell_type": "markdown",
   "metadata": {
    "collapsed": false
   },
   "source": [
    "reduce: 用传给 reduce 中的函数 function（有两个参数）先对集合中的第 1、2 个元素进行操作，得到的结果再与第三个数据用 function 函数运算，依此类推，最后得到一个结果。\n",
    "\n",
    "\n",
    "![](https://ai-studio-static-online.cdn.bcebos.com/944ffffc054a476e9784f17951918b6c62a7d83eb8df475f91f4e3f55c0467bd)\n"
   ]
  },
  {
   "cell_type": "code",
   "execution_count": 54,
   "metadata": {
    "collapsed": false
   },
   "outputs": [],
   "source": [
    "from functools import reduce\r\n",
    "# 从python3开始，reduce函数移动到了functools这个包，每次使用前要先import"
   ]
  },
  {
   "cell_type": "code",
   "execution_count": 55,
   "metadata": {
    "collapsed": false
   },
   "outputs": [],
   "source": [
    "mul_xy = lambda x, y: x*y"
   ]
  },
  {
   "cell_type": "code",
   "execution_count": 56,
   "metadata": {
    "collapsed": false
   },
   "outputs": [
    {
     "data": {
      "text/plain": [
       "945"
      ]
     },
     "execution_count": 56,
     "metadata": {},
     "output_type": "execute_result"
    }
   ],
   "source": [
    "reduce(mul_xy, [1, 3, 5, 7, 9])"
   ]
  },
  {
   "cell_type": "markdown",
   "metadata": {
    "collapsed": false
   },
   "source": [
    "## sorted\n",
    "排序也是在程序中经常用到的算法。无论使用冒泡排序还是快速排序，排序的核心是比较两个元素的大小。如果是数字，我们可以直接比较，但如果是字符串或者两个dict呢？直接比较数学上的大小是没有意义的，因此，比较的过程必须通过函数抽象出来。"
   ]
  },
  {
   "cell_type": "code",
   "execution_count": 57,
   "metadata": {
    "collapsed": false
   },
   "outputs": [
    {
     "data": {
      "text/plain": [
       "[-21, -12, 5, 9, 36]"
      ]
     },
     "execution_count": 57,
     "metadata": {},
     "output_type": "execute_result"
    }
   ],
   "source": [
    "sorted([36, 5, -12, 9, -21])"
   ]
  },
  {
   "cell_type": "code",
   "execution_count": 58,
   "metadata": {
    "collapsed": false
   },
   "outputs": [
    {
     "data": {
      "text/plain": [
       "[36, 9, 5, -12, -21]"
      ]
     },
     "execution_count": 58,
     "metadata": {},
     "output_type": "execute_result"
    }
   ],
   "source": [
    "sorted([36, 5, -12, 9, -21], reverse=True)"
   ]
  },
  {
   "cell_type": "code",
   "execution_count": 59,
   "metadata": {
    "collapsed": false
   },
   "outputs": [
    {
     "data": {
      "text/plain": [
       "[5, 9, -12, -21, 36]"
      ]
     },
     "execution_count": 59,
     "metadata": {},
     "output_type": "execute_result"
    }
   ],
   "source": [
    "sorted([36, 5, -12, 9, -21], key=abs)   # 按绝对值排序key指定的函数将作用于list的每一个元素上，并根据key函数返回的结果进行排序"
   ]
  },
  {
   "cell_type": "code",
   "execution_count": 60,
   "metadata": {
    "collapsed": false
   },
   "outputs": [
    {
     "data": {
      "text/plain": [
       "[36, 5, 12, 9, 21]"
      ]
     },
     "execution_count": 60,
     "metadata": {},
     "output_type": "execute_result"
    }
   ],
   "source": [
    "list(map(abs, [36, 5, -12, 9, -21]))"
   ]
  },
  {
   "cell_type": "code",
   "execution_count": 61,
   "metadata": {
    "collapsed": false
   },
   "outputs": [],
   "source": [
    "points = [(5,2), (7,3), (3,4),(1,1),(2,6)]  # 按x坐标排序 y坐标排序 和0点距离排序"
   ]
  },
  {
   "cell_type": "code",
   "execution_count": 62,
   "metadata": {
    "collapsed": false
   },
   "outputs": [
    {
     "data": {
      "text/plain": [
       "[(1, 1), (2, 6), (3, 4), (5, 2), (7, 3)]"
      ]
     },
     "execution_count": 62,
     "metadata": {},
     "output_type": "execute_result"
    }
   ],
   "source": [
    "f_x = lambda x:x[0]\r\n",
    "sorted(points, key=f_x)"
   ]
  },
  {
   "cell_type": "code",
   "execution_count": 63,
   "metadata": {
    "collapsed": false
   },
   "outputs": [
    {
     "data": {
      "text/plain": [
       "[(1, 1), (5, 2), (7, 3), (3, 4), (2, 6)]"
      ]
     },
     "execution_count": 63,
     "metadata": {},
     "output_type": "execute_result"
    }
   ],
   "source": [
    "f_y = lambda x:x[1]\r\n",
    "sorted(points, key=f_y)"
   ]
  },
  {
   "cell_type": "code",
   "execution_count": 64,
   "metadata": {
    "collapsed": false
   },
   "outputs": [
    {
     "data": {
      "text/plain": [
       "[(1, 1), (3, 4), (5, 2), (2, 6), (7, 3)]"
      ]
     },
     "execution_count": 64,
     "metadata": {},
     "output_type": "execute_result"
    }
   ],
   "source": [
    "f_r = lambda x:x[0]**2+x[1]**2\r\n",
    "sorted(points, key=f_r)"
   ]
  },
  {
   "cell_type": "markdown",
   "metadata": {
    "collapsed": false
   },
   "source": [
    "# 装饰器\n",
    "\n",
    "## 函数作为返回值"
   ]
  },
  {
   "cell_type": "code",
   "execution_count": 65,
   "metadata": {
    "collapsed": false
   },
   "outputs": [],
   "source": [
    "def calc_sum(*args):\r\n",
    "    ax = 0\r\n",
    "    for n in args:\r\n",
    "        ax = ax + n\r\n",
    "    return ax"
   ]
  },
  {
   "cell_type": "code",
   "execution_count": 66,
   "metadata": {
    "collapsed": false
   },
   "outputs": [],
   "source": [
    "def lazy_sum(*args):\r\n",
    "    def sum():\r\n",
    "        ax = 0\r\n",
    "        for n in args:\r\n",
    "            ax = ax + n\r\n",
    "        return ax\r\n",
    "    return sum"
   ]
  },
  {
   "cell_type": "code",
   "execution_count": 67,
   "metadata": {
    "collapsed": false
   },
   "outputs": [],
   "source": [
    "f = lazy_sum(1, 3, 5, 7, 9)   # 这里暂时还不想计算\r\n"
   ]
  },
  {
   "cell_type": "code",
   "execution_count": 68,
   "metadata": {
    "collapsed": false
   },
   "outputs": [
    {
     "data": {
      "text/plain": [
       "<function __main__.lazy_sum.<locals>.sum()>"
      ]
     },
     "execution_count": 68,
     "metadata": {},
     "output_type": "execute_result"
    }
   ],
   "source": [
    "f"
   ]
  },
  {
   "cell_type": "code",
   "execution_count": 69,
   "metadata": {
    "collapsed": false
   },
   "outputs": [
    {
     "data": {
      "text/plain": [
       "25"
      ]
     },
     "execution_count": 69,
     "metadata": {},
     "output_type": "execute_result"
    }
   ],
   "source": [
    "f()"
   ]
  },
  {
   "cell_type": "code",
   "execution_count": 70,
   "metadata": {
    "collapsed": false
   },
   "outputs": [
    {
     "name": "stdout",
     "output_type": "stream",
     "text": [
      "140325305957408\n",
      "140325306488592\n"
     ]
    }
   ],
   "source": [
    "f1 = lazy_sum(1, 3, 5, 7, 9)\r\n",
    "print(id(f1))\r\n",
    "f2 = lazy_sum(1, 3, 5, 7, 9)\r\n",
    "print(id(f2))"
   ]
  },
  {
   "cell_type": "markdown",
   "metadata": {
    "collapsed": false
   },
   "source": [
    "## 闭包\n",
    "\n",
    "python中的闭包从表现形式上定义（解释）为：如果在一个内部函数里，对在外部作用域（但不是在全局作用域）的变量进行引用，那么内部函数就被认为是闭包(closure).\n",
    "\n",
    "![](https://ai-studio-static-online.cdn.bcebos.com/09b10ebc924c405384d3253736ce9b06525827cea92146839d1acfea6abdda8a)"
   ]
  },
  {
   "cell_type": "code",
   "execution_count": 71,
   "metadata": {
    "collapsed": false
   },
   "outputs": [],
   "source": [
    "def create_pointer(my_string):\r\n",
    "    def pointer(n):\r\n",
    "        return my_string[n]\r\n",
    "    return pointer\r\n",
    "    "
   ]
  },
  {
   "cell_type": "code",
   "execution_count": 72,
   "metadata": {
    "collapsed": false
   },
   "outputs": [
    {
     "data": {
      "text/plain": [
       "'m'"
      ]
     },
     "execution_count": 72,
     "metadata": {},
     "output_type": "execute_result"
    }
   ],
   "source": [
    "pointer = create_pointer('my name is Molly')\r\n",
    "pointer(5)"
   ]
  },
  {
   "cell_type": "code",
   "execution_count": 73,
   "metadata": {
    "collapsed": false
   },
   "outputs": [],
   "source": [
    "# 一个需要注意的问题是，返回的函数并没有立刻执行，而是直到调用了f()才执行。\r\n",
    "\r\n",
    "def count():\r\n",
    "    fs = []\r\n",
    "    for i in range(1, 4):\r\n",
    "        def f():\r\n",
    "            # print(id(i))\r\n",
    "            return i*i\r\n",
    "        fs.append(f)\r\n",
    "    return fs\r\n",
    "\r\n",
    "f1, f2, f3 = count()\r\n"
   ]
  },
  {
   "cell_type": "code",
   "execution_count": 74,
   "metadata": {
    "collapsed": false
   },
   "outputs": [
    {
     "name": "stdout",
     "output_type": "stream",
     "text": [
      "9\n",
      "9\n",
      "9\n"
     ]
    }
   ],
   "source": [
    "print(f1())\r\n",
    "print(f2())\r\n",
    "print(f3())\r\n"
   ]
  },
  {
   "cell_type": "code",
   "execution_count": 75,
   "metadata": {
    "collapsed": false
   },
   "outputs": [],
   "source": [
    "def count():\r\n",
    "    def f(j):\r\n",
    "        def g():\r\n",
    "            # print(id(j))\r\n",
    "            return j*j\r\n",
    "        return g\r\n",
    "    fs = []\r\n",
    "    for i in range(1, 4):\r\n",
    "        fs.append(f(i)) # f(i)立刻被执行，因此i的当前值被传入f()\r\n",
    "    return fs"
   ]
  },
  {
   "cell_type": "code",
   "execution_count": 76,
   "metadata": {
    "collapsed": false
   },
   "outputs": [
    {
     "name": "stdout",
     "output_type": "stream",
     "text": [
      "1\n",
      "4\n",
      "9\n"
     ]
    }
   ],
   "source": [
    "f1, f2, f3 = count()\r\n",
    "print(f1())\r\n",
    "print(f2())\r\n",
    "print(f3())\r\n"
   ]
  },
  {
   "cell_type": "markdown",
   "metadata": {
    "collapsed": false
   },
   "source": [
    "**返回闭包时牢记一点：返回函数不要引用任何循环变量，或者后续会发生变化的变量。**"
   ]
  },
  {
   "cell_type": "markdown",
   "metadata": {
    "collapsed": false
   },
   "source": [
    "##  装饰器\n",
    "顾名思义，从字面意思就可以理解，它是用来\"装饰\"Python的工具，使得代码更具有Python简洁的风格。换句话说，它是一种函数的函数，因为装饰器传入的参数就是一个函数，然后通过实现各种功能来对这个函数的功能进行增强。"
   ]
  },
  {
   "cell_type": "code",
   "execution_count": 77,
   "metadata": {
    "collapsed": false
   },
   "outputs": [],
   "source": [
    "def worker1():\r\n",
    "    print('我是一个勤劳的工作者！')\r\n",
    "def worker2():\r\n",
    "    print('我是一个勤劳的工作者！')\r\n",
    "def worker3():\r\n",
    "    print('我是一个勤劳的工作者！')"
   ]
  },
  {
   "cell_type": "code",
   "execution_count": 78,
   "metadata": {
    "collapsed": false
   },
   "outputs": [],
   "source": [
    "# 我现在想要打印一些日志信息\r\n",
    "def worker1():\r\n",
    "    print('worker1 is working...')\r\n",
    "    print('我是一个勤劳的工作者！')"
   ]
  },
  {
   "cell_type": "code",
   "execution_count": 79,
   "metadata": {
    "collapsed": false
   },
   "outputs": [
    {
     "name": "stdout",
     "output_type": "stream",
     "text": [
      "worker1 is working...\n",
      "我是一个勤劳的工作者！\n"
     ]
    }
   ],
   "source": [
    "worker1()"
   ]
  },
  {
   "cell_type": "code",
   "execution_count": 80,
   "metadata": {
    "collapsed": false
   },
   "outputs": [
    {
     "data": {
      "text/plain": [
       "'worker1'"
      ]
     },
     "execution_count": 80,
     "metadata": {},
     "output_type": "execute_result"
    }
   ],
   "source": [
    "worker1.__name__"
   ]
  },
  {
   "cell_type": "code",
   "execution_count": 81,
   "metadata": {
    "collapsed": false
   },
   "outputs": [],
   "source": [
    "# 装饰器输入一个函数，输出一个函数\r\n",
    "def print_working(func):\r\n",
    "    def wrapper():\r\n",
    "        print(f'{func.__name__} is working...')\r\n",
    "        func()\r\n",
    "    return wrapper\r\n",
    "\r\n"
   ]
  },
  {
   "cell_type": "code",
   "execution_count": 82,
   "metadata": {
    "collapsed": false
   },
   "outputs": [
    {
     "name": "stdout",
     "output_type": "stream",
     "text": [
      "worker1 is working...\n",
      "我是一个勤劳的工作者！\n",
      "worker2 is working...\n",
      "我是一个勤劳的工作者！\n"
     ]
    }
   ],
   "source": [
    "def worker1():\r\n",
    "    print('我是一个勤劳的工作者！')\r\n",
    "def worker2():\r\n",
    "    print('我是一个勤劳的工作者！')\r\n",
    "def worker3():\r\n",
    "    print('我是一个勤劳的工作者！')\r\n",
    "\r\n",
    "worker1 = print_working(worker1)\r\n",
    "worker1()\r\n",
    "worker2= print_working(worker2)\r\n",
    "worker2()"
   ]
  },
  {
   "cell_type": "code",
   "execution_count": 83,
   "metadata": {
    "collapsed": false
   },
   "outputs": [],
   "source": [
    "@print_working\r\n",
    "def worker1():\r\n",
    "    print('我是一个勤劳的工作者！')\r\n",
    "\r\n",
    "@print_working\r\n",
    "def worker2():\r\n",
    "    print('我是一个勤劳的工作者！')\r\n",
    "\r\n",
    "@print_working\r\n",
    "def worker3():\r\n",
    "    print('我是一个勤劳的工作者！')"
   ]
  },
  {
   "cell_type": "code",
   "execution_count": 84,
   "metadata": {
    "collapsed": false
   },
   "outputs": [
    {
     "name": "stdout",
     "output_type": "stream",
     "text": [
      "worker1 is working...\n",
      "我是一个勤劳的工作者！\n",
      "worker2 is working...\n",
      "我是一个勤劳的工作者！\n",
      "worker3 is working...\n",
      "我是一个勤劳的工作者！\n"
     ]
    }
   ],
   "source": [
    "worker1()\r\n",
    "worker2()\r\n",
    "worker3()"
   ]
  },
  {
   "cell_type": "markdown",
   "metadata": {
    "collapsed": false
   },
   "source": [
    "装饰器最大的优势是用于解决重复性的操作，其主要使用的场景有如下几个：\n",
    "\n",
    "* 计算函数运行时间\n",
    "* 给函数打日志\n",
    "* 类型检查\n",
    "\n",
    "当然，如果遇到其他重复操作的场景也可以类比使用装饰器。"
   ]
  },
  {
   "cell_type": "code",
   "execution_count": 85,
   "metadata": {
    "collapsed": false
   },
   "outputs": [],
   "source": [
    "def arg_decorator(func):\r\n",
    "    def wrapper(*args, **kw):\r\n",
    "        print(f'{func.__name__} is working...')\r\n",
    "        func(*args, **kw)\r\n",
    "    return wrapper\r\n"
   ]
  },
  {
   "cell_type": "code",
   "execution_count": 86,
   "metadata": {
    "collapsed": false
   },
   "outputs": [],
   "source": [
    "# 带参数的装饰器\r\n",
    "@arg_decorator\r\n",
    "def student_info(name, age=18, *books, **kw):\r\n",
    "    print(f'我的名字叫{name}, 今年{age}岁，我有很多本书：')\r\n",
    "    for book in books:\r\n",
    "        print(book)\r\n",
    "    print(kw)"
   ]
  },
  {
   "cell_type": "code",
   "execution_count": 87,
   "metadata": {
    "collapsed": false
   },
   "outputs": [
    {
     "name": "stdout",
     "output_type": "stream",
     "text": [
      "student_info is working...\n",
      "我的名字叫Molly, 今年18岁，我有很多本书：\n",
      "语文书\n",
      "数学书\n",
      "{'height': 170}\n"
     ]
    }
   ],
   "source": [
    "student_info('Molly',18, '语文书','数学书',height=170)"
   ]
  },
  {
   "cell_type": "markdown",
   "metadata": {
    "collapsed": false
   },
   "source": [
    "## 偏函数\n",
    "通过设定参数的默认值，降低函数调用的难度"
   ]
  },
  {
   "cell_type": "code",
   "execution_count": 88,
   "metadata": {
    "collapsed": false
   },
   "outputs": [],
   "source": [
    "def student_info(name, age, city):\r\n",
    "    print(f'我的名字叫{name}, 今年{age}岁，来自{city}')"
   ]
  },
  {
   "cell_type": "code",
   "execution_count": 89,
   "metadata": {
    "collapsed": false
   },
   "outputs": [
    {
     "name": "stdout",
     "output_type": "stream",
     "text": [
      "我的名字叫Molly, 今年18岁，来自北京\n"
     ]
    }
   ],
   "source": [
    "student_info('Molly',18,'北京')"
   ]
  },
  {
   "cell_type": "code",
   "execution_count": 90,
   "metadata": {
    "collapsed": false
   },
   "outputs": [],
   "source": [
    "def student_info(name, age, city='北京'):\r\n",
    "    print(f'我的名字叫{name}, 今年{age}岁，来自{city}')"
   ]
  },
  {
   "cell_type": "code",
   "execution_count": 91,
   "metadata": {
    "collapsed": false
   },
   "outputs": [
    {
     "name": "stdout",
     "output_type": "stream",
     "text": [
      "我的名字叫Molly, 今年18岁，来自北京\n"
     ]
    }
   ],
   "source": [
    "student_info('Molly',18)"
   ]
  },
  {
   "cell_type": "code",
   "execution_count": 92,
   "metadata": {
    "collapsed": false
   },
   "outputs": [],
   "source": [
    "from functools import partial"
   ]
  },
  {
   "cell_type": "code",
   "execution_count": 93,
   "metadata": {
    "collapsed": false
   },
   "outputs": [],
   "source": [
    "def student_info(name, age, city):\r\n",
    "    print(f'我的名字叫{name}, 今年{age}岁，来自{city}')\r\n",
    "\r\n",
    "student_info_beijing = partial(student_info, city='北京')"
   ]
  },
  {
   "cell_type": "code",
   "execution_count": 94,
   "metadata": {
    "collapsed": false
   },
   "outputs": [
    {
     "name": "stdout",
     "output_type": "stream",
     "text": [
      "我的名字叫Molly, 今年18岁，来自北京\n"
     ]
    }
   ],
   "source": [
    "student_info_beijing('Molly',18)"
   ]
  },
  {
   "cell_type": "code",
   "execution_count": 95,
   "metadata": {
    "collapsed": false
   },
   "outputs": [
    {
     "name": "stdout",
     "output_type": "stream",
     "text": [
      "我的名字叫Molly, 今年18岁，来自上海\n"
     ]
    }
   ],
   "source": [
    "student_info_beijing('Molly',18, city='上海')"
   ]
  },
  {
   "cell_type": "code",
   "execution_count": 96,
   "metadata": {
    "collapsed": false
   },
   "outputs": [],
   "source": [
    "# 另一个例子\r\n",
    "def add_xy(x,y):\r\n",
    "    return x+y"
   ]
  },
  {
   "cell_type": "code",
   "execution_count": 97,
   "metadata": {
    "collapsed": false
   },
   "outputs": [],
   "source": [
    "add_100 = partial(add_xy, y=100)"
   ]
  },
  {
   "cell_type": "code",
   "execution_count": 98,
   "metadata": {
    "collapsed": false
   },
   "outputs": [
    {
     "data": {
      "text/plain": [
       "110"
      ]
     },
     "execution_count": 98,
     "metadata": {},
     "output_type": "execute_result"
    }
   ],
   "source": [
    "add_100(10)"
   ]
  },
  {
   "cell_type": "markdown",
   "metadata": {
    "collapsed": false
   },
   "source": [
    "# 模块"
   ]
  },
  {
   "cell_type": "code",
   "execution_count": 99,
   "metadata": {
    "collapsed": false
   },
   "outputs": [],
   "source": [
    "import time "
   ]
  },
  {
   "cell_type": "code",
   "execution_count": 100,
   "metadata": {
    "collapsed": false
   },
   "outputs": [
    {
     "name": "stdout",
     "output_type": "stream",
     "text": [
      "1613961739.3602173\n",
      "1613961740.3616672\n"
     ]
    }
   ],
   "source": [
    "print(time.time())\r\n",
    "time.sleep(1)\r\n",
    "print(time.time())"
   ]
  },
  {
   "cell_type": "code",
   "execution_count": 101,
   "metadata": {
    "collapsed": false
   },
   "outputs": [],
   "source": [
    "# 和装饰器结合\r\n",
    "def time_decorator(func):\r\n",
    "    def wrapper():\r\n",
    "        time_start = time.time()\r\n",
    "        func()\r\n",
    "        time_end = time.time()\r\n",
    "        print(f'程序执行了{round(time_end-time_start, 3)}秒')\r\n",
    "    return wrapper"
   ]
  },
  {
   "cell_type": "code",
   "execution_count": 102,
   "metadata": {
    "collapsed": false
   },
   "outputs": [],
   "source": [
    "@time_decorator\r\n",
    "def a_loop():\r\n",
    "    for i in range(int(1e7)):\r\n",
    "        continue"
   ]
  },
  {
   "cell_type": "code",
   "execution_count": 103,
   "metadata": {
    "collapsed": false
   },
   "outputs": [
    {
     "name": "stdout",
     "output_type": "stream",
     "text": [
      "程序执行了0.215秒\n"
     ]
    }
   ],
   "source": [
    "a_loop()"
   ]
  },
  {
   "cell_type": "code",
   "execution_count": 104,
   "metadata": {
    "collapsed": false
   },
   "outputs": [],
   "source": [
    "from functools import partial as pr "
   ]
  },
  {
   "cell_type": "code",
   "execution_count": 105,
   "metadata": {
    "collapsed": false
   },
   "outputs": [],
   "source": [
    "# 另一个例子\r\n",
    "def add_xy(x,y):\r\n",
    "    return x+y"
   ]
  },
  {
   "cell_type": "code",
   "execution_count": 106,
   "metadata": {
    "collapsed": false
   },
   "outputs": [],
   "source": [
    "add_100 = partial(add_xy, y=100)"
   ]
  },
  {
   "cell_type": "code",
   "execution_count": 107,
   "metadata": {
    "collapsed": false
   },
   "outputs": [],
   "source": [
    "import numpy as np\r\n",
    "import pandas as pd \r\n"
   ]
  },
  {
   "cell_type": "markdown",
   "metadata": {
    "collapsed": false
   },
   "source": [
    "## 安装/卸载第三方模块 \n",
    "* pip install / uninstall \n",
    "* conda install / uninstall"
   ]
  },
  {
   "cell_type": "code",
   "execution_count": null,
   "metadata": {
    "collapsed": false
   },
   "outputs": [],
   "source": []
  }
 ],
 "metadata": {
  "kernelspec": {
   "display_name": "PaddlePaddle 2.0.0b0 (Python 3.5)",
   "language": "python",
   "name": "py35-paddle1.2.0"
  }
 },
 "nbformat": 4,
 "nbformat_minor": 1
}
