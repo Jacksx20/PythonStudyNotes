{
 "cells": [
  {
   "cell_type": "markdown",
   "metadata": {
    "collapsed": false
   },
   "source": [
    "**python的特点**\n",
    "* 简洁性 实现同样的功能，python代码的行数往往是java的1/5。\n",
    "* 易读性 代码像纯英语一样易于理解。\n",
    "* 可扩展性 开源，任何人都可以做出自己的贡献。"
   ]
  },
  {
   "cell_type": "markdown",
   "metadata": {
    "collapsed": false
   },
   "source": [
    "# 框架\n",
    "* python入门及环境配置\n",
    "* 语法基础\n",
    "* 函数\n",
    "* 高级特性\n",
    "* 面向对象\n",
    "* 文件操作与常用模块的使用"
   ]
  },
  {
   "cell_type": "markdown",
   "metadata": {
    "collapsed": false
   },
   "source": [
    "# 学习方法\n",
    "* python是一个工具，只有不断重复、练习，才能彻底掌握。课下多练习，完成作业\n",
    "* 不要复制粘贴老师的代码！ 从对着讲义手打-理解后独立复现-学习如何找bug、改bug\n",
    "* 上课以理解为主，不要把时间花在优美的笔记上面。尤其是讲义上面已经有的东西。\n",
    "* 课上一时没跟上，不要纠结&及时反馈。课下及时弥补&录播。"
   ]
  },
  {
   "cell_type": "markdown",
   "metadata": {
    "collapsed": false
   },
   "source": [
    "# 语法基础"
   ]
  },
  {
   "cell_type": "markdown",
   "metadata": {
    "collapsed": false
   },
   "source": [
    "## 第一个python程序\n",
    "AI studio的基本使用方法； 认识cell；编辑模式 or 命令模式；如何运行cell；记住快捷键"
   ]
  },
  {
   "cell_type": "code",
   "execution_count": 5,
   "metadata": {
    "collapsed": false
   },
   "outputs": [
    {
     "output_type": "stream",
     "name": "stdout",
     "text": [
      "Hello World!\n"
     ]
    }
   ],
   "source": [
    "print('Hello World!')"
   ]
  },
  {
   "cell_type": "code",
   "execution_count": 7,
   "metadata": {
    "collapsed": false
   },
   "outputs": [
    {
     "output_type": "stream",
     "name": "stdout",
     "text": [
      "上课时间： 2 小时\n"
     ]
    }
   ],
   "source": [
    "print('上课时间：', 2,'小时')"
   ]
  },
  {
   "cell_type": "code",
   "execution_count": 9,
   "metadata": {
    "collapsed": false
   },
   "outputs": [
    {
     "output_type": "execute_result",
     "data": {
      "text/plain": [
       "'Jack20'"
      ]
     },
     "metadata": {},
     "execution_count": 9
    }
   ],
   "source": [
    "input('输入您的名字:')"
   ]
  },
  {
   "cell_type": "code",
   "execution_count": 11,
   "metadata": {
    "collapsed": false
   },
   "outputs": [
    {
     "output_type": "stream",
     "name": "stdout",
     "text": [
      "\n恭喜您，猜对了！\n\n"
     ]
    }
   ],
   "source": [
    "\r\n",
    "# python的代码大概长这样子  \r\n",
    "\"\"\"\r\n",
    "猜数字小游戏  \r\n",
    "dfasdf\r\n",
    "\"\"\"\r\n",
    "\r\n",
    "my_number = 3200  # 这是真实的价格\r\n",
    "guess_number = input('这台冰箱多少钱？')   # 所有符号都是英文标点（半角字符）\r\n",
    "guess_number = int(guess_number)\r\n",
    "while guess_number != my_number:  \r\n",
    "    if guess_number<my_number:      # 使用缩进来标识代码段\r\n",
    "        guess_number = input('猜低了！再猜')\r\n",
    "        guess_number = int(guess_number)\r\n",
    "    else:\r\n",
    "        guess_number = input('猜高了！再猜')\r\n",
    "        guess_number = int(guess_number)\r\n",
    "print('\\n恭喜您，猜对了！\\n')"
   ]
  },
  {
   "cell_type": "markdown",
   "metadata": {
    "collapsed": false
   },
   "source": [
    "## 基本数据类型"
   ]
  },
  {
   "cell_type": "code",
   "execution_count": 13,
   "metadata": {
    "collapsed": false
   },
   "outputs": [
    {
     "output_type": "execute_result",
     "data": {
      "text/plain": [
       "-5"
      ]
     },
     "metadata": {},
     "execution_count": 13
    }
   ],
   "source": [
    "# 整数 Python可以处理任意大小的整数，当然包括负整数，在程序中的表示方法和数学上的写法一模一样\r\n",
    "2\r\n",
    "-5"
   ]
  },
  {
   "cell_type": "code",
   "execution_count": 15,
   "metadata": {
    "collapsed": false
   },
   "outputs": [
    {
     "output_type": "execute_result",
     "data": {
      "text/plain": [
       "0.0003"
      ]
     },
     "metadata": {},
     "execution_count": 15
    }
   ],
   "source": [
    "\r\n",
    "# 浮点数也就是小数，之所以称为浮点数，是因为按照科学记数法表示时，一个浮点数的小数点位置是可变的\r\n",
    "0.1\r\n",
    "1.58e10\r\n",
    "3e-4"
   ]
  },
  {
   "cell_type": "code",
   "execution_count": 17,
   "metadata": {
    "collapsed": false
   },
   "outputs": [
    {
     "output_type": "stream",
     "name": "stdout",
     "text": [
      "3\n-1\n2\n0.5\n0\n1\n4\n2015.5\n"
     ]
    },
    {
     "output_type": "execute_result",
     "data": {
      "text/plain": [
       "0.30000000000000004"
      ]
     },
     "metadata": {},
     "execution_count": 17
    }
   ],
   "source": [
    "# 认识运算符\r\n",
    "print(1+2)   # 加法\r\n",
    "print(1-2)   # 减法\r\n",
    "print(1*2)   # 乘法\r\n",
    "print(1/2)   # 除法\r\n",
    "print(1//2)  # 整除 (向下取整)\r\n",
    "print(1%2)   # 取余数\r\n",
    "print(2**2)  # 幂运算\r\n",
    "print(2020- 5*5/2 +8**1)   #结合顺序和一般的数学运算符一样\r\n",
    "\r\n",
    "# 浮点数的计算精度\r\n",
    "0.1+0.2"
   ]
  },
  {
   "cell_type": "markdown",
   "metadata": {
    "collapsed": false
   },
   "source": [
    "0.1(10)=0.00011001100110011...(2)"
   ]
  },
  {
   "cell_type": "markdown",
   "metadata": {
    "collapsed": false
   },
   "source": [
    "![](https://ai-studio-static-online.cdn.bcebos.com/95c8303d008e41b89744d87f4d57c3775f5a28339f3e4d16bae7829695d93b56)\n"
   ]
  },
  {
   "cell_type": "code",
   "execution_count": 19,
   "metadata": {
    "collapsed": false
   },
   "outputs": [
    {
     "output_type": "execute_result",
     "data": {
      "text/plain": [
       "12"
      ]
     },
     "metadata": {},
     "execution_count": 19
    }
   ],
   "source": [
    "# 字符串是以单引号'或双引号\"括起来的任意文本\r\n",
    "'this is a string'\r\n",
    "\"yes\"\r\n",
    "\r\n",
    "'爸爸说：\"今天我做饭\"'\r\n",
    "\"爸爸说：\\\"今天我做饭\\\"\"\r\n",
    "\r\n",
    "len('hello world!')"
   ]
  },
  {
   "cell_type": "code",
   "execution_count": 21,
   "metadata": {
    "collapsed": false
   },
   "outputs": [
    {
     "output_type": "execute_result",
     "data": {
      "text/plain": [
       "True"
      ]
     },
     "metadata": {},
     "execution_count": 21
    }
   ],
   "source": [
    "\r\n",
    "# 布尔值和布尔代数的表示完全一致，一个布尔值只有True、False两种值布尔值 布尔值可以用and、or和not运算。\r\n",
    "# 注意大小写！\r\n",
    "True or False"
   ]
  },
  {
   "cell_type": "code",
   "execution_count": 23,
   "metadata": {
    "collapsed": false
   },
   "outputs": [],
   "source": [
    "# 空值 空值是Python里一个特殊的值，用None表示。None不能理解为0，因为0是有意义的，而None是一个特殊的空值。\r\n",
    "None"
   ]
  },
  {
   "cell_type": "markdown",
   "metadata": {
    "collapsed": false
   },
   "source": [
    "# 给变量赋值\n",
    "\n",
    "![](https://ai-studio-static-online.cdn.bcebos.com/3c67591f72f54ac9ba09d82c35652663e75a7199318d42eaa17c4a8e596e62c4)\n"
   ]
  },
  {
   "cell_type": "code",
   "execution_count": null,
   "metadata": {
    "collapsed": false
   },
   "outputs": [],
   "source": [
    "number = 1\r\n",
    "number = 5.5\r\n",
    "number = 'number'"
   ]
  },
  {
   "cell_type": "code",
   "execution_count": 20,
   "metadata": {
    "collapsed": false
   },
   "outputs": [],
   "source": [
    "# 给变量赋值\r\n",
    "Number = 5\r\n",
    "number = 10.5\r\n",
    "NUMBER = 20\r\n",
    "\r\n",
    "name = 'Molly'\r\n",
    "beautiful = True "
   ]
  },
  {
   "cell_type": "code",
   "execution_count": 22,
   "metadata": {
    "collapsed": false
   },
   "outputs": [],
   "source": [
    "# 给变量赋值\r\n",
    "number += 2\r\n",
    "number -= 5\r\n",
    "number *= 4\r\n",
    "number /= 6\r\n",
    "number %= 2\r\n",
    "number **= 5\r\n",
    "number //= 5\r\n",
    "\r\n",
    "# ? i++ i--"
   ]
  },
  {
   "cell_type": "markdown",
   "metadata": {
    "collapsed": false
   },
   "source": [
    "**起名法则**\n",
    "\n",
    "简单地理解，标识符就是一个名字，就好像我们每个人都有属于自己的名字，它的主要作用就是作为变量、函数、类、模块以及其他对象的名称\n",
    "\n",
    "Python 中标识符的命名不是随意的，而是要遵守一定的命令规则，比如说：\n",
    "\n",
    "标识符是由字符（A~Z 和 a~z）、下划线和数字组成，但第一个字符不能是数字。\n",
    "标识符不能和 Python 中的保留字相同。\n",
    "Python中的标识符中，不能包含空格、@、% 以及 $ 等特殊字符。\n",
    "在 Python 中，标识符中的字母是严格区分大小写的\n",
    "\n",
    "![](https://ai-studio-static-online.cdn.bcebos.com/b9dd82b7869f490da56933eae7e7c15ba37edf2f2b4f4973a360d319c70327e2)\n"
   ]
  },
  {
   "cell_type": "code",
   "execution_count": 24,
   "metadata": {
    "collapsed": false
   },
   "outputs": [
    {
     "output_type": "error",
     "ename": "SyntaxError",
     "evalue": "invalid syntax (<ipython-input-24-cd3200421770>, line 3)",
     "traceback": [
      "\u001b[1;36m  File \u001b[1;32m\"<ipython-input-24-cd3200421770>\"\u001b[1;36m, line \u001b[1;32m3\u001b[0m\n\u001b[1;33m    4word\u001b[0m\n\u001b[1;37m        ^\u001b[0m\n\u001b[1;31mSyntaxError\u001b[0m\u001b[1;31m:\u001b[0m invalid syntax\n"
     ]
    }
   ],
   "source": [
    "\r\n",
    "# 判断下面的名字，哪些是合法的？\r\n",
    "UserID\r\n",
    "4word  \r\n",
    "name\r\n",
    "import \r\n",
    "data$money \r\n",
    "mode12\r\n",
    "user_age\r\n",
    "_my_name"
   ]
  },
  {
   "cell_type": "markdown",
   "metadata": {
    "collapsed": false
   },
   "source": [
    "## 数据类型间相互转换"
   ]
  },
  {
   "cell_type": "code",
   "execution_count": 26,
   "metadata": {
    "collapsed": false
   },
   "outputs": [
    {
     "output_type": "execute_result",
     "data": {
      "text/plain": [
       "0.6"
      ]
     },
     "metadata": {},
     "execution_count": 26
    }
   ],
   "source": [
    "int(2.5)\r\n",
    "str(4)\r\n",
    "bool(3)  # 非0： Ture 其它 False\r\n",
    "float('0.6')\r\n",
    "\r\n"
   ]
  },
  {
   "cell_type": "code",
   "execution_count": 27,
   "metadata": {
    "collapsed": false
   },
   "outputs": [],
   "source": [
    "# interval 10 min"
   ]
  },
  {
   "cell_type": "markdown",
   "metadata": {
    "collapsed": false
   },
   "source": [
    "## 组合数据类型\n",
    "### 列表 list\n",
    "list是一种有序的集合，可以随时添加和删除其中的元素。"
   ]
  },
  {
   "cell_type": "code",
   "execution_count": 28,
   "metadata": {
    "collapsed": false
   },
   "outputs": [
    {
     "output_type": "execute_result",
     "data": {
      "text/plain": [
       "5"
      ]
     },
     "metadata": {},
     "execution_count": 28
    }
   ],
   "source": [
    "list1 = [1, 2, 3, 4, 5 ]\r\n",
    "list2 = [\"a\", \"b\", \"c\", \"d\",\"e\",\"f\"]\r\n",
    "list3 = ['physics', 'chemistry', 1997, 2000]\r\n",
    "\r\n",
    "len(list1)\r\n",
    "\r\n",
    "list1[4]\r\n",
    "list3.append(5)\r\n",
    "list1.pop()\r\n",
    "\r\n",
    "# ？ 把list中所有元素翻转 善用搜索引擎"
   ]
  },
  {
   "cell_type": "markdown",
   "metadata": {
    "collapsed": false
   },
   "source": [
    "### 元组 tuple\n",
    "另一种有序列表叫元组：tuple。tuple和list非常类似，但是tuple一旦初始化就不能修改"
   ]
  },
  {
   "cell_type": "code",
   "execution_count": 29,
   "metadata": {
    "collapsed": false
   },
   "outputs": [
    {
     "output_type": "execute_result",
     "data": {
      "text/plain": [
       "5"
      ]
     },
     "metadata": {},
     "execution_count": 29
    }
   ],
   "source": [
    "tuple1 = (1, 2, 3, 4, 5 )\r\n",
    "tuple2 = (\"a\", \"b\", \"c\", \"d\",\"e\",\"f\")\r\n",
    "tuple3 = ('physics', 'chemistry', 1997, 2000)\r\n",
    "\r\n",
    "len(tuple1)\r\n",
    "\r\n"
   ]
  },
  {
   "cell_type": "code",
   "execution_count": 30,
   "metadata": {
    "collapsed": false
   },
   "outputs": [
    {
     "output_type": "error",
     "ename": "AttributeError",
     "evalue": "'tuple' object has no attribute 'append'",
     "traceback": [
      "\u001b[1;31m---------------------------------------------------------------------------\u001b[0m",
      "\u001b[1;31mAttributeError\u001b[0m                            Traceback (most recent call last)",
      "\u001b[1;32m<ipython-input-30-2694b46c0b6f>\u001b[0m in \u001b[0;36m<module>\u001b[1;34m\u001b[0m\n\u001b[1;32m----> 1\u001b[1;33m \u001b[0mtuple1\u001b[0m\u001b[1;33m.\u001b[0m\u001b[0mappend\u001b[0m\u001b[1;33m(\u001b[0m\u001b[1;36m3\u001b[0m\u001b[1;33m)\u001b[0m\u001b[1;33m\u001b[0m\u001b[1;33m\u001b[0m\u001b[0m\n\u001b[0m",
      "\u001b[1;31mAttributeError\u001b[0m: 'tuple' object has no attribute 'append'"
     ]
    }
   ],
   "source": [
    "tuple1.append(3)"
   ]
  },
  {
   "cell_type": "markdown",
   "metadata": {
    "collapsed": false
   },
   "source": [
    "# 可变对象 不可变对象\n",
    "可变对象：list dict set\n",
    "\n",
    "不可变对象：tuple string int float bool"
   ]
  },
  {
   "cell_type": "code",
   "execution_count": 31,
   "metadata": {
    "collapsed": false
   },
   "outputs": [
    {
     "output_type": "stream",
     "name": "stdout",
     "text": [
      "140706209362320\n140706209362352\n"
     ]
    }
   ],
   "source": [
    "a = 5\n",
    "print(id(a))\n",
    "a = 6\n",
    "print(id(a))\n"
   ]
  },
  {
   "cell_type": "code",
   "execution_count": 32,
   "metadata": {
    "collapsed": false
   },
   "outputs": [
    {
     "output_type": "stream",
     "name": "stdout",
     "text": [
      "2278398450632\n2278398450632\n"
     ]
    }
   ],
   "source": [
    "a = [5]\n",
    "print(id(a))\n",
    "a.append(6)\n",
    "print(id(a))"
   ]
  },
  {
   "cell_type": "markdown",
   "metadata": {
    "collapsed": false
   },
   "source": [
    "### 字典dict\n",
    "Python内置了字典：dict的支持，dict全称dictionary，在其他语言中也称为map，使用键-值（key-value）存储，具有极快的查找速度。\n",
    "\n",
    "![](https://ai-studio-static-online.cdn.bcebos.com/ea92541b62604edf86225919fa7ff7764283ead3f2aa42518caa0b0093b627c7)\n",
    "\n"
   ]
  },
  {
   "cell_type": "code",
   "execution_count": 33,
   "metadata": {
    "collapsed": false
   },
   "outputs": [],
   "source": [
    "word = {'apple':'苹果','banana':'香蕉'}\n",
    "scores = {'小张':100, '小李':80}\n",
    "grad = {4:'很好',3: '好',2:'中',1:'差',0:'很差'}"
   ]
  },
  {
   "cell_type": "code",
   "execution_count": 34,
   "metadata": {
    "collapsed": false
   },
   "outputs": [
    {
     "output_type": "execute_result",
     "data": {
      "text/plain": [
       "100"
      ]
     },
     "metadata": {},
     "execution_count": 34
    }
   ],
   "source": [
    "scores['小张']"
   ]
  },
  {
   "cell_type": "code",
   "execution_count": 35,
   "metadata": {
    "collapsed": false
   },
   "outputs": [
    {
     "output_type": "execute_result",
     "data": {
      "text/plain": [
       "'好'"
      ]
     },
     "metadata": {},
     "execution_count": 35
    }
   ],
   "source": [
    "grad[3]"
   ]
  },
  {
   "cell_type": "code",
   "execution_count": 36,
   "metadata": {
    "collapsed": false
   },
   "outputs": [
    {
     "output_type": "execute_result",
     "data": {
      "text/plain": [
       "{'小张': 100, '小李': 80, '小赵': 60}"
      ]
     },
     "metadata": {},
     "execution_count": 36
    }
   ],
   "source": [
    "scores['小赵']=60\n",
    "scores"
   ]
  },
  {
   "cell_type": "markdown",
   "metadata": {
    "collapsed": false
   },
   "source": [
    "### 集合 set\n",
    "set和dict类似，也是一组key的集合，但不存储value。由于key不能重复，所以，在set中，没有重复的key。"
   ]
  },
  {
   "cell_type": "code",
   "execution_count": 37,
   "metadata": {
    "collapsed": false
   },
   "outputs": [],
   "source": [
    "s = {1,1,2,3,4}"
   ]
  },
  {
   "cell_type": "code",
   "execution_count": 38,
   "metadata": {
    "collapsed": false
   },
   "outputs": [
    {
     "output_type": "execute_result",
     "data": {
      "text/plain": [
       "[1, 2, 3]"
      ]
     },
     "metadata": {},
     "execution_count": 38
    }
   ],
   "source": [
    "set([1,1,2,3,4])\n",
    "list({1,1,2,3,4})\n",
    "list((1,2,3))"
   ]
  },
  {
   "cell_type": "markdown",
   "metadata": {
    "collapsed": false
   },
   "source": [
    "## 流程控制：条件判断和循环"
   ]
  },
  {
   "cell_type": "markdown",
   "metadata": {
    "collapsed": false
   },
   "source": [
    "**IF语句流程图**\n",
    "![](https://ai-studio-static-online.cdn.bcebos.com/4641c6fa80214666ac1a7477a0f00baefd3be071a3ec4a5484ea92c2446bbea0)\n",
    "\n"
   ]
  },
  {
   "cell_type": "code",
   "execution_count": 39,
   "metadata": {
    "collapsed": false
   },
   "outputs": [
    {
     "output_type": "stream",
     "name": "stdout",
     "text": [
      "及格\n"
     ]
    }
   ],
   "source": [
    "# 60分以上的同学及格了\n",
    "\n",
    "score = 80\n",
    "if score < 60:\n",
    "    print('不及格')\n",
    "else:\n",
    "    print('及格')"
   ]
  },
  {
   "cell_type": "code",
   "execution_count": 40,
   "metadata": {
    "collapsed": false
   },
   "outputs": [
    {
     "output_type": "stream",
     "name": "stdout",
     "text": [
      "False\nTrue\nFalse\nTrue\nFalse\nTrue\n"
     ]
    }
   ],
   "source": [
    "\n",
    "print(1==2)  # 判断是否相等\n",
    "print(1!=2)  # 判断是否相等\n",
    "print(1>2)  # 判断是否相等\n",
    "print(1<2)  # 判断是否相等\n",
    "print(1>=2)  # 判断是否相等\n",
    "print(1<=2)  # 判断是否相等"
   ]
  },
  {
   "cell_type": "code",
   "execution_count": 41,
   "metadata": {
    "collapsed": false
   },
   "outputs": [
    {
     "output_type": "stream",
     "name": "stdout",
     "text": [
      "False\n"
     ]
    }
   ],
   "source": [
    "print(0.1+0.2==0.3)  # 优先级"
   ]
  },
  {
   "cell_type": "code",
   "execution_count": 42,
   "metadata": {
    "collapsed": false
   },
   "outputs": [
    {
     "output_type": "execute_result",
     "data": {
      "text/plain": [
       "True"
      ]
     },
     "metadata": {},
     "execution_count": 42
    }
   ],
   "source": [
    "(0.1+0.2-0.3)<1e-5"
   ]
  },
  {
   "cell_type": "code",
   "execution_count": 43,
   "metadata": {
    "collapsed": false
   },
   "outputs": [
    {
     "output_type": "stream",
     "name": "stdout",
     "text": [
      "停\n"
     ]
    }
   ],
   "source": [
    "# 多分支：红灯停 绿灯行\n",
    "\n",
    "light = '红灯'\n",
    "\n",
    "if light == '红灯':\n",
    "    print('停')\n",
    "elif light == '绿灯':\n",
    "    print('行')\n",
    "else:\n",
    "    print('等一等')"
   ]
  },
  {
   "cell_type": "code",
   "execution_count": 44,
   "metadata": {
    "collapsed": false
   },
   "outputs": [
    {
     "output_type": "execute_result",
     "data": {
      "text/plain": [
       "False"
      ]
     },
     "metadata": {},
     "execution_count": 44
    }
   ],
   "source": [
    "# or and not\n",
    "1 < 2 and 2==3"
   ]
  },
  {
   "cell_type": "code",
   "execution_count": 45,
   "metadata": {
    "collapsed": false
   },
   "outputs": [
    {
     "output_type": "stream",
     "name": "stdout",
     "text": [
      "仍需努力\n"
     ]
    }
   ],
   "source": [
    "# 学生三门课程都超过80分？\n",
    "score_math = 90\n",
    "score_english = 80\n",
    "score_biology = 50\n",
    "\n",
    "if score_math>80 and score_english>80 and score_biology>80:\n",
    "    print('奖励一朵小红花！')\n",
    "else:\n",
    "    print('仍需努力')"
   ]
  },
  {
   "cell_type": "code",
   "execution_count": null,
   "metadata": {
    "collapsed": false
   },
   "outputs": [],
   "source": []
  },
  {
   "cell_type": "markdown",
   "metadata": {
    "collapsed": false
   },
   "source": [
    "## 循环语句\n",
    "### while ... do ..a\n",
    "while 判断条件(condition)：\n",
    "    执行语句(statements)\n",
    "    \n",
    "![](https://ai-studio-static-online.cdn.bcebos.com/9da3e74ac43e431ab6f038fbc0b621d6d216ffcde63942318348397a0d661c3d)\n",
    "\n",
    "    "
   ]
  },
  {
   "cell_type": "code",
   "execution_count": 46,
   "metadata": {
    "collapsed": false
   },
   "outputs": [
    {
     "output_type": "stream",
     "name": "stdout",
     "text": [
      "1\n2\n3\n4\n5\n6\n7\n8\n9\n"
     ]
    }
   ],
   "source": [
    "\n",
    "# 从1数到9\n",
    "number = 1\n",
    "while number<10:   # 注意边界条件\n",
    "    print(number)\n",
    "    number+=1"
   ]
  },
  {
   "cell_type": "code",
   "execution_count": 47,
   "metadata": {
    "collapsed": false
   },
   "outputs": [
    {
     "output_type": "stream",
     "name": "stdout",
     "text": [
      "\n恭喜您，猜对了！\n\n"
     ]
    }
   ],
   "source": [
    "my_number = 3200  # 这是真实的价格\n",
    "guess_number = input('这台冰箱多少钱？') \n",
    "guess_number = int(guess_number)\n",
    "while guess_number != my_number:\n",
    "    if guess_number<my_number:   \n",
    "        guess_number = input('猜低了！再猜')\n",
    "        guess_number = int(guess_number)\n",
    "    else:\n",
    "        guess_number = input('猜高了！再猜')\n",
    "        guess_number = int(guess_number)\n",
    "print('\\n恭喜您，猜对了！\\n')"
   ]
  },
  {
   "cell_type": "markdown",
   "metadata": {
    "collapsed": false
   },
   "source": [
    "## for 循环\n",
    "  for循环可以遍历任何序列的项目，如一个列表或者一个字符串。\n",
    "  \n",
    "  for iterating_var in sequence:\n",
    "   statements(s)\n",
    "   \n",
    "   ![](https://ai-studio-static-online.cdn.bcebos.com/15162c27a1e442b99943ddaedd14fdcc635c832476734395b7649bb36ddf4364)\n",
    "   "
   ]
  },
  {
   "cell_type": "code",
   "execution_count": 48,
   "metadata": {
    "collapsed": false
   },
   "outputs": [
    {
     "output_type": "stream",
     "name": "stdout",
     "text": [
      "1\n2\n3\n4\n5\n6\n7\n8\n9\n"
     ]
    }
   ],
   "source": [
    "for i in range(9):\n",
    "    print(i+1)"
   ]
  },
  {
   "cell_type": "code",
   "execution_count": 49,
   "metadata": {
    "collapsed": false
   },
   "outputs": [
    {
     "output_type": "stream",
     "name": "stdout",
     "text": [
      "当前水果 : banana\n当前水果 : apple\n当前水果 : mango\n"
     ]
    }
   ],
   "source": [
    "\n",
    "fruits = ['banana', 'apple',  'mango']\n",
    "for fruit in fruits:        # 第一个实例\n",
    "   print( '当前水果 :', fruit)"
   ]
  },
  {
   "cell_type": "code",
   "execution_count": 50,
   "metadata": {
    "collapsed": false
   },
   "outputs": [
    {
     "output_type": "stream",
     "name": "stdout",
     "text": [
      "当前字母 : P\n当前字母 : y\n当前字母 : t\n当前字母 : h\n当前字母 : o\n当前字母 : n\n"
     ]
    }
   ],
   "source": [
    "for letter in 'Python':     # 第二个实例\n",
    "   print( '当前字母 :', letter)\n",
    " "
   ]
  },
  {
   "cell_type": "markdown",
   "metadata": {
    "collapsed": false
   },
   "source": [
    "### break continue pass"
   ]
  },
  {
   "cell_type": "markdown",
   "metadata": {
    "collapsed": false
   },
   "source": [
    "如果希望在中间离开循环，也就是 f or 循环结束重复之前，或者 while 循环找到结束条件之\n",
    "前。有两种⽅式来做到：\n",
    "* 使⽤ break 语句来完全终⽌循环。\n",
    "* 使⽤ continue 语句直接跳到循环的下⼀次迭代。"
   ]
  },
  {
   "cell_type": "code",
   "execution_count": 51,
   "metadata": {
    "collapsed": false
   },
   "outputs": [
    {
     "output_type": "stream",
     "name": "stdout",
     "text": [
      "找到了！\n"
     ]
    }
   ],
   "source": [
    "# 查找list_1 中的数字\n",
    "list_1 = [1,6,3,2,8,4]\n",
    "for number in list_1:\n",
    "    if number == 3:\n",
    "        print('找到了！')\n",
    "        break  \n"
   ]
  },
  {
   "cell_type": "code",
   "execution_count": 52,
   "metadata": {
    "collapsed": false
   },
   "outputs": [
    {
     "output_type": "stream",
     "name": "stdout",
     "text": [
      "\n恭喜您，猜对了！\n\n"
     ]
    }
   ],
   "source": [
    "my_number = 3200  # 这是真实的价格\n",
    "guess_number = input('这台冰箱多少钱？') \n",
    "guess_number = int(guess_number)\n",
    "while True:\n",
    "    if guess_number<my_number:   \n",
    "        guess_number = input('猜低了！再猜')\n",
    "        guess_number = int(guess_number)\n",
    "    elif guess_number>my_number:\n",
    "        guess_number = input('猜高了！再猜')\n",
    "        guess_number = int(guess_number)\n",
    "    else:\n",
    "        break\n",
    "    \n",
    "print('\\n恭喜您，猜对了！\\n')"
   ]
  },
  {
   "cell_type": "code",
   "execution_count": 53,
   "metadata": {
    "collapsed": false
   },
   "outputs": [
    {
     "output_type": "stream",
     "name": "stdout",
     "text": [
      "2\n4\n6\n8\n10\n"
     ]
    }
   ],
   "source": [
    "# continue : 跳过本轮 \n",
    "# 打印1-10中的偶数 \n",
    "for i in range(10):\n",
    "    num = i+1\n",
    "    if num%2 == 0:\n",
    "        print(num)\n",
    "    else:\n",
    "        continue\n",
    "# 可以把continue删掉吗？"
   ]
  },
  {
   "cell_type": "code",
   "execution_count": 54,
   "metadata": {
    "collapsed": false
   },
   "outputs": [
    {
     "output_type": "stream",
     "name": "stdout",
     "text": [
      "2\n4\n4\n16\n6\n36\n8\n64\n10\n100\n"
     ]
    }
   ],
   "source": [
    "# continue : 跳过本轮 \n",
    "# 打印1-10中的偶数 \n",
    "for i in range(10):\n",
    "    num = i+1\n",
    "    if num%2 != 0:\n",
    "        continue\n",
    "\n",
    "    print(num)\n",
    "    print(num**2)"
   ]
  },
  {
   "cell_type": "code",
   "execution_count": 55,
   "metadata": {
    "collapsed": false
   },
   "outputs": [],
   "source": [
    "# pass： 占位，还没想好怎么写，先让程序跑起来\n",
    "for i in range(5):\n",
    "    pass"
   ]
  }
 ],
 "metadata": {
  "kernelspec": {
   "name": "python3",
   "display_name": "Python 3.7.5 64-bit",
   "metadata": {
    "interpreter": {
     "hash": "96f0a6fd7bacc9ac6bda1319934040fe1d20d1e8f69bc7d382237d2cb2b52bfe"
    }
   }
  },
  "language_info": {
   "codemirror_mode": {
    "name": "ipython",
    "version": 3
   },
   "file_extension": ".py",
   "mimetype": "text/x-python",
   "name": "python",
   "nbconvert_exporter": "python",
   "pygments_lexer": "ipython3",
   "version": "3.7.5-final"
  }
 },
 "nbformat": 4,
 "nbformat_minor": 1
}