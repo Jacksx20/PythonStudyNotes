{
 "cells": [
  {
   "cell_type": "markdown",
   "metadata": {
    "collapsed": false
   },
   "source": [
    "函数调用函数-》加强函数-》面向切面"
   ]
  },
  {
   "cell_type": "code",
   "execution_count": null,
   "metadata": {
    "collapsed": false
   },
   "outputs": [
    {
     "name": "stdout",
     "output_type": "stream",
     "text": [
      "我们唠10块钱的\n"
     ]
    }
   ],
   "source": [
    "#函数名是可以赋值给变量的\n",
    "def say():\n",
    "    print('我们唠10块钱的')\n",
    "\n",
    "isayhello = say\n",
    "\n",
    "\n",
    "isayhello()\n",
    "\n"
   ]
  },
  {
   "cell_type": "code",
   "execution_count": null,
   "metadata": {
    "collapsed": false
   },
   "outputs": [
    {
     "name": "stdout",
     "output_type": "stream",
     "text": [
      "你好啊\n",
      "我们唠10块钱的\n",
      "再见\n"
     ]
    }
   ],
   "source": [
    "#函数中可以定义函数\n",
    "\n",
    "def say():\n",
    "    def sayHello():\n",
    "        print('你好啊')\n",
    "    def sayBye():\n",
    "        print('再见')\n",
    "\n",
    "    sayHello()\n",
    "    print('我们唠10块钱的')\n",
    "    sayBye()\n",
    "\n",
    "\n",
    "say()"
   ]
  },
  {
   "cell_type": "code",
   "execution_count": null,
   "metadata": {
    "collapsed": false
   },
   "outputs": [
    {
     "name": "stdout",
     "output_type": "stream",
     "text": [
      "你好啊\n",
      "唠5块钱的\n",
      "再见\n",
      "你好啊\n",
      "唠1个点呗\n",
      "再见\n"
     ]
    }
   ],
   "source": [
    "#函数是可以作为参数传递的\n",
    "\n",
    "def say(conv):\n",
    "    def sayHello():\n",
    "        print('你好啊')\n",
    "    def sayBye():\n",
    "        print('再见')\n",
    "\n",
    "    sayHello()\n",
    "    conv()\n",
    "    sayBye()\n",
    "\n",
    "def conv1():\n",
    "    print('唠5块钱的')\n",
    "def conv2():\n",
    "    print('唠1个点呗')\n",
    "say(conv1)\n",
    "say(conv2)\n"
   ]
  },
  {
   "cell_type": "code",
   "execution_count": null,
   "metadata": {
    "collapsed": false
   },
   "outputs": [
    {
     "name": "stdout",
     "output_type": "stream",
     "text": [
      "你好啊\n"
     ]
    }
   ],
   "source": [
    "#函数是可以作为函数的返回值\n",
    "\n",
    "def say(flag):\n",
    "    def sayHello():\n",
    "        print('你好啊')\n",
    "    def sayBye():\n",
    "        print('再见')\n",
    "\n",
    "    if flag == 1:\n",
    "        return sayHello\n",
    "    return sayBye\n",
    "\n",
    "res1 = say(1)\n",
    "res1()"
   ]
  },
  {
   "cell_type": "code",
   "execution_count": null,
   "metadata": {
    "collapsed": false
   },
   "outputs": [
    {
     "name": "stdout",
     "output_type": "stream",
     "text": [
      "你好啊\n",
      "唠5块钱的\n",
      "再见\n",
      "你好啊\n",
      "唠1个点呗\n",
      "再见\n",
      "你好啊\n",
      "唠啥啊，喝吧\n",
      "再见\n"
     ]
    }
   ],
   "source": [
    "#clean的写法\n",
    "\n",
    "def say(conv):\n",
    "    def sayHello():\n",
    "        print('你好啊')\n",
    "    def sayBye():\n",
    "        print('再见')\n",
    "\n",
    "    sayHello()\n",
    "    conv()\n",
    "    sayBye()\n",
    "\n",
    "\n",
    "@say\n",
    "def conv1():\n",
    "    print('唠5块钱的')\n",
    "\n",
    "@say\n",
    "def conv2():\n",
    "    print('唠1个点呗')\n",
    "\n",
    "@say\n",
    "def conv3():\n",
    "    print('唠啥啊，喝吧')"
   ]
  },
  {
   "cell_type": "markdown",
   "metadata": {
    "collapsed": false
   },
   "source": [
    "# 实际使用日志"
   ]
  },
  {
   "cell_type": "code",
   "execution_count": null,
   "metadata": {
    "collapsed": false
   },
   "outputs": [
    {
     "name": "stdout",
     "output_type": "stream",
     "text": [
      "add is call\n",
      "a---1 b----2\n",
      "3\n",
      "mins is call\n",
      "a---1 b----2\n",
      "-1\n",
      "mul is call\n",
      "a---1 b----2\n",
      "2\n",
      "div is call\n",
      "a---1 b----2\n",
      "0.5\n"
     ]
    }
   ],
   "source": [
    "#没用装饰器的时候\n",
    "\n",
    "def add(a,b):\n",
    "    print('add is call')\n",
    "    print('a---%s b----%s'%(a,b))\n",
    "    print(a+b)\n",
    "def mins(a,b):\n",
    "    print('mins is call')\n",
    "    print('a---%s b----%s'%(a,b))\n",
    "    print(a-b)\n",
    "def mul(a,b):\n",
    "    print('mul is call')\n",
    "    print('a---%s b----%s'%(a,b))\n",
    "    print(a*b)\n",
    "def div(a,b):\n",
    "    print('div is call')\n",
    "    print('a---%s b----%s'%(a,b))\n",
    "    print(a/b)\n",
    "\n",
    "add(1,2)\n",
    "mins(1,2)\n",
    "mul(1,2)\n",
    "div(1,2)"
   ]
  },
  {
   "cell_type": "code",
   "execution_count": null,
   "metadata": {
    "collapsed": false
   },
   "outputs": [
    {
     "name": "stdout",
     "output_type": "stream",
     "text": [
      "add was called\n",
      "(1, 2)\n",
      "3\n",
      "mins was called\n",
      "(1, 2)\n",
      "-1\n",
      "mul was called\n",
      "(1, 2)\n",
      "2\n",
      "div was called\n",
      "(1, 2)\n",
      "0.5\n"
     ]
    }
   ],
   "source": [
    "from functools import wraps\n",
    "#使用了装饰器\n",
    "def mylog(func):\n",
    "    @wraps(func)\n",
    "    def with_logging(*args):\n",
    "        print(func.__name__+\" was called\")\n",
    "        print(args)\n",
    "        return func(*args)\n",
    "    return with_logging\n",
    "\n",
    "\n",
    "@mylog\n",
    "def add(a,b):\n",
    "    print(a+b)\n",
    "\n",
    "@mylog\n",
    "def mins(a,b):\n",
    "    print(a-b)\n",
    "\n",
    "@mylog\n",
    "def mul(a,b):\n",
    "    print(a*b)\n",
    "\n",
    "@mylog\n",
    "def div(a,b):\n",
    "    print(a/b)\n",
    "\n",
    "add(1,2)\n",
    "mins(1,2)\n",
    "mul(1,2)\n",
    "div(1,2)\n"
   ]
  }
 ],
 "metadata": {
  "kernelspec": {
   "display_name": "PaddlePaddle 2.0.0b0 (Python 3.5)",
   "language": "python",
   "name": "py35-paddle1.2.0"
  },
  "language_info": {
   "codemirror_mode": {
    "name": "ipython",
    "version": 3
   },
   "file_extension": ".py",
   "mimetype": "text/x-python",
   "name": "python",
   "nbconvert_exporter": "python",
   "pygments_lexer": "ipython3",
   "version": "3.7.4"
  }
 },
 "nbformat": 4,
 "nbformat_minor": 1
}
